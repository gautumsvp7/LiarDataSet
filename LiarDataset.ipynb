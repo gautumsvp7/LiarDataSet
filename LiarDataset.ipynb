{
  "nbformat": 4,
  "nbformat_minor": 0,
  "metadata": {
    "colab": {
      "name": "LiarDataset.ipynb",
      "provenance": [],
      "authorship_tag": "ABX9TyMfMC+u43ZNPovk8SogkGNu",
      "include_colab_link": true
    },
    "kernelspec": {
      "name": "python3",
      "display_name": "Python 3"
    },
    "language_info": {
      "name": "python"
    }
  },
  "cells": [
    {
      "cell_type": "markdown",
      "metadata": {
        "id": "view-in-github",
        "colab_type": "text"
      },
      "source": [
        "<a href=\"https://colab.research.google.com/github/gautumsvp7/LiarDataSet/blob/main/LiarDataset.ipynb\" target=\"_parent\"><img src=\"https://colab.research.google.com/assets/colab-badge.svg\" alt=\"Open In Colab\"/></a>"
      ]
    },
    {
      "cell_type": "code",
      "metadata": {
        "colab": {
          "resources": {
            "http://localhost:8080/nbextensions/google.colab/files.js": {
              "data": "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",
              "ok": true,
              "headers": [
                [
                  "content-type",
                  "application/javascript"
                ]
              ],
              "status": 200,
              "status_text": ""
            }
          },
          "base_uri": "https://localhost:8080/",
          "height": 140
        },
        "id": "YyTz4pzJEz1w",
        "outputId": "153cae34-7cc4-4241-8ae0-094ebfebf334"
      },
      "source": [
        "from google.colab import files\n",
        "uploaded = files.upload()\n"
      ],
      "execution_count": 1,
      "outputs": [
        {
          "output_type": "display_data",
          "data": {
            "text/html": [
              "\n",
              "     <input type=\"file\" id=\"files-2fefcca4-e4d3-463e-a969-59f23ff64ea5\" name=\"files[]\" multiple disabled\n",
              "        style=\"border:none\" />\n",
              "     <output id=\"result-2fefcca4-e4d3-463e-a969-59f23ff64ea5\">\n",
              "      Upload widget is only available when the cell has been executed in the\n",
              "      current browser session. Please rerun this cell to enable.\n",
              "      </output>\n",
              "      <script src=\"/nbextensions/google.colab/files.js\"></script> "
            ],
            "text/plain": [
              "<IPython.core.display.HTML object>"
            ]
          },
          "metadata": {
            "tags": []
          }
        },
        {
          "output_type": "stream",
          "text": [
            "Saving test.tsv to test.tsv\n",
            "Saving train.tsv to train.tsv\n",
            "Saving valid.tsv to valid.tsv\n"
          ],
          "name": "stdout"
        }
      ]
    },
    {
      "cell_type": "code",
      "metadata": {
        "id": "abkh5KhMGiHl"
      },
      "source": [
        "import pandas as pd"
      ],
      "execution_count": 2,
      "outputs": []
    },
    {
      "cell_type": "code",
      "metadata": {
        "id": "gk2ZHxKrFoIk"
      },
      "source": [
        "import io\n",
        "tsk = pd.read_csv(io.BytesIO(uploaded['train.tsv']), sep='\\t')"
      ],
      "execution_count": 3,
      "outputs": []
    },
    {
      "cell_type": "markdown",
      "metadata": {
        "id": "KusnVEAb-6pX"
      },
      "source": [
        "Description of the TSV format:\n",
        "\n",
        "Column 1: the ID of the statement ([ID].json).\n",
        "\n",
        "Column 2: the label.\n",
        "\n",
        "Column 3: the statement.\n",
        "\n",
        "Column 4: the subject(s).\n",
        "\n",
        "Column 5: the speaker.\n",
        "\n",
        "Column 6: the speaker's job title.\n",
        "\n",
        "Column 7: the state info.\n",
        "\n",
        "Column 8: the party affiliation.\n",
        "\n",
        "Column 9-13: the total credit history count, including the current statement.\n",
        "\n",
        "9: barely true counts.\n",
        "\n",
        "10: false counts.\n",
        "\n",
        "11: half true counts.\n",
        "\n",
        "12: mostly true counts.\n",
        "\n",
        "13: pants on fire counts.\n",
        "\n",
        "Column 14: the context (venue / location of the speech or statement).\n"
      ]
    },
    {
      "cell_type": "code",
      "metadata": {
        "id": "nMdigobTXW7w"
      },
      "source": [
        "def read_dataframe(tsv_file: str) -> pd.DataFrame:\n",
        "    \n",
        "    # creates a \"dataframe\" or \"df\" for short. This is similar to a 2-D python dict.\n",
        "    df = pd.read_csv(tsv_file, delimiter='\\t', dtype=object)\n",
        "    \n",
        "    # replaces all \"null\" or \"NaN\" values with an empty string\n",
        "    df.fillna(\"\", inplace=True)\n",
        "    \n",
        "    # labels the columns in the dataset using the data dictionary described in the README\n",
        "    df.columns = [\n",
        "        'id',                # Column 1: the ID of the statement ([ID].json).\n",
        "        'label',             # Column 2: the label.\n",
        "        'statement',         # Column 3: the statement.\n",
        "        'subjects',          # Column 4: the subject(s).\n",
        "        'speaker',           # Column 5: the speaker.\n",
        "        'speaker_job_title', # Column 6: the speaker's job title.\n",
        "        'state_info',        # Column 7: the state info.\n",
        "        'party_affiliation', # Column 8: the party affiliation.\n",
        "        \n",
        "        # Column 9-13: the total credit history count, including the current statement.\n",
        "        'count_1', # barely true counts.\n",
        "        'count_2', # false counts.\n",
        "        'count_3', # half true counts.\n",
        "        'count_4', # mostly true counts.\n",
        "        'count_5', # pants on fire counts.\n",
        "        \n",
        "        'context' # Column 14: the context (venue / location of the speech or statement).\n",
        "    ]\n",
        "    \n",
        "    return df\n",
        "\n",
        "#create a dataframe from the training data\n",
        "df = read_dataframe('train.tsv')"
      ],
      "execution_count": 4,
      "outputs": []
    },
    {
      "cell_type": "code",
      "metadata": {
        "colab": {
          "base_uri": "https://localhost:8080/",
          "height": 635
        },
        "id": "fd8n_2Cm_QVM",
        "outputId": "e2d7ba1f-548b-4c4a-b3dc-bedbf7f36ee8"
      },
      "source": [
        "df.head()"
      ],
      "execution_count": 5,
      "outputs": [
        {
          "output_type": "execute_result",
          "data": {
            "text/html": [
              "<div>\n",
              "<style scoped>\n",
              "    .dataframe tbody tr th:only-of-type {\n",
              "        vertical-align: middle;\n",
              "    }\n",
              "\n",
              "    .dataframe tbody tr th {\n",
              "        vertical-align: top;\n",
              "    }\n",
              "\n",
              "    .dataframe thead th {\n",
              "        text-align: right;\n",
              "    }\n",
              "</style>\n",
              "<table border=\"1\" class=\"dataframe\">\n",
              "  <thead>\n",
              "    <tr style=\"text-align: right;\">\n",
              "      <th></th>\n",
              "      <th>id</th>\n",
              "      <th>label</th>\n",
              "      <th>statement</th>\n",
              "      <th>subjects</th>\n",
              "      <th>speaker</th>\n",
              "      <th>speaker_job_title</th>\n",
              "      <th>state_info</th>\n",
              "      <th>party_affiliation</th>\n",
              "      <th>count_1</th>\n",
              "      <th>count_2</th>\n",
              "      <th>count_3</th>\n",
              "      <th>count_4</th>\n",
              "      <th>count_5</th>\n",
              "      <th>context</th>\n",
              "    </tr>\n",
              "  </thead>\n",
              "  <tbody>\n",
              "    <tr>\n",
              "      <th>0</th>\n",
              "      <td>10540.json</td>\n",
              "      <td>half-true</td>\n",
              "      <td>When did the decline of coal start? It started...</td>\n",
              "      <td>energy,history,job-accomplishments</td>\n",
              "      <td>scott-surovell</td>\n",
              "      <td>State delegate</td>\n",
              "      <td>Virginia</td>\n",
              "      <td>democrat</td>\n",
              "      <td>0</td>\n",
              "      <td>0</td>\n",
              "      <td>1</td>\n",
              "      <td>1</td>\n",
              "      <td>0</td>\n",
              "      <td>a floor speech.</td>\n",
              "    </tr>\n",
              "    <tr>\n",
              "      <th>1</th>\n",
              "      <td>324.json</td>\n",
              "      <td>mostly-true</td>\n",
              "      <td>Hillary Clinton agrees with John McCain \"by vo...</td>\n",
              "      <td>foreign-policy</td>\n",
              "      <td>barack-obama</td>\n",
              "      <td>President</td>\n",
              "      <td>Illinois</td>\n",
              "      <td>democrat</td>\n",
              "      <td>70</td>\n",
              "      <td>71</td>\n",
              "      <td>160</td>\n",
              "      <td>163</td>\n",
              "      <td>9</td>\n",
              "      <td>Denver</td>\n",
              "    </tr>\n",
              "    <tr>\n",
              "      <th>2</th>\n",
              "      <td>1123.json</td>\n",
              "      <td>false</td>\n",
              "      <td>Health care reform legislation is likely to ma...</td>\n",
              "      <td>health-care</td>\n",
              "      <td>blog-posting</td>\n",
              "      <td></td>\n",
              "      <td></td>\n",
              "      <td>none</td>\n",
              "      <td>7</td>\n",
              "      <td>19</td>\n",
              "      <td>3</td>\n",
              "      <td>5</td>\n",
              "      <td>44</td>\n",
              "      <td>a news release</td>\n",
              "    </tr>\n",
              "    <tr>\n",
              "      <th>3</th>\n",
              "      <td>9028.json</td>\n",
              "      <td>half-true</td>\n",
              "      <td>The economic turnaround started at the end of ...</td>\n",
              "      <td>economy,jobs</td>\n",
              "      <td>charlie-crist</td>\n",
              "      <td></td>\n",
              "      <td>Florida</td>\n",
              "      <td>democrat</td>\n",
              "      <td>15</td>\n",
              "      <td>9</td>\n",
              "      <td>20</td>\n",
              "      <td>19</td>\n",
              "      <td>2</td>\n",
              "      <td>an interview on CNN</td>\n",
              "    </tr>\n",
              "    <tr>\n",
              "      <th>4</th>\n",
              "      <td>12465.json</td>\n",
              "      <td>true</td>\n",
              "      <td>The Chicago Bears have had more starting quart...</td>\n",
              "      <td>education</td>\n",
              "      <td>robin-vos</td>\n",
              "      <td>Wisconsin Assembly speaker</td>\n",
              "      <td>Wisconsin</td>\n",
              "      <td>republican</td>\n",
              "      <td>0</td>\n",
              "      <td>3</td>\n",
              "      <td>2</td>\n",
              "      <td>5</td>\n",
              "      <td>1</td>\n",
              "      <td>a an online opinion-piece</td>\n",
              "    </tr>\n",
              "  </tbody>\n",
              "</table>\n",
              "</div>"
            ],
            "text/plain": [
              "           id        label  ... count_5                    context\n",
              "0  10540.json    half-true  ...       0            a floor speech.\n",
              "1    324.json  mostly-true  ...       9                     Denver\n",
              "2   1123.json        false  ...      44             a news release\n",
              "3   9028.json    half-true  ...       2        an interview on CNN\n",
              "4  12465.json         true  ...       1  a an online opinion-piece\n",
              "\n",
              "[5 rows x 14 columns]"
            ]
          },
          "metadata": {
            "tags": []
          },
          "execution_count": 5
        }
      ]
    },
    {
      "cell_type": "code",
      "metadata": {
        "colab": {
          "base_uri": "https://localhost:8080/"
        },
        "id": "BSE1M6XS_h9I",
        "outputId": "86c13fab-a093-4251-d679-d8dc2c1bbb2f"
      },
      "source": [
        "df.info()"
      ],
      "execution_count": 6,
      "outputs": [
        {
          "output_type": "stream",
          "text": [
            "<class 'pandas.core.frame.DataFrame'>\n",
            "RangeIndex: 10239 entries, 0 to 10238\n",
            "Data columns (total 14 columns):\n",
            " #   Column             Non-Null Count  Dtype \n",
            "---  ------             --------------  ----- \n",
            " 0   id                 10239 non-null  object\n",
            " 1   label              10239 non-null  object\n",
            " 2   statement          10239 non-null  object\n",
            " 3   subjects           10239 non-null  object\n",
            " 4   speaker            10239 non-null  object\n",
            " 5   speaker_job_title  10239 non-null  object\n",
            " 6   state_info         10239 non-null  object\n",
            " 7   party_affiliation  10239 non-null  object\n",
            " 8   count_1            10239 non-null  object\n",
            " 9   count_2            10239 non-null  object\n",
            " 10  count_3            10239 non-null  object\n",
            " 11  count_4            10239 non-null  object\n",
            " 12  count_5            10239 non-null  object\n",
            " 13  context            10239 non-null  object\n",
            "dtypes: object(14)\n",
            "memory usage: 1.1+ MB\n"
          ],
          "name": "stdout"
        }
      ]
    },
    {
      "cell_type": "code",
      "metadata": {
        "colab": {
          "base_uri": "https://localhost:8080/"
        },
        "id": "Hgv6IhhD_qFk",
        "outputId": "61f6bbc2-22a3-40a7-90a4-c19e016a1f17"
      },
      "source": [
        "def print_row(input_df: pd.DataFrame, index: int) -> None:\n",
        "    \"\"\"Most relevant columns for today's analysis\"\"\"\n",
        "    print(f\"speaker: {input_df.iat[index, 4]}\")\n",
        "    print(f\"subject(s): {input_df.iat[index, 3]}\")\n",
        "    print(f\"statement: {input_df.iat[index, 2]}\")\n",
        "    print(f\"label: {input_df.iat[index, 1]}\")\n",
        "\n",
        "print_row(df,1)"
      ],
      "execution_count": 7,
      "outputs": [
        {
          "output_type": "stream",
          "text": [
            "speaker: barack-obama\n",
            "subject(s): foreign-policy\n",
            "statement: Hillary Clinton agrees with John McCain \"by voting to give George Bush the benefit of the doubt on Iran.\"\n",
            "label: mostly-true\n"
          ],
          "name": "stdout"
        }
      ]
    },
    {
      "cell_type": "markdown",
      "metadata": {
        "id": "9zvD8nAn_1Oh"
      },
      "source": [
        "## Exploratory Data analysis"
      ]
    },
    {
      "cell_type": "markdown",
      "metadata": {
        "id": "6hfbwI7FAFEw"
      },
      "source": [
        "These definitions were taken from PolitiFact's \"truth-o-meter\" methodology page\n",
        "\n",
        "true – The statement is accurate and there’s nothing significant missing.\n",
        "\n",
        "mostly-true – The statement is accurate but needs clarification or additional information.\n",
        "\n",
        "half-true – The statement is partially accurate but leaves out important details or takes things out of context.\n",
        "\n",
        "barely-true – The statement contains an element of truth but ignores critical facts that would give a different impression.\n",
        "\n",
        "false – The statement is not accurate.\n",
        "\n",
        "pants-fire – The statement is not accurate and makes a ridiculous claim. a.k.a. \"Liar, Liar, Pants on Fire!\""
      ]
    },
    {
      "cell_type": "code",
      "metadata": {
        "colab": {
          "base_uri": "https://localhost:8080/",
          "height": 506
        },
        "id": "KV4JhzbtAOsr",
        "outputId": "a60bf662-16c7-44b3-a6ab-979b085dcba2"
      },
      "source": [
        "import seaborn as sns \n",
        "sns.set()\n",
        "\n",
        "\n",
        "def label_bar_chart(input_df: pd.DataFrame, title: str = \"LIAR Dataset\") -> None:\n",
        "    \n",
        "    # computes frequencies of labels and converts to percentages\n",
        "    label_frequencies = input_df['label'].value_counts(normalize=True)\n",
        "    \n",
        "    def multiply_100(x):\n",
        "        return x * 100\n",
        "    \n",
        "    # \"apply\" is a handy way to call a function on every row of data.\n",
        "    label_frequencies = label_frequencies.apply(multiply_100)\n",
        "    \n",
        "    # bar chart ordering and  colors for readability.\n",
        "    labels = ['pants-fire', 'false', 'barely-true', 'half-true', 'mostly-true', 'true']\n",
        "    colors = [\n",
        "        'orangered', # pants-fire\n",
        "        'coral', # false\n",
        "        'salmon', # barely-true\n",
        "        'peachpuff', # half-true\n",
        "        'skyblue', # mostly-true\n",
        "        'deepskyblue' # true\n",
        "    ]\n",
        "    \n",
        "    label_frequencies = label_frequencies.reindex(index = labels)\n",
        "    \n",
        "    \n",
        "    # creates a horizontal bar chart with a descriptive title\n",
        "    axis = label_frequencies.plot(kind='barh', figsize=(12, 8), color=colors)\n",
        "    axis.set_title(f\"distribution of label values ({title}, sample_size={len(input_df)})\", size=20);\n",
        "    \n",
        "\n",
        "# create bar chart over labels for the entire LIAR dataset.\n",
        "label_bar_chart(df)"
      ],
      "execution_count": 8,
      "outputs": [
        {
          "output_type": "display_data",
          "data": {
            "image/png": "[encoded data removed]",
            "text/plain": [
              "<Figure size 864x576 with 1 Axes>"
            ]
          },
          "metadata": {
            "tags": []
          }
        }
      ]
    },
    {
      "cell_type": "code",
      "metadata": {
        "colab": {
          "base_uri": "https://localhost:8080/"
        },
        "id": "8w9E3gtXAjlm",
        "outputId": "da0ea6aa-c3f6-4f9f-8953-193147910484"
      },
      "source": [
        "num_unique_speakers = df['speaker'].nunique()\n",
        "avg_statments = len(df) / num_unique_speakers\n",
        "\n",
        "print(f\"Unique speakers in dataset: {num_unique_speakers}\")\n",
        "print(f\"Average statements made per speaker: {avg_statments}\")"
      ],
      "execution_count": 9,
      "outputs": [
        {
          "output_type": "stream",
          "text": [
            "Unique speakers in dataset: 2910\n",
            "Average statements made per speaker: 3.5185567010309278\n"
          ],
          "name": "stdout"
        }
      ]
    },
    {
      "cell_type": "code",
      "metadata": {
        "colab": {
          "base_uri": "https://localhost:8080/",
          "height": 506
        },
        "id": "rOMC2T5BA2IA",
        "outputId": "190f08c7-1ba3-4107-841b-44e67a963b0d"
      },
      "source": [
        "def speaker_bar_chart(input_df: pd.DataFrame, speaker: str) -> pd.DataFrame:\n",
        "    \n",
        "    # filters the input_df\n",
        "    speaker_df = input_df[ input_df['speaker'] == speaker ]\n",
        "    speaker_df.reset_index(inplace=True)\n",
        "    \n",
        "    # calls the bar chart function we created earlier\n",
        "    label_bar_chart(speaker_df, title=speaker)\n",
        "    \n",
        "    return speaker_df\n",
        "    \n",
        "\n",
        "# create a bar chart over labels for a single speaker. Store the returned dataframe to a variable.\n",
        "ret_df = speaker_bar_chart(df, 'donald-trump')"
      ],
      "execution_count": 10,
      "outputs": [
        {
          "output_type": "display_data",
          "data": {
            "image/png": "[encoded data removed]",
            "text/plain": [
              "<Figure size 864x576 with 1 Axes>"
            ]
          },
          "metadata": {
            "tags": []
          }
        }
      ]
    },
    {
      "cell_type": "code",
      "metadata": {
        "colab": {
          "base_uri": "https://localhost:8080/",
          "height": 195
        },
        "id": "yzPUZGbiB1S0",
        "outputId": "ba7de4fc-5eb9-4826-fe4f-0ac1a0542c98"
      },
      "source": [
        "# this creates a new dataframe that only contains the label and subjects columns.\n",
        "subject_df = df[['label', 'subjects']].copy()\n",
        "\n",
        "# # start by turning the comma-separated values into a list of values\n",
        "def csv_to_list(x):\n",
        "    return x.split(\",\")\n",
        "\n",
        "subject_df['subjects'] = subject_df['subjects'].apply(csv_to_list)\n",
        "\n",
        "subject_df = subject_df.explode('subjects')\n",
        "\n",
        "subject_df.head()"
      ],
      "execution_count": 11,
      "outputs": [
        {
          "output_type": "execute_result",
          "data": {
            "text/html": [
              "<div>\n",
              "<style scoped>\n",
              "    .dataframe tbody tr th:only-of-type {\n",
              "        vertical-align: middle;\n",
              "    }\n",
              "\n",
              "    .dataframe tbody tr th {\n",
              "        vertical-align: top;\n",
              "    }\n",
              "\n",
              "    .dataframe thead th {\n",
              "        text-align: right;\n",
              "    }\n",
              "</style>\n",
              "<table border=\"1\" class=\"dataframe\">\n",
              "  <thead>\n",
              "    <tr style=\"text-align: right;\">\n",
              "      <th></th>\n",
              "      <th>label</th>\n",
              "      <th>subjects</th>\n",
              "    </tr>\n",
              "  </thead>\n",
              "  <tbody>\n",
              "    <tr>\n",
              "      <th>0</th>\n",
              "      <td>half-true</td>\n",
              "      <td>energy</td>\n",
              "    </tr>\n",
              "    <tr>\n",
              "      <th>0</th>\n",
              "      <td>half-true</td>\n",
              "      <td>history</td>\n",
              "    </tr>\n",
              "    <tr>\n",
              "      <th>0</th>\n",
              "      <td>half-true</td>\n",
              "      <td>job-accomplishments</td>\n",
              "    </tr>\n",
              "    <tr>\n",
              "      <th>1</th>\n",
              "      <td>mostly-true</td>\n",
              "      <td>foreign-policy</td>\n",
              "    </tr>\n",
              "    <tr>\n",
              "      <th>2</th>\n",
              "      <td>false</td>\n",
              "      <td>health-care</td>\n",
              "    </tr>\n",
              "  </tbody>\n",
              "</table>\n",
              "</div>"
            ],
            "text/plain": [
              "         label             subjects\n",
              "0    half-true               energy\n",
              "0    half-true              history\n",
              "0    half-true  job-accomplishments\n",
              "1  mostly-true       foreign-policy\n",
              "2        false          health-care"
            ]
          },
          "metadata": {
            "tags": []
          },
          "execution_count": 11
        }
      ]
    },
    {
      "cell_type": "code",
      "metadata": {
        "colab": {
          "base_uri": "https://localhost:8080/"
        },
        "id": "nbCgAZllEHBu",
        "outputId": "c21d73dd-6ca2-475e-b7be-6c86a444e4d1"
      },
      "source": [
        "subject_df.info"
      ],
      "execution_count": 12,
      "outputs": [
        {
          "output_type": "execute_result",
          "data": {
            "text/plain": [
              "<bound method DataFrame.info of              label             subjects\n",
              "0        half-true               energy\n",
              "0        half-true              history\n",
              "0        half-true  job-accomplishments\n",
              "1      mostly-true       foreign-policy\n",
              "2            false          health-care\n",
              "...            ...                  ...\n",
              "10236    half-true      social-security\n",
              "10237        false              florida\n",
              "10237        false       foreign-policy\n",
              "10238   pants-fire          health-care\n",
              "10238   pants-fire             veterans\n",
              "\n",
              "[22204 rows x 2 columns]>"
            ]
          },
          "metadata": {
            "tags": []
          },
          "execution_count": 12
        }
      ]
    },
    {
      "cell_type": "code",
      "metadata": {
        "colab": {
          "base_uri": "https://localhost:8080/"
        },
        "id": "arBHWSxtEQIL",
        "outputId": "ce28a284-93d0-48ed-f0c9-847a312893c8"
      },
      "source": [
        "num_unique_subjects = subject_df['subjects'].nunique()\n",
        "\n",
        "print(f\"Unique subjects in dataset: {num_unique_subjects}\")"
      ],
      "execution_count": 13,
      "outputs": [
        {
          "output_type": "stream",
          "text": [
            "Unique subjects in dataset: 143\n"
          ],
          "name": "stdout"
        }
      ]
    },
    {
      "cell_type": "code",
      "metadata": {
        "colab": {
          "base_uri": "https://localhost:8080/",
          "height": 506
        },
        "id": "h933nbZMEZsN",
        "outputId": "15997053-f48e-4e40-dd28-88f878ca27a0"
      },
      "source": [
        "# 'energy', 'poverty', 'taxes', 'climate-change', 'obama-birth-certificate'\n",
        "# list(subject_df['subjects'].unique())\n",
        "\n",
        "def subject_bar_chart(input_df: pd.DataFrame, subject: str) -> pd.DataFrame:\n",
        "    \n",
        "    # filters the input_df\n",
        "    ret_df = input_df[ input_df['subjects'] == subject ]\n",
        "    ret_df.reset_index(inplace=True)\n",
        "    \n",
        "    # calls the bar chart function we created earlier\n",
        "    label_bar_chart(ret_df, title=subject)\n",
        "    \n",
        "    return ret_df\n",
        "    \n",
        "\n",
        "# create a bar chart over labels for a single subject. Store the returned dataframe to a variable.\n",
        "ret_df = subject_bar_chart(subject_df, 'poverty')"
      ],
      "execution_count": 14,
      "outputs": [
        {
          "output_type": "display_data",
          "data": {
            "image/png": "[encoded data removed]",
            "text/plain": [
              "<Figure size 864x576 with 1 Axes>"
            ]
          },
          "metadata": {
            "tags": []
          }
        }
      ]
    },
    {
      "cell_type": "code",
      "metadata": {
        "colab": {
          "base_uri": "https://localhost:8080/",
          "height": 635
        },
        "id": "hV7K6aRMg3Zw",
        "outputId": "c77e7fca-2746-4b77-b926-e399b2eff865"
      },
      "source": [
        "df.head()"
      ],
      "execution_count": 15,
      "outputs": [
        {
          "output_type": "execute_result",
          "data": {
            "text/html": [
              "<div>\n",
              "<style scoped>\n",
              "    .dataframe tbody tr th:only-of-type {\n",
              "        vertical-align: middle;\n",
              "    }\n",
              "\n",
              "    .dataframe tbody tr th {\n",
              "        vertical-align: top;\n",
              "    }\n",
              "\n",
              "    .dataframe thead th {\n",
              "        text-align: right;\n",
              "    }\n",
              "</style>\n",
              "<table border=\"1\" class=\"dataframe\">\n",
              "  <thead>\n",
              "    <tr style=\"text-align: right;\">\n",
              "      <th></th>\n",
              "      <th>id</th>\n",
              "      <th>label</th>\n",
              "      <th>statement</th>\n",
              "      <th>subjects</th>\n",
              "      <th>speaker</th>\n",
              "      <th>speaker_job_title</th>\n",
              "      <th>state_info</th>\n",
              "      <th>party_affiliation</th>\n",
              "      <th>count_1</th>\n",
              "      <th>count_2</th>\n",
              "      <th>count_3</th>\n",
              "      <th>count_4</th>\n",
              "      <th>count_5</th>\n",
              "      <th>context</th>\n",
              "    </tr>\n",
              "  </thead>\n",
              "  <tbody>\n",
              "    <tr>\n",
              "      <th>0</th>\n",
              "      <td>10540.json</td>\n",
              "      <td>half-true</td>\n",
              "      <td>When did the decline of coal start? It started...</td>\n",
              "      <td>energy,history,job-accomplishments</td>\n",
              "      <td>scott-surovell</td>\n",
              "      <td>State delegate</td>\n",
              "      <td>Virginia</td>\n",
              "      <td>democrat</td>\n",
              "      <td>0</td>\n",
              "      <td>0</td>\n",
              "      <td>1</td>\n",
              "      <td>1</td>\n",
              "      <td>0</td>\n",
              "      <td>a floor speech.</td>\n",
              "    </tr>\n",
              "    <tr>\n",
              "      <th>1</th>\n",
              "      <td>324.json</td>\n",
              "      <td>mostly-true</td>\n",
              "      <td>Hillary Clinton agrees with John McCain \"by vo...</td>\n",
              "      <td>foreign-policy</td>\n",
              "      <td>barack-obama</td>\n",
              "      <td>President</td>\n",
              "      <td>Illinois</td>\n",
              "      <td>democrat</td>\n",
              "      <td>70</td>\n",
              "      <td>71</td>\n",
              "      <td>160</td>\n",
              "      <td>163</td>\n",
              "      <td>9</td>\n",
              "      <td>Denver</td>\n",
              "    </tr>\n",
              "    <tr>\n",
              "      <th>2</th>\n",
              "      <td>1123.json</td>\n",
              "      <td>false</td>\n",
              "      <td>Health care reform legislation is likely to ma...</td>\n",
              "      <td>health-care</td>\n",
              "      <td>blog-posting</td>\n",
              "      <td></td>\n",
              "      <td></td>\n",
              "      <td>none</td>\n",
              "      <td>7</td>\n",
              "      <td>19</td>\n",
              "      <td>3</td>\n",
              "      <td>5</td>\n",
              "      <td>44</td>\n",
              "      <td>a news release</td>\n",
              "    </tr>\n",
              "    <tr>\n",
              "      <th>3</th>\n",
              "      <td>9028.json</td>\n",
              "      <td>half-true</td>\n",
              "      <td>The economic turnaround started at the end of ...</td>\n",
              "      <td>economy,jobs</td>\n",
              "      <td>charlie-crist</td>\n",
              "      <td></td>\n",
              "      <td>Florida</td>\n",
              "      <td>democrat</td>\n",
              "      <td>15</td>\n",
              "      <td>9</td>\n",
              "      <td>20</td>\n",
              "      <td>19</td>\n",
              "      <td>2</td>\n",
              "      <td>an interview on CNN</td>\n",
              "    </tr>\n",
              "    <tr>\n",
              "      <th>4</th>\n",
              "      <td>12465.json</td>\n",
              "      <td>true</td>\n",
              "      <td>The Chicago Bears have had more starting quart...</td>\n",
              "      <td>education</td>\n",
              "      <td>robin-vos</td>\n",
              "      <td>Wisconsin Assembly speaker</td>\n",
              "      <td>Wisconsin</td>\n",
              "      <td>republican</td>\n",
              "      <td>0</td>\n",
              "      <td>3</td>\n",
              "      <td>2</td>\n",
              "      <td>5</td>\n",
              "      <td>1</td>\n",
              "      <td>a an online opinion-piece</td>\n",
              "    </tr>\n",
              "  </tbody>\n",
              "</table>\n",
              "</div>"
            ],
            "text/plain": [
              "           id        label  ... count_5                    context\n",
              "0  10540.json    half-true  ...       0            a floor speech.\n",
              "1    324.json  mostly-true  ...       9                     Denver\n",
              "2   1123.json        false  ...      44             a news release\n",
              "3   9028.json    half-true  ...       2        an interview on CNN\n",
              "4  12465.json         true  ...       1  a an online opinion-piece\n",
              "\n",
              "[5 rows x 14 columns]"
            ]
          },
          "metadata": {
            "tags": []
          },
          "execution_count": 15
        }
      ]
    },
    {
      "cell_type": "code",
      "metadata": {
        "id": "McLJ9VWSCKpV"
      },
      "source": [
        "y_test = pd.read_csv(io.BytesIO(uploaded['test.tsv']), sep='\\t')"
      ],
      "execution_count": 16,
      "outputs": []
    },
    {
      "cell_type": "markdown",
      "metadata": {
        "id": "EzbJP1h9h6Ca"
      },
      "source": [
        "# Sentiment Analysis"
      ]
    },
    {
      "cell_type": "code",
      "metadata": {
        "id": "MVnc9L7fg7cO"
      },
      "source": [
        "from typing import Dict\n",
        "\n",
        "\n",
        "def score_label(label: str) -> float:\n",
        "    scores = {\n",
        "        'true': 2,\n",
        "        'mostly-true': 1,\n",
        "        'half-true': 0,\n",
        "        'barely-true': -1,\n",
        "        'false': -2,\n",
        "        'pants-fire': -3\n",
        "    }\n",
        "    return scores[label]\n",
        "\n",
        "\n",
        "def model_speaker_statements(input_df: pd.DataFrame) -> Dict[str, Dict[str, float]]:\n",
        "    \n",
        "    tot = {}\n",
        "    count = {}\n",
        "    \n",
        "    # for each row in the input_df\n",
        "    for _, row in input_df.T.items():\n",
        "        \n",
        "        # grab the pertinent information\n",
        "        speaker = row['speaker']\n",
        "        score = score_label(row['label'])\n",
        "        words = row['statement'].lower().split()\n",
        "        \n",
        "        # prevents double counting of words\n",
        "        uniques = []\n",
        "        \n",
        "        for word in words:\n",
        "            # if its a word we've already seen, skip processing\n",
        "            if word in uniques:\n",
        "                continue\n",
        "                    \n",
        "            uniques.append(word)\n",
        "            \n",
        "            if speaker in tot:\n",
        "                if word in tot[speaker]:\n",
        "                    tot[speaker][word] += score\n",
        "                    count[speaker][word] += 1\n",
        "                else:\n",
        "                    tot[speaker][word] = score\n",
        "                    count[speaker][word] = 1\n",
        "                    \n",
        "            else:\n",
        "                tot[speaker] = {}\n",
        "                tot[speaker][word] = score\n",
        "                \n",
        "                count[speaker] = {}\n",
        "                count[speaker][word] = 1\n",
        "                \n",
        "    \n",
        "    # compute averages and return model\n",
        "    for speaker in tot:\n",
        "        for word in tot[speaker]:\n",
        "            tot[speaker][word] = tot[speaker][word] / count[speaker][word]\n",
        "            \n",
        "    return tot\n",
        "\n",
        "\n",
        "def score_speaker_statement(model: Dict[str, Dict[str, float]], speaker: str, phrase: str) -> float:\n",
        "        \n",
        "    idx = 0\n",
        "    score = 0\n",
        "    for word in phrase.split():\n",
        "        word = word.lower()\n",
        "        \n",
        "        if word in model[speaker]:\n",
        "            score += model[speaker][word]\n",
        "            idx += 1\n",
        "            \n",
        "    if not idx:\n",
        "        return None\n",
        "    \n",
        "    return score / idx\n",
        "                                        \n",
        "\n",
        "def sentiment_speaker_statement(model: Dict[str, Dict[str, float]], speaker: str, phrase: str) -> str:\n",
        "\n",
        "    score = score_speaker_statement(model, speaker, phrase)\n",
        "\n",
        "    if score is None:\n",
        "        return None\n",
        "    \n",
        "    if score <= 0:\n",
        "        return False\n",
        "    \n",
        "    return True"
      ],
      "execution_count": 17,
      "outputs": []
    },
    {
      "cell_type": "code",
      "metadata": {
        "id": "E4zLU34pg8_q"
      },
      "source": [
        "from IPython.display import Image\n",
        "\n",
        "# build a model from the liar dataset\n",
        "model = model_speaker_statements(df)"
      ],
      "execution_count": 18,
      "outputs": []
    },
    {
      "cell_type": "markdown",
      "metadata": {
        "id": "Acmy2uIuiAtz"
      },
      "source": [
        "**Testing the model**"
      ]
    },
    {
      "cell_type": "code",
      "metadata": {
        "colab": {
          "base_uri": "https://localhost:8080/",
          "height": 0
        },
        "id": "2beEpBCjhB_H",
        "outputId": "e1d0813a-367d-456c-82e4-3850e9766b5d"
      },
      "source": [
        "outcome = sentiment_speaker_statement(model, 'joe-biden', \"A new, independent study put out last week found that at least 55 of our largest corporations used various loopholes to pay zero federal income tax in 2020.\")\n",
        "print(f\"Model outcome: {outcome}\\n\")\n",
        "\n",
        "Image(\"../input/liarscreenshots/Screen Shot 2021-04-18 at 10.27.43 PM.png\") # https://www.politifact.com/personalities/joe-biden/"
      ],
      "execution_count": 19,
      "outputs": [
        {
          "output_type": "stream",
          "text": [
            "Model outcome: True\n",
            "\n"
          ],
          "name": "stdout"
        },
        {
          "output_type": "execute_result",
          "data": {
            "image/png": "../input/liarscreenshots/Screen Shot 2021-04-18 at 10.27.43 PM.png",
            "text/plain": [
              "<IPython.core.display.Image object>"
            ]
          },
          "metadata": {
            "tags": []
          },
          "execution_count": 19
        }
      ]
    },
    {
      "cell_type": "code",
      "metadata": {
        "colab": {
          "base_uri": "https://localhost:8080/",
          "height": 0
        },
        "id": "glYDVQwQCPAD",
        "outputId": "5222f0bc-542c-4e72-824f-138d642bb6b8"
      },
      "source": [
        "y_test.head()"
      ],
      "execution_count": 20,
      "outputs": [
        {
          "output_type": "execute_result",
          "data": {
            "text/html": [
              "<div>\n",
              "<style scoped>\n",
              "    .dataframe tbody tr th:only-of-type {\n",
              "        vertical-align: middle;\n",
              "    }\n",
              "\n",
              "    .dataframe tbody tr th {\n",
              "        vertical-align: top;\n",
              "    }\n",
              "\n",
              "    .dataframe thead th {\n",
              "        text-align: right;\n",
              "    }\n",
              "</style>\n",
              "<table border=\"1\" class=\"dataframe\">\n",
              "  <thead>\n",
              "    <tr style=\"text-align: right;\">\n",
              "      <th></th>\n",
              "      <th>11972.json</th>\n",
              "      <th>true</th>\n",
              "      <th>Building a wall on the U.S.-Mexico border will take literally years.</th>\n",
              "      <th>immigration</th>\n",
              "      <th>rick-perry</th>\n",
              "      <th>Governor</th>\n",
              "      <th>Texas</th>\n",
              "      <th>republican</th>\n",
              "      <th>30</th>\n",
              "      <th>30.1</th>\n",
              "      <th>42</th>\n",
              "      <th>23</th>\n",
              "      <th>18</th>\n",
              "      <th>Radio interview</th>\n",
              "    </tr>\n",
              "  </thead>\n",
              "  <tbody>\n",
              "    <tr>\n",
              "      <th>0</th>\n",
              "      <td>11685.json</td>\n",
              "      <td>false</td>\n",
              "      <td>Wisconsin is on pace to double the number of l...</td>\n",
              "      <td>jobs</td>\n",
              "      <td>katrina-shankland</td>\n",
              "      <td>State representative</td>\n",
              "      <td>Wisconsin</td>\n",
              "      <td>democrat</td>\n",
              "      <td>2</td>\n",
              "      <td>1</td>\n",
              "      <td>0</td>\n",
              "      <td>0</td>\n",
              "      <td>0</td>\n",
              "      <td>a news conference</td>\n",
              "    </tr>\n",
              "    <tr>\n",
              "      <th>1</th>\n",
              "      <td>11096.json</td>\n",
              "      <td>false</td>\n",
              "      <td>Says John McCain has done nothing to help the ...</td>\n",
              "      <td>military,veterans,voting-record</td>\n",
              "      <td>donald-trump</td>\n",
              "      <td>President-Elect</td>\n",
              "      <td>New York</td>\n",
              "      <td>republican</td>\n",
              "      <td>63</td>\n",
              "      <td>114</td>\n",
              "      <td>51</td>\n",
              "      <td>37</td>\n",
              "      <td>61</td>\n",
              "      <td>comments on ABC's This Week.</td>\n",
              "    </tr>\n",
              "    <tr>\n",
              "      <th>2</th>\n",
              "      <td>5209.json</td>\n",
              "      <td>half-true</td>\n",
              "      <td>Suzanne Bonamici supports a plan that will cut...</td>\n",
              "      <td>medicare,message-machine-2012,campaign-adverti...</td>\n",
              "      <td>rob-cornilles</td>\n",
              "      <td>consultant</td>\n",
              "      <td>Oregon</td>\n",
              "      <td>republican</td>\n",
              "      <td>1</td>\n",
              "      <td>1</td>\n",
              "      <td>3</td>\n",
              "      <td>1</td>\n",
              "      <td>1</td>\n",
              "      <td>a radio show</td>\n",
              "    </tr>\n",
              "    <tr>\n",
              "      <th>3</th>\n",
              "      <td>9524.json</td>\n",
              "      <td>pants-fire</td>\n",
              "      <td>When asked by a reporter whether hes at the ce...</td>\n",
              "      <td>campaign-finance,legal-issues,campaign-adverti...</td>\n",
              "      <td>state-democratic-party-wisconsin</td>\n",
              "      <td>NaN</td>\n",
              "      <td>Wisconsin</td>\n",
              "      <td>democrat</td>\n",
              "      <td>5</td>\n",
              "      <td>7</td>\n",
              "      <td>2</td>\n",
              "      <td>2</td>\n",
              "      <td>7</td>\n",
              "      <td>a web video</td>\n",
              "    </tr>\n",
              "    <tr>\n",
              "      <th>4</th>\n",
              "      <td>5962.json</td>\n",
              "      <td>true</td>\n",
              "      <td>Over the past five years the federal governmen...</td>\n",
              "      <td>federal-budget,pensions,retirement</td>\n",
              "      <td>brendan-doherty</td>\n",
              "      <td>NaN</td>\n",
              "      <td>Rhode Island</td>\n",
              "      <td>republican</td>\n",
              "      <td>1</td>\n",
              "      <td>2</td>\n",
              "      <td>1</td>\n",
              "      <td>1</td>\n",
              "      <td>0</td>\n",
              "      <td>a campaign website</td>\n",
              "    </tr>\n",
              "  </tbody>\n",
              "</table>\n",
              "</div>"
            ],
            "text/plain": [
              "   11972.json        true  ...  18               Radio interview\n",
              "0  11685.json       false  ...   0             a news conference\n",
              "1  11096.json       false  ...  61  comments on ABC's This Week.\n",
              "2   5209.json   half-true  ...   1                  a radio show\n",
              "3   9524.json  pants-fire  ...   7                   a web video\n",
              "4   5962.json        true  ...   0            a campaign website\n",
              "\n",
              "[5 rows x 14 columns]"
            ]
          },
          "metadata": {
            "tags": []
          },
          "execution_count": 20
        }
      ]
    },
    {
      "cell_type": "code",
      "metadata": {
        "id": "SX860VtUDKhl"
      },
      "source": [
        ""
      ],
      "execution_count": 20,
      "outputs": []
    },
    {
      "cell_type": "markdown",
      "metadata": {
        "id": "ePO7bPuHFXi2"
      },
      "source": [
        "# SVM"
      ]
    },
    {
      "cell_type": "code",
      "metadata": {
        "id": "S48fTD0oFZLJ",
        "colab": {
          "base_uri": "https://localhost:8080/",
          "height": 195
        },
        "outputId": "d7c934d9-3fb2-47c9-bb7d-c9c77ca2352a"
      },
      "source": [
        "# this creates a new dataframe that only contains the label and subjects columns.\n",
        "subject_df = df[['label', 'statement']].copy()\n",
        "\n",
        "# # start by turning the comma-separated values into a list of values\n",
        "def csv_to_list(x):\n",
        "    return x.split(\",\")\n",
        "\n",
        "subject_df['statement'] = subject_df['statement'].apply(csv_to_list)\n",
        "\n",
        "subject_df = subject_df.explode('statement')\n",
        "\n",
        "subject_df.head()"
      ],
      "execution_count": 21,
      "outputs": [
        {
          "output_type": "execute_result",
          "data": {
            "text/html": [
              "<div>\n",
              "<style scoped>\n",
              "    .dataframe tbody tr th:only-of-type {\n",
              "        vertical-align: middle;\n",
              "    }\n",
              "\n",
              "    .dataframe tbody tr th {\n",
              "        vertical-align: top;\n",
              "    }\n",
              "\n",
              "    .dataframe thead th {\n",
              "        text-align: right;\n",
              "    }\n",
              "</style>\n",
              "<table border=\"1\" class=\"dataframe\">\n",
              "  <thead>\n",
              "    <tr style=\"text-align: right;\">\n",
              "      <th></th>\n",
              "      <th>label</th>\n",
              "      <th>statement</th>\n",
              "    </tr>\n",
              "  </thead>\n",
              "  <tbody>\n",
              "    <tr>\n",
              "      <th>0</th>\n",
              "      <td>half-true</td>\n",
              "      <td>When did the decline of coal start? It started...</td>\n",
              "    </tr>\n",
              "    <tr>\n",
              "      <th>1</th>\n",
              "      <td>mostly-true</td>\n",
              "      <td>Hillary Clinton agrees with John McCain \"by vo...</td>\n",
              "    </tr>\n",
              "    <tr>\n",
              "      <th>2</th>\n",
              "      <td>false</td>\n",
              "      <td>Health care reform legislation is likely to ma...</td>\n",
              "    </tr>\n",
              "    <tr>\n",
              "      <th>3</th>\n",
              "      <td>half-true</td>\n",
              "      <td>The economic turnaround started at the end of ...</td>\n",
              "    </tr>\n",
              "    <tr>\n",
              "      <th>4</th>\n",
              "      <td>true</td>\n",
              "      <td>The Chicago Bears have had more starting quart...</td>\n",
              "    </tr>\n",
              "  </tbody>\n",
              "</table>\n",
              "</div>"
            ],
            "text/plain": [
              "         label                                          statement\n",
              "0    half-true  When did the decline of coal start? It started...\n",
              "1  mostly-true  Hillary Clinton agrees with John McCain \"by vo...\n",
              "2        false  Health care reform legislation is likely to ma...\n",
              "3    half-true  The economic turnaround started at the end of ...\n",
              "4         true  The Chicago Bears have had more starting quart..."
            ]
          },
          "metadata": {
            "tags": []
          },
          "execution_count": 21
        }
      ]
    },
    {
      "cell_type": "code",
      "metadata": {
        "id": "EGWVS9tkIh8N"
      },
      "source": [
        "#import pandas as pd\n",
        "#import numpy as np\n",
        "from nltk.tokenize import word_tokenize\n",
        "from nltk import pos_tag\n",
        "from nltk.corpus import stopwords\n",
        "from nltk.stem import WordNetLemmatizer\n",
        "from sklearn.preprocessing import LabelEncoder\n",
        "from collections import defaultdict\n",
        "from nltk.corpus import wordnet as wn\n",
        "from sklearn.feature_extraction.text import TfidfVectorizer\n",
        "from sklearn import model_selection, naive_bayes, svm\n",
        "from sklearn.metrics import accuracy_score"
      ],
      "execution_count": 22,
      "outputs": []
    },
    {
      "cell_type": "markdown",
      "metadata": {
        "id": "6vo6-8eWMXgM"
      },
      "source": [
        "NLTK Library has word_tokenize and sent_tokenize to easily break a stream of text into a list of words or sentences, respectively."
      ]
    },
    {
      "cell_type": "code",
      "metadata": {
        "colab": {
          "base_uri": "https://localhost:8080/",
          "height": 195
        },
        "id": "HsszJ2WTMIXP",
        "outputId": "14e0e76d-84b8-4b35-ddee-45ed482c5b23"
      },
      "source": [
        "x = subject_df\n",
        "x.head()"
      ],
      "execution_count": 23,
      "outputs": [
        {
          "output_type": "execute_result",
          "data": {
            "text/html": [
              "<div>\n",
              "<style scoped>\n",
              "    .dataframe tbody tr th:only-of-type {\n",
              "        vertical-align: middle;\n",
              "    }\n",
              "\n",
              "    .dataframe tbody tr th {\n",
              "        vertical-align: top;\n",
              "    }\n",
              "\n",
              "    .dataframe thead th {\n",
              "        text-align: right;\n",
              "    }\n",
              "</style>\n",
              "<table border=\"1\" class=\"dataframe\">\n",
              "  <thead>\n",
              "    <tr style=\"text-align: right;\">\n",
              "      <th></th>\n",
              "      <th>label</th>\n",
              "      <th>statement</th>\n",
              "    </tr>\n",
              "  </thead>\n",
              "  <tbody>\n",
              "    <tr>\n",
              "      <th>0</th>\n",
              "      <td>half-true</td>\n",
              "      <td>When did the decline of coal start? It started...</td>\n",
              "    </tr>\n",
              "    <tr>\n",
              "      <th>1</th>\n",
              "      <td>mostly-true</td>\n",
              "      <td>Hillary Clinton agrees with John McCain \"by vo...</td>\n",
              "    </tr>\n",
              "    <tr>\n",
              "      <th>2</th>\n",
              "      <td>false</td>\n",
              "      <td>Health care reform legislation is likely to ma...</td>\n",
              "    </tr>\n",
              "    <tr>\n",
              "      <th>3</th>\n",
              "      <td>half-true</td>\n",
              "      <td>The economic turnaround started at the end of ...</td>\n",
              "    </tr>\n",
              "    <tr>\n",
              "      <th>4</th>\n",
              "      <td>true</td>\n",
              "      <td>The Chicago Bears have had more starting quart...</td>\n",
              "    </tr>\n",
              "  </tbody>\n",
              "</table>\n",
              "</div>"
            ],
            "text/plain": [
              "         label                                          statement\n",
              "0    half-true  When did the decline of coal start? It started...\n",
              "1  mostly-true  Hillary Clinton agrees with John McCain \"by vo...\n",
              "2        false  Health care reform legislation is likely to ma...\n",
              "3    half-true  The economic turnaround started at the end of ...\n",
              "4         true  The Chicago Bears have had more starting quart..."
            ]
          },
          "metadata": {
            "tags": []
          },
          "execution_count": 23
        }
      ]
    },
    {
      "cell_type": "code",
      "metadata": {
        "id": "uWDg3KzTMzlX"
      },
      "source": [
        "x['statement'].dropna(inplace=True)"
      ],
      "execution_count": 24,
      "outputs": []
    },
    {
      "cell_type": "code",
      "metadata": {
        "colab": {
          "base_uri": "https://localhost:8080/"
        },
        "id": "DXCxRS1QM5bk",
        "outputId": "0b897a5d-d41d-4f2b-f9bf-a0baab914d37"
      },
      "source": [
        "x.info"
      ],
      "execution_count": 25,
      "outputs": [
        {
          "output_type": "execute_result",
          "data": {
            "text/plain": [
              "<bound method DataFrame.info of              label                                          statement\n",
              "0        half-true  When did the decline of coal start? It started...\n",
              "1      mostly-true  Hillary Clinton agrees with John McCain \"by vo...\n",
              "2            false  Health care reform legislation is likely to ma...\n",
              "3        half-true  The economic turnaround started at the end of ...\n",
              "4             true  The Chicago Bears have had more starting quart...\n",
              "...            ...                                                ...\n",
              "10236    half-true   has meant that participants will retire with ...\n",
              "10237        false  On lifting the U.S. Cuban embargo and allowing...\n",
              "10238   pants-fire  The Department of Veterans Affairs has a manua...\n",
              "10238   pants-fire   'Are you really of value to your community?' ...\n",
              "10238   pants-fire                encouraging them to commit suicide.\n",
              "\n",
              "[16493 rows x 2 columns]>"
            ]
          },
          "metadata": {
            "tags": []
          },
          "execution_count": 25
        }
      ]
    },
    {
      "cell_type": "code",
      "metadata": {
        "id": "pXDP3G5BM6uC"
      },
      "source": [
        "x['statement']=[entry.lower() for entry in x['statement']]"
      ],
      "execution_count": 26,
      "outputs": []
    },
    {
      "cell_type": "code",
      "metadata": {
        "colab": {
          "base_uri": "https://localhost:8080/",
          "height": 195
        },
        "id": "DhGMPOp-NGJf",
        "outputId": "673836fc-8422-4d4d-c27b-65142f719880"
      },
      "source": [
        "x.head()"
      ],
      "execution_count": 27,
      "outputs": [
        {
          "output_type": "execute_result",
          "data": {
            "text/html": [
              "<div>\n",
              "<style scoped>\n",
              "    .dataframe tbody tr th:only-of-type {\n",
              "        vertical-align: middle;\n",
              "    }\n",
              "\n",
              "    .dataframe tbody tr th {\n",
              "        vertical-align: top;\n",
              "    }\n",
              "\n",
              "    .dataframe thead th {\n",
              "        text-align: right;\n",
              "    }\n",
              "</style>\n",
              "<table border=\"1\" class=\"dataframe\">\n",
              "  <thead>\n",
              "    <tr style=\"text-align: right;\">\n",
              "      <th></th>\n",
              "      <th>label</th>\n",
              "      <th>statement</th>\n",
              "    </tr>\n",
              "  </thead>\n",
              "  <tbody>\n",
              "    <tr>\n",
              "      <th>0</th>\n",
              "      <td>half-true</td>\n",
              "      <td>when did the decline of coal start? it started...</td>\n",
              "    </tr>\n",
              "    <tr>\n",
              "      <th>1</th>\n",
              "      <td>mostly-true</td>\n",
              "      <td>hillary clinton agrees with john mccain \"by vo...</td>\n",
              "    </tr>\n",
              "    <tr>\n",
              "      <th>2</th>\n",
              "      <td>false</td>\n",
              "      <td>health care reform legislation is likely to ma...</td>\n",
              "    </tr>\n",
              "    <tr>\n",
              "      <th>3</th>\n",
              "      <td>half-true</td>\n",
              "      <td>the economic turnaround started at the end of ...</td>\n",
              "    </tr>\n",
              "    <tr>\n",
              "      <th>4</th>\n",
              "      <td>true</td>\n",
              "      <td>the chicago bears have had more starting quart...</td>\n",
              "    </tr>\n",
              "  </tbody>\n",
              "</table>\n",
              "</div>"
            ],
            "text/plain": [
              "         label                                          statement\n",
              "0    half-true  when did the decline of coal start? it started...\n",
              "1  mostly-true  hillary clinton agrees with john mccain \"by vo...\n",
              "2        false  health care reform legislation is likely to ma...\n",
              "3    half-true  the economic turnaround started at the end of ...\n",
              "4         true  the chicago bears have had more starting quart..."
            ]
          },
          "metadata": {
            "tags": []
          },
          "execution_count": 27
        }
      ]
    },
    {
      "cell_type": "code",
      "metadata": {
        "colab": {
          "base_uri": "https://localhost:8080/"
        },
        "id": "fuXYMe07rShe",
        "outputId": "05c86aa5-c662-43ec-9a16-97044be9e1b4"
      },
      "source": [
        "import nltk\n",
        "nltk.download('averaged_perceptron_tagger')\n",
        "nltk.download('punkt')\n",
        "nltk.download('wordnet')\n",
        "nltk.download('stopwords')"
      ],
      "execution_count": 28,
      "outputs": [
        {
          "output_type": "stream",
          "text": [
            "[nltk_data] Downloading package averaged_perceptron_tagger to\n",
            "[nltk_data]     /root/nltk_data...\n",
            "[nltk_data]   Unzipping taggers/averaged_perceptron_tagger.zip.\n",
            "[nltk_data] Downloading package punkt to /root/nltk_data...\n",
            "[nltk_data]   Unzipping tokenizers/punkt.zip.\n",
            "[nltk_data] Downloading package wordnet to /root/nltk_data...\n",
            "[nltk_data]   Unzipping corpora/wordnet.zip.\n",
            "[nltk_data] Downloading package stopwords to /root/nltk_data...\n",
            "[nltk_data]   Unzipping corpora/stopwords.zip.\n"
          ],
          "name": "stdout"
        },
        {
          "output_type": "execute_result",
          "data": {
            "text/plain": [
              "True"
            ]
          },
          "metadata": {
            "tags": []
          },
          "execution_count": 28
        }
      ]
    },
    {
      "cell_type": "code",
      "metadata": {
        "id": "bsfmFnBHNHiV"
      },
      "source": [
        "x['statement'] = [word_tokenize(entry) for entry in x['statement']]"
      ],
      "execution_count": 29,
      "outputs": []
    },
    {
      "cell_type": "code",
      "metadata": {
        "colab": {
          "base_uri": "https://localhost:8080/",
          "height": 195
        },
        "id": "SJJyBWLkRM0n",
        "outputId": "c7b8d328-9564-4515-d9e0-16859f3c087e"
      },
      "source": [
        "x.head()"
      ],
      "execution_count": 30,
      "outputs": [
        {
          "output_type": "execute_result",
          "data": {
            "text/html": [
              "<div>\n",
              "<style scoped>\n",
              "    .dataframe tbody tr th:only-of-type {\n",
              "        vertical-align: middle;\n",
              "    }\n",
              "\n",
              "    .dataframe tbody tr th {\n",
              "        vertical-align: top;\n",
              "    }\n",
              "\n",
              "    .dataframe thead th {\n",
              "        text-align: right;\n",
              "    }\n",
              "</style>\n",
              "<table border=\"1\" class=\"dataframe\">\n",
              "  <thead>\n",
              "    <tr style=\"text-align: right;\">\n",
              "      <th></th>\n",
              "      <th>label</th>\n",
              "      <th>statement</th>\n",
              "    </tr>\n",
              "  </thead>\n",
              "  <tbody>\n",
              "    <tr>\n",
              "      <th>0</th>\n",
              "      <td>half-true</td>\n",
              "      <td>[when, did, the, decline, of, coal, start, ?, ...</td>\n",
              "    </tr>\n",
              "    <tr>\n",
              "      <th>1</th>\n",
              "      <td>mostly-true</td>\n",
              "      <td>[hillary, clinton, agrees, with, john, mccain,...</td>\n",
              "    </tr>\n",
              "    <tr>\n",
              "      <th>2</th>\n",
              "      <td>false</td>\n",
              "      <td>[health, care, reform, legislation, is, likely...</td>\n",
              "    </tr>\n",
              "    <tr>\n",
              "      <th>3</th>\n",
              "      <td>half-true</td>\n",
              "      <td>[the, economic, turnaround, started, at, the, ...</td>\n",
              "    </tr>\n",
              "    <tr>\n",
              "      <th>4</th>\n",
              "      <td>true</td>\n",
              "      <td>[the, chicago, bears, have, had, more, startin...</td>\n",
              "    </tr>\n",
              "  </tbody>\n",
              "</table>\n",
              "</div>"
            ],
            "text/plain": [
              "         label                                          statement\n",
              "0    half-true  [when, did, the, decline, of, coal, start, ?, ...\n",
              "1  mostly-true  [hillary, clinton, agrees, with, john, mccain,...\n",
              "2        false  [health, care, reform, legislation, is, likely...\n",
              "3    half-true  [the, economic, turnaround, started, at, the, ...\n",
              "4         true  [the, chicago, bears, have, had, more, startin..."
            ]
          },
          "metadata": {
            "tags": []
          },
          "execution_count": 30
        }
      ]
    },
    {
      "cell_type": "code",
      "metadata": {
        "id": "7_c1PMa2tLQ8",
        "colab": {
          "base_uri": "https://localhost:8080/",
          "height": 337
        },
        "outputId": "980031ae-1a6b-4e73-820b-d6d7f3424717"
      },
      "source": [
        "# WordNetLemmatizer requires Pos tags to understand if the word is noun or verb or adjective etc. By default it is set to Noun\n",
        "tag_map = defaultdict(lambda : wn.NOUN)\n",
        "tag_map['J'] = wn.ADJ\n",
        "tag_map['V'] = wn.VERB\n",
        "tag_map['R'] = wn.ADV\n",
        "for index,entry in enumerate(x['statement']):\n",
        "    # Declaring Empty List to store the words that follow the rules for this step\n",
        "    Final_words = []\n",
        "    # Initializing WordNetLemmatizer()\n",
        "    word_Lemmatized = WordNetLemmatizer()\n",
        "    # pos_tag function below will provide the 'tag' i.e if the word is Noun(N) or Verb(V) or something else.\n",
        "    for word, tag in pos_tag(entry):\n",
        "        # Below condition is to check for Stop words and consider only alphabets\n",
        "        if word not in stopwords.words('english') and word.isalpha():\n",
        "            word_Final = word_Lemmatized.lemmatize(word,tag_map[tag[0]])\n",
        "            Final_words.append(word_Final)\n",
        "    # The final processed set of words for each iteration will be stored in 'text_final'\n",
        "    x.loc[index,'text_final'] = str(Final_words)"
      ],
      "execution_count": 31,
      "outputs": [
        {
          "output_type": "error",
          "ename": "ValueError",
          "evalue": "ignored",
          "traceback": [
            "\u001b[0;31m---------------------------------------------------------------------------\u001b[0m",
            "\u001b[0;31mValueError\u001b[0m                                Traceback (most recent call last)",
            "\u001b[0;32m<ipython-input-31-8e1229bd2148>\u001b[0m in \u001b[0;36m<module>\u001b[0;34m()\u001b[0m\n\u001b[1;32m     16\u001b[0m             \u001b[0mFinal_words\u001b[0m\u001b[0;34m.\u001b[0m\u001b[0mappend\u001b[0m\u001b[0;34m(\u001b[0m\u001b[0mword_Final\u001b[0m\u001b[0;34m)\u001b[0m\u001b[0;34m\u001b[0m\u001b[0;34m\u001b[0m\u001b[0m\n\u001b[1;32m     17\u001b[0m     \u001b[0;31m# The final processed set of words for each iteration will be stored in 'text_final'\u001b[0m\u001b[0;34m\u001b[0m\u001b[0;34m\u001b[0m\u001b[0;34m\u001b[0m\u001b[0m\n\u001b[0;32m---> 18\u001b[0;31m     \u001b[0mx\u001b[0m\u001b[0;34m.\u001b[0m\u001b[0mloc\u001b[0m\u001b[0;34m[\u001b[0m\u001b[0mindex\u001b[0m\u001b[0;34m,\u001b[0m\u001b[0;34m'text_final'\u001b[0m\u001b[0;34m]\u001b[0m \u001b[0;34m=\u001b[0m \u001b[0mstr\u001b[0m\u001b[0;34m(\u001b[0m\u001b[0mFinal_words\u001b[0m\u001b[0;34m)\u001b[0m\u001b[0;34m\u001b[0m\u001b[0;34m\u001b[0m\u001b[0m\n\u001b[0m",
            "\u001b[0;32m/usr/local/lib/python3.7/dist-packages/pandas/core/indexing.py\u001b[0m in \u001b[0;36m__setitem__\u001b[0;34m(self, key, value)\u001b[0m\n\u001b[1;32m    668\u001b[0m \u001b[0;34m\u001b[0m\u001b[0m\n\u001b[1;32m    669\u001b[0m         \u001b[0miloc\u001b[0m \u001b[0;34m=\u001b[0m \u001b[0mself\u001b[0m \u001b[0;32mif\u001b[0m \u001b[0mself\u001b[0m\u001b[0;34m.\u001b[0m\u001b[0mname\u001b[0m \u001b[0;34m==\u001b[0m \u001b[0;34m\"iloc\"\u001b[0m \u001b[0;32melse\u001b[0m \u001b[0mself\u001b[0m\u001b[0;34m.\u001b[0m\u001b[0mobj\u001b[0m\u001b[0;34m.\u001b[0m\u001b[0miloc\u001b[0m\u001b[0;34m\u001b[0m\u001b[0;34m\u001b[0m\u001b[0m\n\u001b[0;32m--> 670\u001b[0;31m         \u001b[0miloc\u001b[0m\u001b[0;34m.\u001b[0m\u001b[0m_setitem_with_indexer\u001b[0m\u001b[0;34m(\u001b[0m\u001b[0mindexer\u001b[0m\u001b[0;34m,\u001b[0m \u001b[0mvalue\u001b[0m\u001b[0;34m)\u001b[0m\u001b[0;34m\u001b[0m\u001b[0;34m\u001b[0m\u001b[0m\n\u001b[0m\u001b[1;32m    671\u001b[0m \u001b[0;34m\u001b[0m\u001b[0m\n\u001b[1;32m    672\u001b[0m     \u001b[0;32mdef\u001b[0m \u001b[0m_validate_key\u001b[0m\u001b[0;34m(\u001b[0m\u001b[0mself\u001b[0m\u001b[0;34m,\u001b[0m \u001b[0mkey\u001b[0m\u001b[0;34m,\u001b[0m \u001b[0maxis\u001b[0m\u001b[0;34m:\u001b[0m \u001b[0mint\u001b[0m\u001b[0;34m)\u001b[0m\u001b[0;34m:\u001b[0m\u001b[0;34m\u001b[0m\u001b[0;34m\u001b[0m\u001b[0m\n",
            "\u001b[0;32m/usr/local/lib/python3.7/dist-packages/pandas/core/indexing.py\u001b[0m in \u001b[0;36m_setitem_with_indexer\u001b[0;34m(self, indexer, value)\u001b[0m\n\u001b[1;32m   1609\u001b[0m                     \u001b[0mindex\u001b[0m \u001b[0;34m=\u001b[0m \u001b[0mself\u001b[0m\u001b[0;34m.\u001b[0m\u001b[0mobj\u001b[0m\u001b[0;34m.\u001b[0m\u001b[0m_get_axis\u001b[0m\u001b[0;34m(\u001b[0m\u001b[0mi\u001b[0m\u001b[0;34m)\u001b[0m\u001b[0;34m\u001b[0m\u001b[0;34m\u001b[0m\u001b[0m\n\u001b[1;32m   1610\u001b[0m                     \u001b[0mlabels\u001b[0m \u001b[0;34m=\u001b[0m \u001b[0mindex\u001b[0m\u001b[0;34m.\u001b[0m\u001b[0minsert\u001b[0m\u001b[0;34m(\u001b[0m\u001b[0mlen\u001b[0m\u001b[0;34m(\u001b[0m\u001b[0mindex\u001b[0m\u001b[0;34m)\u001b[0m\u001b[0;34m,\u001b[0m \u001b[0mkey\u001b[0m\u001b[0;34m)\u001b[0m\u001b[0;34m\u001b[0m\u001b[0;34m\u001b[0m\u001b[0m\n\u001b[0;32m-> 1611\u001b[0;31m                     \u001b[0mself\u001b[0m\u001b[0;34m.\u001b[0m\u001b[0mobj\u001b[0m\u001b[0;34m.\u001b[0m\u001b[0m_mgr\u001b[0m \u001b[0;34m=\u001b[0m \u001b[0mself\u001b[0m\u001b[0;34m.\u001b[0m\u001b[0mobj\u001b[0m\u001b[0;34m.\u001b[0m\u001b[0mreindex\u001b[0m\u001b[0;34m(\u001b[0m\u001b[0mlabels\u001b[0m\u001b[0;34m,\u001b[0m \u001b[0maxis\u001b[0m\u001b[0;34m=\u001b[0m\u001b[0mi\u001b[0m\u001b[0;34m)\u001b[0m\u001b[0;34m.\u001b[0m\u001b[0m_mgr\u001b[0m\u001b[0;34m\u001b[0m\u001b[0;34m\u001b[0m\u001b[0m\n\u001b[0m\u001b[1;32m   1612\u001b[0m                     \u001b[0mself\u001b[0m\u001b[0;34m.\u001b[0m\u001b[0mobj\u001b[0m\u001b[0;34m.\u001b[0m\u001b[0m_maybe_update_cacher\u001b[0m\u001b[0;34m(\u001b[0m\u001b[0mclear\u001b[0m\u001b[0;34m=\u001b[0m\u001b[0;32mTrue\u001b[0m\u001b[0;34m)\u001b[0m\u001b[0;34m\u001b[0m\u001b[0;34m\u001b[0m\u001b[0m\n\u001b[1;32m   1613\u001b[0m                     \u001b[0mself\u001b[0m\u001b[0;34m.\u001b[0m\u001b[0mobj\u001b[0m\u001b[0;34m.\u001b[0m\u001b[0m_is_copy\u001b[0m \u001b[0;34m=\u001b[0m \u001b[0;32mNone\u001b[0m\u001b[0;34m\u001b[0m\u001b[0;34m\u001b[0m\u001b[0m\n",
            "\u001b[0;32m/usr/local/lib/python3.7/dist-packages/pandas/util/_decorators.py\u001b[0m in \u001b[0;36mwrapper\u001b[0;34m(*args, **kwargs)\u001b[0m\n\u001b[1;32m    307\u001b[0m         \u001b[0;34m@\u001b[0m\u001b[0mwraps\u001b[0m\u001b[0;34m(\u001b[0m\u001b[0mfunc\u001b[0m\u001b[0;34m)\u001b[0m\u001b[0;34m\u001b[0m\u001b[0;34m\u001b[0m\u001b[0m\n\u001b[1;32m    308\u001b[0m         \u001b[0;32mdef\u001b[0m \u001b[0mwrapper\u001b[0m\u001b[0;34m(\u001b[0m\u001b[0;34m*\u001b[0m\u001b[0margs\u001b[0m\u001b[0;34m,\u001b[0m \u001b[0;34m**\u001b[0m\u001b[0mkwargs\u001b[0m\u001b[0;34m)\u001b[0m \u001b[0;34m->\u001b[0m \u001b[0mCallable\u001b[0m\u001b[0;34m[\u001b[0m\u001b[0;34m...\u001b[0m\u001b[0;34m,\u001b[0m \u001b[0mAny\u001b[0m\u001b[0;34m]\u001b[0m\u001b[0;34m:\u001b[0m\u001b[0;34m\u001b[0m\u001b[0;34m\u001b[0m\u001b[0m\n\u001b[0;32m--> 309\u001b[0;31m             \u001b[0;32mreturn\u001b[0m \u001b[0mfunc\u001b[0m\u001b[0;34m(\u001b[0m\u001b[0;34m*\u001b[0m\u001b[0margs\u001b[0m\u001b[0;34m,\u001b[0m \u001b[0;34m**\u001b[0m\u001b[0mkwargs\u001b[0m\u001b[0;34m)\u001b[0m\u001b[0;34m\u001b[0m\u001b[0;34m\u001b[0m\u001b[0m\n\u001b[0m\u001b[1;32m    310\u001b[0m \u001b[0;34m\u001b[0m\u001b[0m\n\u001b[1;32m    311\u001b[0m         \u001b[0mkind\u001b[0m \u001b[0;34m=\u001b[0m \u001b[0minspect\u001b[0m\u001b[0;34m.\u001b[0m\u001b[0mParameter\u001b[0m\u001b[0;34m.\u001b[0m\u001b[0mPOSITIONAL_OR_KEYWORD\u001b[0m\u001b[0;34m\u001b[0m\u001b[0;34m\u001b[0m\u001b[0m\n",
            "\u001b[0;32m/usr/local/lib/python3.7/dist-packages/pandas/core/frame.py\u001b[0m in \u001b[0;36mreindex\u001b[0;34m(self, *args, **kwargs)\u001b[0m\n\u001b[1;32m   4034\u001b[0m         \u001b[0mkwargs\u001b[0m\u001b[0;34m.\u001b[0m\u001b[0mpop\u001b[0m\u001b[0;34m(\u001b[0m\u001b[0;34m\"axis\"\u001b[0m\u001b[0;34m,\u001b[0m \u001b[0;32mNone\u001b[0m\u001b[0;34m)\u001b[0m\u001b[0;34m\u001b[0m\u001b[0;34m\u001b[0m\u001b[0m\n\u001b[1;32m   4035\u001b[0m         \u001b[0mkwargs\u001b[0m\u001b[0;34m.\u001b[0m\u001b[0mpop\u001b[0m\u001b[0;34m(\u001b[0m\u001b[0;34m\"labels\"\u001b[0m\u001b[0;34m,\u001b[0m \u001b[0;32mNone\u001b[0m\u001b[0;34m)\u001b[0m\u001b[0;34m\u001b[0m\u001b[0;34m\u001b[0m\u001b[0m\n\u001b[0;32m-> 4036\u001b[0;31m         \u001b[0;32mreturn\u001b[0m \u001b[0msuper\u001b[0m\u001b[0;34m(\u001b[0m\u001b[0;34m)\u001b[0m\u001b[0;34m.\u001b[0m\u001b[0mreindex\u001b[0m\u001b[0;34m(\u001b[0m\u001b[0;34m**\u001b[0m\u001b[0mkwargs\u001b[0m\u001b[0;34m)\u001b[0m\u001b[0;34m\u001b[0m\u001b[0;34m\u001b[0m\u001b[0m\n\u001b[0m\u001b[1;32m   4037\u001b[0m \u001b[0;34m\u001b[0m\u001b[0m\n\u001b[1;32m   4038\u001b[0m     def drop(\n",
            "\u001b[0;32m/usr/local/lib/python3.7/dist-packages/pandas/core/generic.py\u001b[0m in \u001b[0;36mreindex\u001b[0;34m(self, *args, **kwargs)\u001b[0m\n\u001b[1;32m   4462\u001b[0m         \u001b[0;31m# perform the reindex on the axes\u001b[0m\u001b[0;34m\u001b[0m\u001b[0;34m\u001b[0m\u001b[0;34m\u001b[0m\u001b[0m\n\u001b[1;32m   4463\u001b[0m         return self._reindex_axes(\n\u001b[0;32m-> 4464\u001b[0;31m             \u001b[0maxes\u001b[0m\u001b[0;34m,\u001b[0m \u001b[0mlevel\u001b[0m\u001b[0;34m,\u001b[0m \u001b[0mlimit\u001b[0m\u001b[0;34m,\u001b[0m \u001b[0mtolerance\u001b[0m\u001b[0;34m,\u001b[0m \u001b[0mmethod\u001b[0m\u001b[0;34m,\u001b[0m \u001b[0mfill_value\u001b[0m\u001b[0;34m,\u001b[0m \u001b[0mcopy\u001b[0m\u001b[0;34m\u001b[0m\u001b[0;34m\u001b[0m\u001b[0m\n\u001b[0m\u001b[1;32m   4465\u001b[0m         ).__finalize__(self, method=\"reindex\")\n\u001b[1;32m   4466\u001b[0m \u001b[0;34m\u001b[0m\u001b[0m\n",
            "\u001b[0;32m/usr/local/lib/python3.7/dist-packages/pandas/core/frame.py\u001b[0m in \u001b[0;36m_reindex_axes\u001b[0;34m(self, axes, level, limit, tolerance, method, fill_value, copy)\u001b[0m\n\u001b[1;32m   3881\u001b[0m         \u001b[0;32mif\u001b[0m \u001b[0mindex\u001b[0m \u001b[0;32mis\u001b[0m \u001b[0;32mnot\u001b[0m \u001b[0;32mNone\u001b[0m\u001b[0;34m:\u001b[0m\u001b[0;34m\u001b[0m\u001b[0;34m\u001b[0m\u001b[0m\n\u001b[1;32m   3882\u001b[0m             frame = frame._reindex_index(\n\u001b[0;32m-> 3883\u001b[0;31m                 \u001b[0mindex\u001b[0m\u001b[0;34m,\u001b[0m \u001b[0mmethod\u001b[0m\u001b[0;34m,\u001b[0m \u001b[0mcopy\u001b[0m\u001b[0;34m,\u001b[0m \u001b[0mlevel\u001b[0m\u001b[0;34m,\u001b[0m \u001b[0mfill_value\u001b[0m\u001b[0;34m,\u001b[0m \u001b[0mlimit\u001b[0m\u001b[0;34m,\u001b[0m \u001b[0mtolerance\u001b[0m\u001b[0;34m\u001b[0m\u001b[0;34m\u001b[0m\u001b[0m\n\u001b[0m\u001b[1;32m   3884\u001b[0m             )\n\u001b[1;32m   3885\u001b[0m \u001b[0;34m\u001b[0m\u001b[0m\n",
            "\u001b[0;32m/usr/local/lib/python3.7/dist-packages/pandas/core/frame.py\u001b[0m in \u001b[0;36m_reindex_index\u001b[0;34m(self, new_index, method, copy, level, fill_value, limit, tolerance)\u001b[0m\n\u001b[1;32m   3903\u001b[0m             \u001b[0mcopy\u001b[0m\u001b[0;34m=\u001b[0m\u001b[0mcopy\u001b[0m\u001b[0;34m,\u001b[0m\u001b[0;34m\u001b[0m\u001b[0;34m\u001b[0m\u001b[0m\n\u001b[1;32m   3904\u001b[0m             \u001b[0mfill_value\u001b[0m\u001b[0;34m=\u001b[0m\u001b[0mfill_value\u001b[0m\u001b[0;34m,\u001b[0m\u001b[0;34m\u001b[0m\u001b[0;34m\u001b[0m\u001b[0m\n\u001b[0;32m-> 3905\u001b[0;31m             \u001b[0mallow_dups\u001b[0m\u001b[0;34m=\u001b[0m\u001b[0;32mFalse\u001b[0m\u001b[0;34m,\u001b[0m\u001b[0;34m\u001b[0m\u001b[0;34m\u001b[0m\u001b[0m\n\u001b[0m\u001b[1;32m   3906\u001b[0m         )\n\u001b[1;32m   3907\u001b[0m \u001b[0;34m\u001b[0m\u001b[0m\n",
            "\u001b[0;32m/usr/local/lib/python3.7/dist-packages/pandas/core/generic.py\u001b[0m in \u001b[0;36m_reindex_with_indexers\u001b[0;34m(self, reindexers, fill_value, copy, allow_dups)\u001b[0m\n\u001b[1;32m   4530\u001b[0m                 \u001b[0mfill_value\u001b[0m\u001b[0;34m=\u001b[0m\u001b[0mfill_value\u001b[0m\u001b[0;34m,\u001b[0m\u001b[0;34m\u001b[0m\u001b[0;34m\u001b[0m\u001b[0m\n\u001b[1;32m   4531\u001b[0m                 \u001b[0mallow_dups\u001b[0m\u001b[0;34m=\u001b[0m\u001b[0mallow_dups\u001b[0m\u001b[0;34m,\u001b[0m\u001b[0;34m\u001b[0m\u001b[0;34m\u001b[0m\u001b[0m\n\u001b[0;32m-> 4532\u001b[0;31m                 \u001b[0mcopy\u001b[0m\u001b[0;34m=\u001b[0m\u001b[0mcopy\u001b[0m\u001b[0;34m,\u001b[0m\u001b[0;34m\u001b[0m\u001b[0;34m\u001b[0m\u001b[0m\n\u001b[0m\u001b[1;32m   4533\u001b[0m             )\n\u001b[1;32m   4534\u001b[0m             \u001b[0;31m# If we've made a copy once, no need to make another one\u001b[0m\u001b[0;34m\u001b[0m\u001b[0;34m\u001b[0m\u001b[0;34m\u001b[0m\u001b[0m\n",
            "\u001b[0;32m/usr/local/lib/python3.7/dist-packages/pandas/core/internals/managers.py\u001b[0m in \u001b[0;36mreindex_indexer\u001b[0;34m(self, new_axis, indexer, axis, fill_value, allow_dups, copy, consolidate)\u001b[0m\n\u001b[1;32m   1283\u001b[0m         \u001b[0;31m# some axes don't allow reindexing with dups\u001b[0m\u001b[0;34m\u001b[0m\u001b[0;34m\u001b[0m\u001b[0;34m\u001b[0m\u001b[0m\n\u001b[1;32m   1284\u001b[0m         \u001b[0;32mif\u001b[0m \u001b[0;32mnot\u001b[0m \u001b[0mallow_dups\u001b[0m\u001b[0;34m:\u001b[0m\u001b[0;34m\u001b[0m\u001b[0;34m\u001b[0m\u001b[0m\n\u001b[0;32m-> 1285\u001b[0;31m             \u001b[0mself\u001b[0m\u001b[0;34m.\u001b[0m\u001b[0maxes\u001b[0m\u001b[0;34m[\u001b[0m\u001b[0maxis\u001b[0m\u001b[0;34m]\u001b[0m\u001b[0;34m.\u001b[0m\u001b[0m_can_reindex\u001b[0m\u001b[0;34m(\u001b[0m\u001b[0mindexer\u001b[0m\u001b[0;34m)\u001b[0m\u001b[0;34m\u001b[0m\u001b[0;34m\u001b[0m\u001b[0m\n\u001b[0m\u001b[1;32m   1286\u001b[0m \u001b[0;34m\u001b[0m\u001b[0m\n\u001b[1;32m   1287\u001b[0m         \u001b[0;32mif\u001b[0m \u001b[0maxis\u001b[0m \u001b[0;34m>=\u001b[0m \u001b[0mself\u001b[0m\u001b[0;34m.\u001b[0m\u001b[0mndim\u001b[0m\u001b[0;34m:\u001b[0m\u001b[0;34m\u001b[0m\u001b[0;34m\u001b[0m\u001b[0m\n",
            "\u001b[0;32m/usr/local/lib/python3.7/dist-packages/pandas/core/indexes/base.py\u001b[0m in \u001b[0;36m_can_reindex\u001b[0;34m(self, indexer)\u001b[0m\n\u001b[1;32m   3290\u001b[0m         \u001b[0;31m# trying to reindex on an axis with duplicates\u001b[0m\u001b[0;34m\u001b[0m\u001b[0;34m\u001b[0m\u001b[0;34m\u001b[0m\u001b[0m\n\u001b[1;32m   3291\u001b[0m         \u001b[0;32mif\u001b[0m \u001b[0;32mnot\u001b[0m \u001b[0mself\u001b[0m\u001b[0;34m.\u001b[0m\u001b[0mis_unique\u001b[0m \u001b[0;32mand\u001b[0m \u001b[0mlen\u001b[0m\u001b[0;34m(\u001b[0m\u001b[0mindexer\u001b[0m\u001b[0;34m)\u001b[0m\u001b[0;34m:\u001b[0m\u001b[0;34m\u001b[0m\u001b[0;34m\u001b[0m\u001b[0m\n\u001b[0;32m-> 3292\u001b[0;31m             \u001b[0;32mraise\u001b[0m \u001b[0mValueError\u001b[0m\u001b[0;34m(\u001b[0m\u001b[0;34m\"cannot reindex from a duplicate axis\"\u001b[0m\u001b[0;34m)\u001b[0m\u001b[0;34m\u001b[0m\u001b[0;34m\u001b[0m\u001b[0m\n\u001b[0m\u001b[1;32m   3293\u001b[0m \u001b[0;34m\u001b[0m\u001b[0m\n\u001b[1;32m   3294\u001b[0m     \u001b[0;32mdef\u001b[0m \u001b[0mreindex\u001b[0m\u001b[0;34m(\u001b[0m\u001b[0mself\u001b[0m\u001b[0;34m,\u001b[0m \u001b[0mtarget\u001b[0m\u001b[0;34m,\u001b[0m \u001b[0mmethod\u001b[0m\u001b[0;34m=\u001b[0m\u001b[0;32mNone\u001b[0m\u001b[0;34m,\u001b[0m \u001b[0mlevel\u001b[0m\u001b[0;34m=\u001b[0m\u001b[0;32mNone\u001b[0m\u001b[0;34m,\u001b[0m \u001b[0mlimit\u001b[0m\u001b[0;34m=\u001b[0m\u001b[0;32mNone\u001b[0m\u001b[0;34m,\u001b[0m \u001b[0mtolerance\u001b[0m\u001b[0;34m=\u001b[0m\u001b[0;32mNone\u001b[0m\u001b[0;34m)\u001b[0m\u001b[0;34m:\u001b[0m\u001b[0;34m\u001b[0m\u001b[0;34m\u001b[0m\u001b[0m\n",
            "\u001b[0;31mValueError\u001b[0m: cannot reindex from a duplicate axis"
          ]
        }
      ]
    },
    {
      "cell_type": "code",
      "metadata": {
        "colab": {
          "base_uri": "https://localhost:8080/",
          "height": 402
        },
        "id": "YLqTpe5fzEWD",
        "outputId": "697d01d9-3b7c-453e-ec25-0bf8017aa25d"
      },
      "source": [
        "x"
      ],
      "execution_count": 32,
      "outputs": [
        {
          "output_type": "execute_result",
          "data": {
            "text/html": [
              "<div>\n",
              "<style scoped>\n",
              "    .dataframe tbody tr th:only-of-type {\n",
              "        vertical-align: middle;\n",
              "    }\n",
              "\n",
              "    .dataframe tbody tr th {\n",
              "        vertical-align: top;\n",
              "    }\n",
              "\n",
              "    .dataframe thead th {\n",
              "        text-align: right;\n",
              "    }\n",
              "</style>\n",
              "<table border=\"1\" class=\"dataframe\">\n",
              "  <thead>\n",
              "    <tr style=\"text-align: right;\">\n",
              "      <th></th>\n",
              "      <th>label</th>\n",
              "      <th>statement</th>\n",
              "      <th>text_final</th>\n",
              "    </tr>\n",
              "  </thead>\n",
              "  <tbody>\n",
              "    <tr>\n",
              "      <th>0</th>\n",
              "      <td>half-true</td>\n",
              "      <td>[when, did, the, decline, of, coal, start, ?, ...</td>\n",
              "      <td>['decline', 'coal', 'start', 'start', 'natural...</td>\n",
              "    </tr>\n",
              "    <tr>\n",
              "      <th>1</th>\n",
              "      <td>mostly-true</td>\n",
              "      <td>[hillary, clinton, agrees, with, john, mccain,...</td>\n",
              "      <td>['hillary', 'clinton', 'agree', 'john', 'mccai...</td>\n",
              "    </tr>\n",
              "    <tr>\n",
              "      <th>2</th>\n",
              "      <td>false</td>\n",
              "      <td>[health, care, reform, legislation, is, likely...</td>\n",
              "      <td>['health', 'care', 'reform', 'legislation', 'l...</td>\n",
              "    </tr>\n",
              "    <tr>\n",
              "      <th>3</th>\n",
              "      <td>half-true</td>\n",
              "      <td>[the, economic, turnaround, started, at, the, ...</td>\n",
              "      <td>['economic', 'turnaround', 'start', 'end', 'te...</td>\n",
              "    </tr>\n",
              "    <tr>\n",
              "      <th>4</th>\n",
              "      <td>true</td>\n",
              "      <td>[the, chicago, bears, have, had, more, startin...</td>\n",
              "      <td>['chicago', 'bear', 'starting', 'quarterback',...</td>\n",
              "    </tr>\n",
              "    <tr>\n",
              "      <th>...</th>\n",
              "      <td>...</td>\n",
              "      <td>...</td>\n",
              "      <td>...</td>\n",
              "    </tr>\n",
              "    <tr>\n",
              "      <th>10236</th>\n",
              "      <td>half-true</td>\n",
              "      <td>[has, meant, that, participants, will, retire,...</td>\n",
              "      <td>['omnibus', 'spending', 'bill']</td>\n",
              "    </tr>\n",
              "    <tr>\n",
              "      <th>10237</th>\n",
              "      <td>false</td>\n",
              "      <td>[on, lifting, the, u.s., cuban, embargo, and, ...</td>\n",
              "      <td>['pork', 'barrel', 'item']</td>\n",
              "    </tr>\n",
              "    <tr>\n",
              "      <th>10238</th>\n",
              "      <td>pants-fire</td>\n",
              "      <td>[the, department, of, veterans, affairs, has, ...</td>\n",
              "      <td>['first', 'budget']</td>\n",
              "    </tr>\n",
              "    <tr>\n",
              "      <th>10238</th>\n",
              "      <td>pants-fire</td>\n",
              "      <td>['are, you, really, of, value, to, your, commu...</td>\n",
              "      <td>['first', 'budget']</td>\n",
              "    </tr>\n",
              "    <tr>\n",
              "      <th>10238</th>\n",
              "      <td>pants-fire</td>\n",
              "      <td>[encouraging, them, to, commit, suicide, .]</td>\n",
              "      <td>['first', 'budget']</td>\n",
              "    </tr>\n",
              "  </tbody>\n",
              "</table>\n",
              "<p>16493 rows × 3 columns</p>\n",
              "</div>"
            ],
            "text/plain": [
              "             label  ...                                         text_final\n",
              "0        half-true  ...  ['decline', 'coal', 'start', 'start', 'natural...\n",
              "1      mostly-true  ...  ['hillary', 'clinton', 'agree', 'john', 'mccai...\n",
              "2            false  ...  ['health', 'care', 'reform', 'legislation', 'l...\n",
              "3        half-true  ...  ['economic', 'turnaround', 'start', 'end', 'te...\n",
              "4             true  ...  ['chicago', 'bear', 'starting', 'quarterback',...\n",
              "...            ...  ...                                                ...\n",
              "10236    half-true  ...                    ['omnibus', 'spending', 'bill']\n",
              "10237        false  ...                         ['pork', 'barrel', 'item']\n",
              "10238   pants-fire  ...                                ['first', 'budget']\n",
              "10238   pants-fire  ...                                ['first', 'budget']\n",
              "10238   pants-fire  ...                                ['first', 'budget']\n",
              "\n",
              "[16493 rows x 3 columns]"
            ]
          },
          "metadata": {
            "tags": []
          },
          "execution_count": 32
        }
      ]
    },
    {
      "cell_type": "code",
      "metadata": {
        "id": "q4b3PQR-1D5F"
      },
      "source": [
        "df = x\n",
        "#df = df.loc[:,~df.columns.duplicated()]\n",
        "df =df.reset_index(drop=True)"
      ],
      "execution_count": 33,
      "outputs": []
    },
    {
      "cell_type": "code",
      "metadata": {
        "colab": {
          "base_uri": "https://localhost:8080/",
          "height": 402
        },
        "id": "jqjGxBS718iG",
        "outputId": "c1e3d77b-f427-4755-9acb-d4c1a15b03df"
      },
      "source": [
        "df"
      ],
      "execution_count": 34,
      "outputs": [
        {
          "output_type": "execute_result",
          "data": {
            "text/html": [
              "<div>\n",
              "<style scoped>\n",
              "    .dataframe tbody tr th:only-of-type {\n",
              "        vertical-align: middle;\n",
              "    }\n",
              "\n",
              "    .dataframe tbody tr th {\n",
              "        vertical-align: top;\n",
              "    }\n",
              "\n",
              "    .dataframe thead th {\n",
              "        text-align: right;\n",
              "    }\n",
              "</style>\n",
              "<table border=\"1\" class=\"dataframe\">\n",
              "  <thead>\n",
              "    <tr style=\"text-align: right;\">\n",
              "      <th></th>\n",
              "      <th>label</th>\n",
              "      <th>statement</th>\n",
              "      <th>text_final</th>\n",
              "    </tr>\n",
              "  </thead>\n",
              "  <tbody>\n",
              "    <tr>\n",
              "      <th>0</th>\n",
              "      <td>half-true</td>\n",
              "      <td>[when, did, the, decline, of, coal, start, ?, ...</td>\n",
              "      <td>['decline', 'coal', 'start', 'start', 'natural...</td>\n",
              "    </tr>\n",
              "    <tr>\n",
              "      <th>1</th>\n",
              "      <td>mostly-true</td>\n",
              "      <td>[hillary, clinton, agrees, with, john, mccain,...</td>\n",
              "      <td>['hillary', 'clinton', 'agree', 'john', 'mccai...</td>\n",
              "    </tr>\n",
              "    <tr>\n",
              "      <th>2</th>\n",
              "      <td>false</td>\n",
              "      <td>[health, care, reform, legislation, is, likely...</td>\n",
              "      <td>['health', 'care', 'reform', 'legislation', 'l...</td>\n",
              "    </tr>\n",
              "    <tr>\n",
              "      <th>3</th>\n",
              "      <td>half-true</td>\n",
              "      <td>[the, economic, turnaround, started, at, the, ...</td>\n",
              "      <td>['economic', 'turnaround', 'start', 'end', 'te...</td>\n",
              "    </tr>\n",
              "    <tr>\n",
              "      <th>4</th>\n",
              "      <td>true</td>\n",
              "      <td>[the, chicago, bears, have, had, more, startin...</td>\n",
              "      <td>['chicago', 'bear', 'starting', 'quarterback',...</td>\n",
              "    </tr>\n",
              "    <tr>\n",
              "      <th>...</th>\n",
              "      <td>...</td>\n",
              "      <td>...</td>\n",
              "      <td>...</td>\n",
              "    </tr>\n",
              "    <tr>\n",
              "      <th>16488</th>\n",
              "      <td>half-true</td>\n",
              "      <td>[has, meant, that, participants, will, retire,...</td>\n",
              "      <td>['omnibus', 'spending', 'bill']</td>\n",
              "    </tr>\n",
              "    <tr>\n",
              "      <th>16489</th>\n",
              "      <td>false</td>\n",
              "      <td>[on, lifting, the, u.s., cuban, embargo, and, ...</td>\n",
              "      <td>['pork', 'barrel', 'item']</td>\n",
              "    </tr>\n",
              "    <tr>\n",
              "      <th>16490</th>\n",
              "      <td>pants-fire</td>\n",
              "      <td>[the, department, of, veterans, affairs, has, ...</td>\n",
              "      <td>['first', 'budget']</td>\n",
              "    </tr>\n",
              "    <tr>\n",
              "      <th>16491</th>\n",
              "      <td>pants-fire</td>\n",
              "      <td>['are, you, really, of, value, to, your, commu...</td>\n",
              "      <td>['first', 'budget']</td>\n",
              "    </tr>\n",
              "    <tr>\n",
              "      <th>16492</th>\n",
              "      <td>pants-fire</td>\n",
              "      <td>[encouraging, them, to, commit, suicide, .]</td>\n",
              "      <td>['first', 'budget']</td>\n",
              "    </tr>\n",
              "  </tbody>\n",
              "</table>\n",
              "<p>16493 rows × 3 columns</p>\n",
              "</div>"
            ],
            "text/plain": [
              "             label  ...                                         text_final\n",
              "0        half-true  ...  ['decline', 'coal', 'start', 'start', 'natural...\n",
              "1      mostly-true  ...  ['hillary', 'clinton', 'agree', 'john', 'mccai...\n",
              "2            false  ...  ['health', 'care', 'reform', 'legislation', 'l...\n",
              "3        half-true  ...  ['economic', 'turnaround', 'start', 'end', 'te...\n",
              "4             true  ...  ['chicago', 'bear', 'starting', 'quarterback',...\n",
              "...            ...  ...                                                ...\n",
              "16488    half-true  ...                    ['omnibus', 'spending', 'bill']\n",
              "16489        false  ...                         ['pork', 'barrel', 'item']\n",
              "16490   pants-fire  ...                                ['first', 'budget']\n",
              "16491   pants-fire  ...                                ['first', 'budget']\n",
              "16492   pants-fire  ...                                ['first', 'budget']\n",
              "\n",
              "[16493 rows x 3 columns]"
            ]
          },
          "metadata": {
            "tags": []
          },
          "execution_count": 34
        }
      ]
    },
    {
      "cell_type": "code",
      "metadata": {
        "id": "cBgbAqZ72AvC"
      },
      "source": [
        "Train_X, Test_X, Train_Y, Test_Y = model_selection.train_test_split(x['text_final'],x['label'],test_size=0.3)"
      ],
      "execution_count": 35,
      "outputs": []
    },
    {
      "cell_type": "code",
      "metadata": {
        "id": "KCftc8Bj8xFr"
      },
      "source": [
        "Encoder = LabelEncoder()\n",
        "Train_Y = Encoder.fit_transform(Train_Y)\n",
        "Test_Y = Encoder.fit_transform(Test_Y)"
      ],
      "execution_count": 36,
      "outputs": []
    },
    {
      "cell_type": "code",
      "metadata": {
        "id": "yBvVNh1I83i3"
      },
      "source": [
        "Tfidf_vect = TfidfVectorizer(max_features=5000)\n",
        "Tfidf_vect.fit(x['text_final'])\n",
        "Train_X_Tfidf = Tfidf_vect.transform(Train_X)\n",
        "Test_X_Tfidf = Tfidf_vect.transform(Test_X)"
      ],
      "execution_count": 37,
      "outputs": []
    },
    {
      "cell_type": "code",
      "metadata": {
        "colab": {
          "base_uri": "https://localhost:8080/"
        },
        "id": "ZLdrFb6q87A3",
        "outputId": "8b048dac-443c-45b0-f347-b7545c60261d"
      },
      "source": [
        "print(Tfidf_vect.vocabulary_)"
      ],
      "execution_count": 38,
      "outputs": [
        {
          "output_type": "stream",
          "text": [
            "{'decline': 1125, 'coal': 802, 'start': 4271, 'natural': 2975, 'gas': 1875, 'take': 4440, 'begin': 401, 'president': 3453, 'george': 1896, 'bush': 586, 'administration': 78, 'hillary': 2076, 'clinton': 791, 'agree': 120, 'john': 2408, 'mccain': 2786, 'vote': 4819, 'give': 1918, 'benefit': 416, 'doubt': 1335, 'iran': 2342, 'health': 2042, 'care': 638, 'reform': 3704, 'legislation': 2575, 'likely': 2616, 'mandate': 2714, 'free': 1823, 'sex': 4067, 'change': 707, 'surgery': 4399, 'economic': 1403, 'turnaround': 4665, 'end': 1471, 'term': 4496, 'chicago': 729, 'bear': 392, 'last': 2538, 'year': 4976, 'total': 4583, 'number': 3064, 'tenured': 4495, 'uw': 4756, 'faculty': 1627, 'fire': 1719, 'two': 4674, 'decade': 1113, 'jim': 2401, 'live': 2633, 'district': 1290, 'represent': 3773, 'person': 3295, 'stage': 4259, 'work': 4949, 'actively': 58, 'passing': 3229, 'along': 166, 'rus': 3913, 'feingold': 1676, 'tough': 4586, 'ethic': 1536, 'since': 4134, 'however': 2139, 'million': 2869, 'oregon': 3139, 'lottery': 2661, 'fund': 1843, 'port': 3397, 'newport': 3011, 'eventually': 1545, 'land': 2528, 'new': 3007, 'noaa': 3029, 'marine': 2740, 'operation': 3122, 'say': 3960, 'gop': 1940, 'primary': 3469, 'opponent': 3125, 'glenn': 1921, 'grothman': 1969, 'joe': 2407, 'leibham': 2580, 'cast': 659, 'compromise': 872, 'cost': 982, 'high': 2068, 'electricity': 1434, 'first': 1723, 'time': 4556, 'history': 2086, 'share': 4077, 'national': 2969, 'popular': 3388, 'margin': 2737, 'small': 4159, 'latino': 2543, 'nearly': 2985, 'american': 184, 'middle': 2854, 'class': 774, 'poverty': 3419, 'mitt': 2900, 'romney': 3884, 'governor': 1946, 'massachusetts': 2760, 'didnt': 1230, 'slow': 4157, 'rate': 3631, 'growth': 1974, 'government': 1945, 'actually': 62, 'cut': 1064, 'economy': 1406, 'billion': 441, 'due': 1373, 'shutdown': 4114, 'affordable': 105, 'act': 55, 'already': 167, 'sense': 4036, 'waive': 4828, 'otherwise': 3151, 'suspend': 4414, 'election': 1429, 'november': 3060, 'percent': 3277, 'people': 3274, 'choose': 740, 'young': 4984, 'worker': 4950, 'oppose': 3127, 'requirement': 3787, 'buy': 593, 'motorcycle': 2934, 'provision': 3553, 'quote': 3589, 'ron': 3887, 'kind': 2486, 'fellow': 1680, 'democrat': 1165, 'go': 1928, 'spending': 4224, 'spree': 4243, 'credit': 1019, 'card': 636, 'maxed': 2777, 'water': 4859, 'philippine': 3313, 'raise': 3610, 'world': 4954, 'bank': 359, 'become': 395, 'partial': 3209, 'owner': 3180, 'almost': 164, 'leave': 2565, 'puerto': 3561, 'rico': 3849, 'woman': 4940, 'men': 2828, 'make': 2704, 'less': 2588, 'adjust': 74, 'inflation': 2255, 'kitzhaber': 2492, 'elect': 1427, 'united': 4713, 'state': 4274, 'corporate': 969, 'tax': 4459, 'best': 425, 'auto': 328, 'industry': 2247, 'america': 183, 'scott': 3991, 'walker': 4831, 'favor': 1659, 'family': 1642, 'child': 732, 'want': 4836, 'get': 1904, 'rid': 3851, 'planned': 3348, 'parenthood': 3204, 'dont': 1327, 'know': 2499, 'hate': 2034, 'crime': 1020, 'muslim': 2955, 'mosque': 2929, 'triple': 4647, 'paris': 3205, 'san': 3938, 'bernardino': 421, 'rick': 3848, 'perry': 3292, 'never': 3006, 'lose': 2658, 'remain': 3744, 'texas': 4510, 'governorship': 1947, 'three': 4545, 'landslide': 2530, 'isi': 2353, 'supporter': 4388, 'tweet': 4669, 'shoot': 4098, 'youth': 4987, 'unemployment': 4699, 'minority': 2883, 'community': 850, 'paul': 3245, 'ryan': 3919, 'still': 4303, 'endorse': 1475, 'trump': 4653, 'look': 2653, 'right': 3858, 'budget': 562, 'deficit': 1145, 'good': 1938, 'business': 589, 'climate': 788, 'obama': 3076, 'come': 832, 'next': 3016, 'several': 4062, 'month': 2917, 'youre': 4986, 'even': 1542, 'able': 10, 'burn': 581, 'exist': 1575, 'plant': 3350, 'today': 4562, 'pay': 3249, 'mark': 2741, 'pryor': 3556, 'federal': 1671, 'think': 4533, 'authority': 325, 'regulate': 3720, 'toilet': 4565, 'seat': 4003, 'austin': 323, 'city': 766, 'basically': 378, 'double': 1333, 'size': 4144, 'every': 1547, 'found': 1800, 'nuclear': 3063, 'test': 4505, 'conduct': 889, 'nation': 2968, 'earth': 1392, 'five': 1731, 'permanent': 3287, 'member': 2822, 'security': 4015, 'council': 988, 'case': 656, 'catastrophic': 664, 'event': 1543, 'office': 3098, 'center': 683, 'disease': 1275, 'control': 945, 'prevention': 3461, 'add': 67, 'trillion': 4643, 'debt': 1112, 'weve': 4891, 'supreme': 4393, 'court': 1002, 'justice': 2431, 'suggest': 4369, 'decide': 1118, 'base': 374, 'south': 4203, 'african': 110, 'law': 2547, 'marco': 2732, 'rubio': 3902, 'skip': 4146, 'defense': 1143, 'include': 2218, 'one': 3115, 'arm': 270, 'kurd': 2512, 'fight': 1698, 'david': 1093, 'cicilline': 756, 'responsible': 3808, 'loan': 2637, 'guarantee': 1977, 'solyndra': 4184, 'failed': 1629, 'solar': 4176, 'company': 855, 'ohio': 3105, 'item': 2371, 'later': 2540, 'sign': 4121, 'gov': 1943, 'kasich': 2444, 'require': 3785, 'seek': 4018, 'abortion': 15, 'undergo': 4691, 'mandatory': 2715, 'probe': 3490, 'director': 1253, 'homeland': 2103, 'use': 4751, 'attack': 309, 'instead': 2293, 'substitute': 4356, 'disaster': 1263, 'hispanic': 2082, 'obamacare': 3077, 'provide': 3550, 'insurance': 2299, 'resident': 3795, 'illegally': 2177, 'barack': 363, 'exactly': 1553, 'none': 3038, 'reduction': 3696, 'commission': 838, 'idea': 2167, 'rule': 3907, 'engagement': 1485, 'probably': 3488, 'capt': 630, 'humayun': 2148, 'khan': 2474, 'life': 2610, 'would': 4961, 'jail': 2377, 'flag': 1735, 'edition': 1408, 'romneys': 3886, 'book': 483, 'delete': 1158, 'line': 2624, 'individual': 2245, 'model': 2906, 'country': 996, 'maggie': 2690, 'hassan': 2032, 'tuition': 4660, 'terry': 4504, 'mcauliffe': 2785, 'invent': 2329, 'scheme': 3975, 'rent': 3762, 'lincoln': 2622, 'create': 1015, 'job': 2405, 'half': 2001, 'york': 4981, 'private': 3483, 'sector': 4012, 'ever': 1546, 'town': 4596, 'west': 4888, 'truck': 4650, 'georgia': 1897, 'earn': 1387, 'cent': 682, 'dollar': 1316, 'system': 4434, 'verify': 4780, 'employee': 1462, 'authorize': 326, 'anywhere': 226, 'way': 4863, 'excess': 1561, 'build': 565, 'wall': 4832, 'ago': 119, 'long': 2651, 'like': 2615, 'couldnt': 987, 'environmental': 1510, 'impact': 2190, 'statement': 4276, 'campaign': 609, 'announce': 206, 'cabinet': 598, 'register': 3715, 'turn': 4664, 'public': 3557, 'school': 3979, 'offer': 3096, 'republican': 3778, 'candidate': 619, 'around': 275, 'military': 2864, 'recruiter': 3680, 'harvard': 2026, 'elena': 1438, 'kagan': 2436, 'position': 3404, 'wrong': 4970, 'teacher': 4466, 'mayor': 2783, 'providence': 3551, 'sanctuary': 3940, 'transgender': 4615, 'chance': 706, 'murder': 2950, 'bain': 350, 'capital': 627, 'help': 2054, 'early': 1385, 'childhood': 733, 'learn': 2562, 'call': 604, 'bright': 533, 'horizon': 2122, 'lady': 2524, 'michelle': 2849, 'rightly': 3859, 'praise': 3423, 'man': 2710, 'rush': 3915, 'dayton': 1097, 'social': 4171, 'medium': 2815, 'post': 3408, 'phil': 3310, 'power': 3420, 'spy': 4246, 'without': 4936, 'warrant': 4847, 'alex': 146, 'sink': 4137, 'funnel': 1850, 'quarter': 3583, 'contract': 936, 'population': 3390, 'virginia': 4807, 'net': 2999, 'zero': 4995, 'creation': 1016, 'bob': 468, 'mcdonnell': 2792, 'home': 2102, 'value': 4766, 'florida': 1747, 'collapse': 814, 'construction': 923, 'foreclosure': 1775, 'arizona': 265, 'immigration': 2187, 'police': 3369, 'officer': 3099, 'stop': 4309, 'anyone': 222, 'appear': 237, 'suspicious': 4416, 'undocumented': 4696, 'war': 4838, 'ii': 2174, 'factor': 1624, 'drive': 1361, 'recession': 3664, 'consumer': 927, 'native': 2973, 'save': 3956, 'saving': 3957, 'whether': 4899, 'nominee': 3035, 'forthcoming': 1792, 'confirmation': 896, 'hearing': 2046, 'homeless': 2104, 'veteran': 4786, 'charlie': 715, 'crist': 1025, 'support': 4387, 'medicare': 2811, 'advantage': 90, 'program': 3509, 'chinese': 737, 'large': 2535, 'wind': 4922, 'panel': 3199, 'manufacturing': 2724, 'europe': 1539, 'put': 3573, 'together': 4564, 'forget': 1784, 'brown': 549, 'let': 2589, 'employer': 1464, 'deny': 1177, 'coverage': 1005, 'birth': 448, 'point': 3363, 'past': 3232, 'egypt': 1419, 'great': 1958, 'political': 3372, 'democratic': 1166, 'amount': 192, 'attention': 314, 'week': 4878, 'chris': 743, 'christie': 747, 'benghazi': 417, 'steve': 4299, 'southerland': 4204, 'keep': 2458, 'import': 2198, 'nurse': 3068, 'criminal': 1022, 'transport': 4623, 'denture': 1176, 'across': 54, 'prison': 3478, 'day': 1095, 'mass': 2759, 'incarceration': 2212, 'explosion': 1597, 'nonviolent': 3042, 'offender': 3094, 'plan': 3345, 'virtually': 4809, 'nothing': 3055, 'burden': 573, 'increase': 2223, 'major': 2702, 'phoenix': 3315, 'kidnap': 2480, 'belong': 410, 'commissioner': 839, 'cant': 621, 'squat': 4250, 'poll': 3377, 'find': 1712, 'could': 986, 'beat': 393, 'eight': 1421, 'ronald': 3888, 'reagan': 3648, 'sent': 4037, 'troop': 4648, 'conflict': 899, 'circumstance': 761, 'lebanon': 2566, 'jolly': 2413, 'privatize': 3486, 'low': 2666, 'depression': 1189, 'average': 332, 'student': 4336, 'pocket': 3362, 'university': 4715, 'much': 2944, 'spend': 4223, 'die': 1231, 'gunfire': 1987, 'countrys': 997, 'effect': 1412, 'mean': 2800, 'bill': 440, 'facing': 1622, 'modify': 2909, 'mortgage': 2928, 'short': 4102, 'sale': 3933, 'lender': 2584, 'department': 1178, 'agriculture': 122, 'website': 4873, 'permit': 3290, 'carry': 651, 'hidden': 2066, 'gun': 1986, 'house': 2132, 'atlanta': 305, 'streetcar': 4323, 'expect': 1583, 'minimum': 2878, 'wage': 4826, 'hour': 2131, 'lift': 2612, 'secretary': 4009, 'kerry': 2471, 'senator': 4033, 'meet': 2817, 'communist': 849, 'daniel': 1082, 'accuse': 43, 'engage': 1484, 'terrorism': 4501, 'nato': 2974, 'open': 3118, 'terror': 4500, 'division': 1299, 'im': 2181, 'sure': 4395, 'largely': 2536, 'criticism': 1029, 'always': 174, 'prochoice': 3496, 'rating': 3634, 'raimondo': 3608, 'investment': 2334, 'fee': 1673, 'pension': 3272, 'portfolio': 3398, 'annually': 209, 'grow': 1973, 'obamas': 3079, 'longer': 2652, 'lay': 2552, 'firefighter': 1721, 'old': 3112, 'wisconsinite': 4930, 'receive': 3661, 'check': 722, 'search': 4002, 'current': 1059, 'exemption': 1573, 'premium': 3441, 'per': 3275, 'irs': 2350, 'also': 168, 'investigate': 2331, 'liberal': 2598, 'group': 1972, 'progressive': 3511, 'name': 2961, 'everybody': 1548, 'promised': 3519, 'fast': 1652, 'pace': 3185, 'prime': 3470, 'minister': 2880, 'benjamin': 418, 'netanyahu': 3000, 'majority': 2703, 'marry': 2747, 'freely': 1827, 'love': 2665, 'peter': 3302, 'socialist': 4172, 'openly': 3120, 'serve': 4050, 'congress': 901, 'giuliani': 1917, 'presidency': 3452, 'britain': 537, 'european': 1540, 'union': 4708, 'within': 4934, 'medicaid': 2809, 'second': 4006, 'constable': 919, 'duty': 1380, 'college': 820, 'columbus': 825, 'contribute': 942, 'cfo': 694, 'shut': 4113, 'scam': 3969, 'refund': 3707, 'victim': 4795, 'con': 875, 'computer': 874, 'science': 3985, 'degree': 1152, 'air': 129, 'force': 1770, 'taxpayer': 4462, 'football': 1767, 'league': 2559, 'hussein': 2159, 'accept': 29, 'islamic': 2356, 'sharia': 4078, 'domestic': 1320, 'dispute': 1282, 'commit': 840, 'legally': 2573, 'purchase': 3567, 'neighborhood': 2996, 'close': 794, 'tell': 4484, 'gay': 1880, 'strong': 4331, 'advocate': 97, 'special': 4216, 'ted': 4475, 'kennedy': 2465, 'speaker': 4215, 'consistently': 918, 'lean': 2561, 'halfway': 2002, 'goal': 1929, 'seven': 4060, 'saysmichael': 3964, 'bennet': 419, 'guantanamo': 1976, 'bay': 387, 'prisonand': 3479, 'bring': 535, 'terrorist': 4502, 'colorado': 823, 'oregonian': 3140, 'amazing': 177, 'donation': 1323, 'he': 2038, 'syrian': 4433, 'iraqi': 2346, 'research': 3789, 'show': 4107, 'vast': 4771, 'arrive': 278, 'immigrant': 2186, 'believe': 407, 'source': 4202, 'prosperity': 3538, 'thats': 4519, 'newt': 3015, 'gingrichs': 1914, 'amnesty': 189, 'caprio': 629, 'career': 639, 'politician': 3374, 'rhode': 3840, 'island': 2359, 'temporary': 4488, 'disability': 1255, 'jersey': 2393, 'interest': 2309, 'exceed': 1558, 'revenue': 3831, 'money': 2913, 'street': 4322, 'anybody': 219, 'donald': 1321, 'proliferation': 3517, 'ok': 3109, 'lobbyist': 2639, 'expressly': 1602, 'ban': 357, 'racial': 3594, 'beg': 399, 'send': 4034, 'coast': 804, 'guard': 1978, 'patrol': 3244, 'lake': 2526, 'border': 490, 'va': 4757, 'wait': 4827, 'rob': 3872, 'cornilles': 966, 'dan': 1078, 'branch': 516, 'try': 4656, 'expand': 1580, 'steady': 4288, 'progress': 3510, 'improve': 2207, 'michigan': 2850, 'deposit': 1186, 'afford': 104, 'profit': 3507, 'admit': 82, 'general': 1888, 'education': 1410, 'who': 4906, 'fought': 1798, 'developer': 1219, 'drain': 1349, 'johnson': 2409, 'ponzi': 3383, 'type': 4676, 'policy': 3371, 'pass': 3227, 'refer': 3698, 'north': 3048, 'carolina': 646, 'directly': 1252, 'relate': 3730, 'electric': 1433, 'car': 633, 'finland': 1717, 'china': 736, 'sarah': 3948, 'wasilla': 4852, 'highly': 2070, 'respect': 3803, 'librarian': 2600, 'refuse': 3709, 'consider': 914, 'remove': 3753, 'library': 2601, 'milwaukee': 2871, 'approve': 253, 'reduce': 3693, 'maximum': 2778, 'forfeiture': 1782, 'marijuana': 2738, 'possession': 3406, 'different': 1237, 'bicycle': 432, 'violation': 4804, 'illegal': 2176, 'write': 4969, 'letter': 2590, 'hillarycare': 2077, 'patent': 3235, 'trademark': 4602, 'complaint': 863, 'washington': 4851, 'redskins': 3692, 'proposal': 3529, 'cause': 672, 'decrease': 1127, 'hundred': 2150, 'mexican': 2843, 'citizen': 764, 'statistic': 4282, 'veto': 4788, 'package': 3187, 'mining': 2879, 'illinois': 2179, 'gubernatorial': 1980, 'brady': 510, 'priority': 3477, 'win': 4921, 'sponsor': 4235, 'sheltered': 4087, 'dog': 1311, 'cat': 663, 'chamber': 702, 'worsen': 4957, 'fail': 1628, 'action': 56, 'peak': 3259, 'trail': 4609, 'rest': 3809, 'consecutive': 910, 'thomas': 4537, 'eric': 1520, 'elevated': 1439, 'temperature': 4486, 'afghanistan': 107, 'foreign': 1776, 'price': 3465, 'webster': 4874, 'form': 1786, 'marriage': 2745, 'relationship': 3732, 'judge': 2419, 'else': 1447, 'lot': 2660, 'casino': 658, 'bankrupt': 360, 'senior': 4035, 'kid': 2479, 'arrest': 277, 'leader': 2556, 'area': 260, 'rank': 3622, 'oil': 3108, 'rig': 3857, 'combine': 830, 'payday': 3251, 'poor': 3385, 'charge': 710, 'trust': 4654, 'sound': 4200, 'anything': 223, 'do': 1303, 'function': 1842, 'well': 4885, 'commitment': 841, 'voter': 4821, 'seriously': 4047, 'incumbent': 2227, 'break': 522, 'pledge': 3357, 'strickland': 4326, 'income': 2219, 'hike': 2074, 'defeat': 1138, 'soundly': 4201, 'tuesday': 4658, 'alert': 145, 'see': 4016, 'americas': 187, 'explode': 1594, 'percentage': 3278, 'behind': 405, 'bar': 362, 'gabrielle': 1857, 'petraeus': 3306, 'army': 274, 'emphasis': 1460, 'environmentally': 1511, 'damaging': 1077, 'method': 2840, 'stab': 4251, 'club': 798, 'enemy': 1479, 'order': 3135, 'minimize': 2877, 'carbon': 634, 'single': 4136, 'block': 460, 'adjustment': 75, 'january': 2381, 'male': 2707, 'baby': 339, 'many': 2725, 'strike': 4328, 'syria': 4432, 'assad': 289, 'chemical': 726, 'weapon': 4868, 'cash': 657, 'clunkers': 799, 'local': 2640, 'tow': 4592, 'gut': 1990, 'recognize': 3668, 'real': 3649, 'top': 4578, 'dewhurst': 1224, 'record': 3672, 'promote': 3520, 'beach': 389, 'privately': 3484, 'own': 3179, 'operate': 3121, 'mind': 2873, 'conclude': 883, 'kill': 2481, 'lead': 2555, 'access': 31, 'hasnt': 2031, 'move': 2938, 'needle': 2988, 'consist': 916, 'core': 961, 'accord': 37, 'agency': 115, 'weidner': 4881, 'propose': 3531, 'away': 336, 'former': 1787, 'tom': 4569, 'kean': 2454, 'big': 438, 'ready': 3647, 'commander': 834, 'chief': 731, 'median': 2808, 'barrett': 369, 'hold': 2094, 'property': 3526, 'representative': 3775, 'contribution': 943, 'unlike': 4719, 'gridlock': 1965, 'assembly': 292, 'bipartisan': 445, 'josh': 2417, 'mandel': 2716, 'lie': 2606, 'ohios': 3107, 'lease': 2563, 'drilling': 1358, 'hide': 2067, 'possible': 3407, 'turnpike': 4667, 'beginning': 402, 'surplus': 4401, 'project': 3513, 'nomination': 3034, 'confirm': 895, 'four': 1803, 'feisal': 1679, 'abdul': 5, 'raufs': 3637, 'trip': 4646, 'east': 1396, 'county': 998, 'settle': 4058, 'lawsuit': 2549, 'decision': 1122, 'sheriff': 4088, 'clarke': 773, 'untrained': 4732, 'correction': 972, 'rather': 3632, 'deputy': 1192, 'lakefront': 2527, 'fbi': 1661, 'james': 2378, 'comey': 833, 'discuss': 1273, 'detail': 1207, 'investigation': 2332, 'considerably': 915, 'effective': 1413, 'biden': 436, 'gulf': 1984, 'surge': 4397, 'partition': 3217, 'iraq': 2345, 'limbaugh': 2618, 'clear': 782, 'hed': 2051, 'succeed': 4359, 'wasnt': 4853, 'recruit': 3679, 'throughout': 4547, 'perdue': 3280, 'abolish': 11, 'eliminate': 1442, 'campus': 612, 'twice': 4671, 'graduate': 1951, 'theyve': 4531, 'score': 3990, 'flat': 1736, 'affect': 100, 'thousand': 4541, 'party': 3221, 'cornyn': 967, 'greg': 1964, 'abbott': 3, 'healthcare': 2043, 'gdp': 1884, 'nobody': 3030, 'mile': 2861, 'closer': 795, 'eastern': 1397, 'need': 2987, 'photo': 3318, 'id': 2166, 'sudafed': 4364, 'twenty': 4670, 'housing': 2134, 'portland': 3400, 'pearl': 3261, 'allow': 160, 'payroll': 3253, 'holiday': 2097, 'expire': 1591, 'another': 212, 'estimate': 1534, 'nafta': 2960, 'trade': 4601, 'pennsylvania': 3270, 'numerous': 3066, 'study': 4338, 'generate': 1889, 'gross': 1968, 'product': 3500, 'historically': 2085, 'affair': 98, 'scandal': 3972, 'satisfy': 3951, 'initial': 2266, 'response': 3806, 'hear': 2045, 'christmas': 749, 'underwear': 4695, 'bomber': 477, 'isolated': 2364, 'extremist': 1613, 'sherrod': 4089, 'stimulus': 4305, 'specifically': 4218, 'lower': 2668, 'claim': 771, 'enough': 1492, 'rich': 3844, 'charleston': 714, 'universal': 4714, 'background': 341, 'okay': 3110, 'soldier': 4177, 'throw': 4548, 'legal': 2570, 'challenge': 700, 'reject': 3729, 'unconstitutional': 4686, 'warren': 4848, 'buffett': 564, 'lemieux': 2582, 'precinct': 3428, 'allen': 158, 'murphy': 2952, 'recount': 3674, 'guatemalan': 1979, 'tally': 4444, 'kathleen': 2447, 'determine': 1214, 'patient': 3238, 'klein': 2494, 'repeatedly': 3769, 'enforcement': 1483, 'data': 1087, 'hub': 2141, 'treasure': 4632, 'trove': 4649, 'personal': 3296, 'info': 2258, 'tenure': 4494, 'saw': 3959, 'houston': 2135, 'drop': 1365, 'level': 2593, 'columbia': 824, 'barry': 373, 'senate': 4032, 'fill': 1705, 'millionaire': 2870, 'solution': 4181, 'crisis': 1024, 'vacation': 4760, 'promise': 3518, 'hypocrisy': 2164, 'foundation': 1801, 'staff': 4256, 'female': 1684, 'violence': 4805, 'adopt': 84, 'fall': 1639, 'question': 3584, 'miranda': 2885, 'warning': 4846, 'minute': 2884, 'legalize': 2572, 'pregnancy': 3438, 'unintended': 4707, 'borrow': 492, 'saudi': 3954, 'result': 3817, 'dependency': 1181, 'welcome': 4883, 'whos': 4909, 'complain': 862, 'gain': 1858, 'entire': 1502, 'difference': 1236, 'previous': 3463, 'thing': 4532, 'head': 2039, 'dairy': 1073, 'workforce': 4951, 'nationwide': 2972, 'something': 4189, 'portman': 3401, 'irresponsible': 2349, 'dekalb': 1153, 'palin': 3196, 'pat': 3234, 'buchanan': 558, 'energy': 1480, 'production': 3501, 'jeanne': 2386, 'shaheen': 4073, 'measure': 2803, 'strict': 4327, 'skyrocket': 4147, 'toughen': 4587, 'penalty': 3267, 'workplace': 4953, 'gender': 1887, 'discrimination': 1272, 'cooking': 955, 'cleaning': 781, 'infrastructure': 2263, 'proper': 3524, 'collective': 818, 'noun': 3059, 'predatory': 3431, 'target': 4452, 'december': 1115, 'period': 3284, 'difficult': 1238, 'hire': 2081, 'increased': 2224, 'cbo': 675, 'congressional': 903, 'thompson': 4538, 'cap': 624, 'damage': 1076, 'fiscal': 1724, 'reserve': 3790, 'strategic': 4317, 'uninsured': 4706, 'firearm': 1720, 'homicide': 2108, 'upwards': 4742, 'ultrasound': 4683, 'harbor': 2020, 'common': 843, 'pill': 3328, 'jason': 2384, 'kander': 2438, 'suspected': 4413, 'soil': 4175, 'shelby': 4084, 'donate': 1322, 'sorry': 4197, 'memphis': 2827, 'intelligence': 2306, 'official': 3100, 'toldevery': 4566, 'serious': 4046, 'threat': 4543, 'suburb': 4357, 'inundate': 2324, 'absolutely': 20, 'july': 2424, 'locate': 2641, 'teenage': 4478, 'daughter': 1091, 'partner': 3219, 'blame': 457, 'mike': 2860, 'mcintyre': 2796, 'nancy': 2962, 'pelosi': 3266, 'straight': 4313, 'beneficiary': 415, 'account': 38, 'transfer': 4614, 'mechanism': 2806, 'place': 3342, 'internet': 2314, 'report': 3771, 'insist': 2283, 'part': 3208, 'fiscalcliff': 1725, 'false': 1640, 'btw': 556, 'play': 3353, 'clip': 792, 'knife': 2497, 'ryans': 3920, 'connie': 909, 'mack': 2685, 'iv': 2372, 'miss': 2892, 'eisenhower': 1424, 'salute': 3936, 'personnel': 3299, 'wisconsin': 4929, 'counterpart': 994, 'airplane': 132, 'list': 2629, 'flow': 1751, 'wont': 4943, 'default': 1137, 'homeowner': 2106, 'lending': 2585, 'practice': 3422, 'wipe': 4927, 'starbucks': 4268, 'brand': 517, 'cup': 1053, 'condition': 885, 'push': 3572, 'pressure': 3456, 'approximately': 254, 'pound': 3417, 'square': 4249, 'inch': 2216, 'unlimited': 4720, 'demand': 1163, 'moment': 2912, 'funding': 1844, 'refugee': 3706, 'obtain': 3084, 'scholarship': 3978, 'attend': 312, 'six': 4141, 'star': 4267, 'hook': 2116, 'third': 4534, 'falcon': 1637, 'stadium': 4255, 'repay': 3765, 'missouri': 2896, 'lone': 2650, 'refinance': 3702, 'resolution': 3800, 'disapproval': 1261, 'condemn': 884, 'behavior': 404, 'competitor': 861, 'entirely': 1503, 'recent': 3662, 'international': 2313, 'near': 2983, 'bottom': 497, 'among': 190, 'industrialized': 2246, 'academic': 26, 'achievement': 47, 'doctor': 1305, 'theyre': 4530, 'sick': 4117, 'owe': 3178, 'mistake': 2897, 'situation': 4140, 'arkansas': 268, 'train': 4610, 'fully': 1840, 'extend': 1603, 'ceiling': 677, 'cover': 1004, 'despite': 1203, 'scrutiny': 3998, 'conservative': 913, 'mahmoud': 2693, 'establish': 1531, 'vladimir': 4815, 'putin': 3574, 'board': 466, 'sboe': 3967, 'appointee': 244, 'jefferson': 2389, 'textbook': 4512, 'standard': 4263, 'historical': 2084, 'figure': 1700, 'inspire': 2286, 'salary': 3932, 'perk': 3285, 'ca': 597, 'pull': 3562, 'truth': 4655, 'matter': 2772, 'physically': 3322, 'logistically': 2647, 'wealth': 4866, 'yet': 4980, 'penny': 3271, 'kriseman': 2508, 'ineffective': 2248, 'krisemans': 2509, 'routinely': 3897, 'cell': 680, 'phone': 3316, 'negotiation': 2994, 'clackamas': 770, 'agreement': 121, 'countys': 999, 'trimets': 4645, 'light': 2613, 'rail': 3606, 'felony': 1682, 'dramatically': 1352, 'annual': 208, 'registration': 3717, 'impose': 2201, 'redskin': 3691, 'camp': 608, 'deal': 1102, 'anytime': 224, 'defend': 1140, 'reformer': 3705, 'civil': 768, 'postal': 3409, 'service': 4052, 'financial': 1710, 'loss': 2659, 'delay': 1156, 'opposition': 3130, 'amendment': 181, 'confederate': 890, 'battle': 384, 'building': 566, 'gift': 1909, 'shop': 4100, 'shes': 4090, 'hurt': 2156, 'jackson': 2376, 'lee': 2567, 'hey': 2064, 'generation': 1890, 'spot': 4238, 'planet': 3347, 'google': 1939, 'iron': 2347, 'ore': 3138, 'mine': 2874, 'northern': 3051, 'pristine': 3481, 'waste': 4855, 'black': 454, 'itd': 2370, 'wealthy': 4867, 'graduation': 1952, 'sell': 4026, 'seller': 4027, 'either': 1425, 'online': 3116, 'deadly': 1101, 'amanda': 175, 'fritz': 1834, 'manage': 2711, 'bad': 343, 'floridian': 1749, 'repeal': 3766, 'congressman': 904, 'pascrell': 3225, 'option': 3132, 'lawmaker': 2548, 'effort': 1417, 'draw': 1354, 'surrogate': 4404, 'rape': 3626, 'incest': 2215, 'though': 4540, 'somehow': 4186, 'minor': 2882, 'issue': 2368, 'offshore': 3103, 'medical': 2810, 'refill': 3701, 'forever': 1780, 'microchip': 2852, 'implant': 2194, 'opt': 3131, 'enact': 1468, 'predator': 3430, 'abuser': 25, 'concealed': 877, 'treasurer': 4633, 'management': 2712, 'oversight': 3171, 'charter': 717, 'apply': 242, 'municipal': 2949, 'roughly': 3894, 'ri': 3841, 'nathan': 2967, 'hope': 2119, 'literally': 2631, 'georgian': 1898, 'technical': 4473, 'training': 4611, 'badly': 344, 'havent': 2035, 'ive': 2373, 'teach': 4465, 'bewilder': 429, 'scope': 3989, 'reach': 3641, 'apparatus': 233, 'explicitly': 1593, 'disclosure': 1267, 'hassans': 2033, 'huge': 2145, 'sum': 4373, 'influence': 2256, 'legislative': 2576, 'arabia': 257, 'williamson': 4918, 'attorney': 315, 'jana': 2379, 'prosecute': 3534, 'adult': 86, 'fundraising': 1848, 'negotiate': 2992, 'although': 171, 'seem': 4019, 'reflect': 3703, 'shrinking': 4111, 'actual': 61, 'labor': 2520, 'convict': 952, 'oversee': 3170, 'raid': 3605, 'retirement': 3822, 'balance': 351, 'battlefield': 385, 'green': 1960, 'packer': 3188, 'player': 3354, 'republic': 3777, 'donetsk': 1324, 'bragging': 512, 'apparent': 234, 'civilian': 769, 'faster': 1653, 'leisure': 2581, 'hospitality': 2127, 'mostly': 2931, 'restaurant': 3810, 'proportion': 3528, 'vehicle': 4775, 'prevent': 3459, 'airport': 133, 'gotten': 1942, 'store': 4310, 'bulb': 567, 'back': 340, 'row': 3898, 'carter': 654, 'associated': 299, 'press': 3455, 'patrick': 3239, 'problem': 3491, 'suicide': 4370, 'additional': 72, 'agent': 117, 'fifteen': 1695, 'master': 2763, 'lock': 2643, 'unionized': 4710, 'run': 3909, 'full': 1839, 'capacity': 626, 'reed': 3697, 'projection': 3515, 'overhaul': 3166, 'originally': 3145, 'frank': 1814, 'pallone': 3197, 'may': 2780, 'fingerprint': 1715, 'indeed': 2229, 'brag': 511, 'independent': 2233, 'shooting': 4099, 'course': 1001, 'educate': 1409, 'omnibus': 3114, 'earmark': 1386, 'talk': 4442, 'kim': 2485, 'myers': 2957, 'broome': 545, 'relocate': 3740, 'headquarters': 2040, 'california': 602, 'prop': 3523, 'film': 1706, 'riskfor': 3863, 'harassment': 2019, 'toll': 4568, 'privilege': 3487, 'cross': 1035, 'bridge': 532, 'sen': 4031, 'chambliss': 703, 'estate': 1533, 'legislature': 2578, 'kay': 2452, 'bailey': 347, 'hutchison': 2160, 'mica': 2846, 'mary': 2756, 'burke': 579, 'reporter': 3772, 'anybodys': 220, 'table': 4436, 'partisan': 3215, 'pick': 3324, 'multiple': 2946, 'regular': 3719, 'mid': 2853, 'rag': 3604, 'populist': 3391, 'constitutional': 922, 'convention': 948, 'rise': 3861, 'flint': 1741, 'mich': 2847, 'poison': 3364, 'burlington': 580, 'clean': 780, 'complicate': 867, 'comply': 869, 'code': 807, 'prayer': 3425, 'room': 3890, 'rug': 3905, 'pray': 3424, 'allah': 153, 'bulk': 568, 'drug': 1368, 'gang': 1865, 'motor': 2933, 'ask': 285, 'england': 1488, 'grant': 1957, 'institution': 2295, 'miami': 2845, 'carlos': 642, 'curbelo': 1055, 'drill': 1357, 'ability': 9, 'pollution': 3381, 'combat': 828, 'disclose': 1266, 'donor': 1326, 'suspicion': 4415, 'usa': 4748, 'continue': 932, 'wonder': 4942, 'rand': 3619, 'billionaire': 442, 'super': 4379, 'pac': 3184, 'collect': 816, 'intend': 2307, 'recover': 3676, 'newly': 3010, 'payment': 3252, 'advisory': 95, 'mitchell': 2899, 'park': 3206, 'dome': 1319, 'youd': 4983, 'little': 2632, 'evidence': 1552, 'red': 3684, 'camera': 607, 'severity': 4064, 'accident': 33, 'intersection': 2317, 'camden': 606, 'delinquent': 1160, 'pastor': 3233, 'preacher': 3426, 'rabbi': 3590, 'imam': 2183, 'sermon': 4048, 'moral': 2921, 'tradition': 4604, 'sexual': 4068, 'guilty': 1983, 'jobless': 2406, 'colleague': 815, 'crack': 1007, 'attract': 316, 'gingrich': 1913, 'affirmative': 103, 'procedure': 3492, 'global': 1922, 'aid': 124, 'instability': 2287, 'recipient': 3666, 'thanks': 4517, 'nowhere': 3061, 'award': 335, 'date': 1089, 'pupil': 3566, 'compare': 857, 'steadfast': 4286, 'path': 3236, 'citizenship': 765, 'welfare': 4884, 'tammy': 4445, 'baldwin': 353, 'introduce': 2323, 'lesbian': 2587, 'bisexual': 452, 'identity': 2171, 'acorn': 50, 'trading': 4603, 'slavery': 4152, 'girl': 1915, 'survey': 4407, 'transit': 4617, 'ridership': 3853, 'age': 114, 'via': 4790, 'render': 3756, 'completely': 865, 'june': 2427, 'hard': 2021, 'someone': 4187, 'region': 3713, 'fair': 1633, 'fact': 1623, 'reid': 3725, 'rebecca': 3656, 'bradley': 509, 'diploma': 1246, 'implement': 2195, 'exchange': 1562, 'tape': 4451, 'alicia': 148, 'machado': 2683, 'feature': 1667, 'systematically': 4435, 'minnesota': 2881, 'cory': 979, 'booker': 484, 'safety': 3927, 'regulation': 3721, 'modern': 2908, 'release': 3735, 'least': 2564, 'return': 3825, 'alone': 165, 'export': 1599, 'korea': 2503, 'market': 2742, 'farmer': 1649, 'provider': 3552, 'suffer': 4368, 'luxury': 2677, 'tim': 4555, 'kaine': 2437, 'ambition': 179, 'dnc': 1302, 'chairman': 698, 'easy': 1398, 'jet': 2398, 'zack': 4992, 'space': 4209, 'sanction': 3939, 'there': 4527, 'subcommittee': 4342, 'hampshire': 2008, 'working': 4952, 'rack': 3597, 'carol': 645, 'creator': 1017, 'sixty': 4143, 'somewhere': 4192, 'stay': 4285, 'shave': 4082, 'intervene': 2319, 'libya': 2602, 'cleveland': 785, 'nationally': 2971, 'distance': 1286, 'interviewer': 2322, 'bernie': 422, 'sander': 3942, 'detention': 1211, 'side': 4118, 'stand': 4262, 'hunt': 2152, 'incentive': 2213, 'egyptian': 1420, 'violent': 4806, 'available': 331, 'preparation': 3443, 'exxon': 1616, 'aarp': 1, 'supplemental': 4385, 'monthly': 2918, 'incorporate': 2222, 'read': 3643, 'grade': 1950, 'cuyahoga': 1067, 'clinic': 790, 'critical': 1028, 'emergency': 1456, 'zika': 4996, 'pet': 3300, 'kilmartin': 2484, 'occupy': 3089, 'protester': 3545, 'forward': 1796, 'probation': 3489, 'parole': 3207, 'enslave': 1497, 'fisher': 1727, 'watch': 4858, 'nine': 3024, 'limit': 2619, 'contraception': 934, 'cheap': 719, 'udalls': 4680, 'define': 1146, 'del': 1154, 'grocery': 1967, 'opposed': 3128, 'levee': 2592, 'flood': 1743, 'pork': 3393, 'protect': 3540, 'warner': 4845, 'prohibit': 3512, 'prescription': 3448, 'neutrality': 3004, 'essentially': 1530, 'massive': 2762, 'typical': 4677, 'white': 4902, 'treaty': 4637, 'certainly': 691, 'registry': 3718, 'set': 4057, 'confiscation': 898, 'misadventure': 2887, 'math': 2769, 'apprehend': 248, 'pakistan': 3193, 'fly': 1756, 'perform': 3282, 'angel': 198, 'taveras': 4458, 'kendrick': 2464, 'meek': 2816, 'advanced': 88, 'inmate': 2273, 'dead': 1099, 'philadelphia': 3311, 'teamster': 4469, 'countless': 995, 'beverage': 428, 'tobacco': 4561, 'cigar': 757, 'childrens': 734, 'corn': 963, 'spike': 4227, 'smoke': 4165, 'ninety': 3025, 'texan': 4509, 'nursing': 3069, 'unique': 4711, 'politics': 3375, 'staffer': 4257, 'kasichs': 2445, 'committee': 842, 'race': 3592, 'participate': 3210, 'hurricane': 2155, 'katrina': 2451, 'god': 1931, 'punishment': 3565, 'catholic': 668, 'church': 754, 'stock': 4306, 'rival': 3865, 'founder': 1802, 'gaylord': 1881, 'nelson': 2998, 'interview': 2321, 'secondary': 4007, 'produce': 3498, 'dropout': 1366, 'embryonic': 1454, 'stem': 4294, 'example': 1557, 'successful': 4361, 'treatment': 4636, 'dane': 1080, 'hand': 2009, 'count': 992, 'presidential': 3454, 'ambassador': 178, 'christopher': 750, 'stevens': 4301, 'request': 3784, 'ten': 4489, 'household': 2133, 'towards': 4594, 'retire': 3820, 'friend': 1833, 'switch': 4425, 'usage': 4749, 'synthetic': 4431, 'instance': 2291, 'bodily': 472, 'harm': 2024, 'death': 1107, 'information': 2259, 'accumulate': 41, 'africa': 109, 'hospital': 2126, 'century': 686, 'initially': 2267, 'yes': 4979, 'stupid': 4340, 'folk': 1759, 'correct': 971, 'submit': 4346, 'obligation': 3082, 'update': 4736, 'address': 73, 'bmv': 465, 'vietnamese': 4799, 'commonly': 844, 'spoken': 4233, 'language': 2533, 'generous': 1891, 'opinion': 3123, 'transportation': 4624, 'referendum': 3699, 'criticize': 1030, 'constitution': 921, 'trigger': 4642, 'microcephaly': 2851, 'dtap': 1370, 'shot': 4105, 'vaccine': 4763, 'recently': 3663, 'brazilian': 521, 'inject': 2270, 'pregnant': 3439, 'executive': 1571, 'legislator': 2577, 'carly': 643, 'fiorina': 1718, 'assault': 291, 'bond': 480, 'multiply': 2947, 'platform': 3351, 'democrats': 1168, 'cop': 958, 'hybrid': 2161, 'honor': 2114, 'repeated': 3768, 'reduced': 3694, 'failure': 1632, 'various': 4770, 'buck': 559, 'internment': 2315, 'mccollum': 2788, 'nra': 3062, 'leadership': 2557, 'pretty': 3458, 'intact': 2304, 'turkey': 4663, 'arab': 256, 'bid': 433, 'hiv': 2088, 'leffingwell': 2568, 'accuses': 44, 'contradictory': 939, 'osama': 3147, 'bin': 443, 'laden': 2523, 'assassination': 290, 'drone': 1364, 'finally': 1708, 'classroom': 777, 'suppose': 4390, 'designate': 1199, 'aclu': 49, 'newark': 3008, 'immediate': 2184, 'monitor': 2915, 'vaccinate': 4761, 'hpv': 2140, 'highway': 2071, 'el': 1426, 'paso': 3226, 'bullet': 569, 'fails': 1631, 'competitive': 860, 'electorate': 1432, 'sic': 4116, 'nikita': 3022, 'khrushchev': 2476, 'extra': 1609, 'shoe': 4097, 'session': 4055, 'desk': 1202, 'protest': 3544, 'renacci': 3754, 'liebermans': 2607, 'daily': 1072, 'expense': 1587, 'ceos': 688, 'franklin': 1816, 'delano': 1155, 'roosevelt': 3891, 'deport': 1184, 'dreamer': 1356, 'apparently': 235, 'vet': 4785, 'defund': 1148, 'piece': 3326, 'ray': 3640, 'strauss': 4321, 'champion': 704, 'storm': 4311, 'taj': 4439, 'mahal': 2691, 'courthouse': 1003, 'france': 1810, 'surveillance': 4406, 'thousandfold': 4542, 'invasive': 2328, 'blue': 462, 'chip': 738, 'indicator': 2242, 'predict': 3434, 'positive': 3405, 'fourth': 1804, 'advance': 87, 'overseas': 3169, 'front': 1836, 'backlog': 342, 'view': 4800, 'pornography': 3395, 'mccrory': 2790, 'adviser': 93, 'romneycare': 3885, 'ballot': 355, 'especially': 1526, 'nytimes': 3073, 'apologize': 230, 'shrink': 4110, 'bore': 491, 'hole': 2096, 'whole': 4907, 'argument': 264, 'caput': 632, 'developed': 1218, 'switzerland': 4426, 'rainy': 3609, 'infant': 2251, 'follow': 1760, 'attempted': 311, 'notably': 3053, 'spouse': 4239, 'everyone': 1549, 'paycheck': 3250, 'pump': 3563, 'might': 2858, 'pose': 3403, 'risk': 3862, 'latina': 2542, 'craft': 1010, 'brewery': 529, 'brewer': 528, 'threshold': 4546, 'surround': 4405, 'offense': 3095, 'invest': 2330, 'dallas': 1074, 'los': 2657, 'angeles': 199, 'detroit': 1215, 'carcieri': 635, 'host': 2128, 'lighting': 2614, 'tree': 4638, 'heavily': 2048, 'deploy': 1183, 'superintendent': 4380, 'gutted': 1991, 'saysvirginia': 3966, 'republicanscott': 3781, 'taylor': 4463, 'travis': 4630, 'ignore': 2173, 'laugh': 2544, 'achieve': 46, 'ton': 4572, 'narcotic': 2963, 'confiscate': 897, 'exempt': 1572, 'potentially': 3414, 'telecommunication': 4481, 'loretta': 2656, 'lynch': 2679, 'team': 4468, 'whitewater': 4904, 'corruption': 977, 'manhattan': 2718, 'rally': 3612, 'accelerate': 28, 'precedent': 3427, 'pathway': 3237, 'deliver': 1161, 'jack': 2374, 'robust': 3876, 'driver': 1362, 'license': 2604, 'mexico': 2844, 'central': 685, 'gasoline': 1876, 'diesel': 1233, 'fuel': 1838, 'richard': 3845, 'burr': 582, 'insider': 2281, 'brave': 519, 'christian': 746, 'vermont': 4781, 'sentence': 4038, 'couple': 1000, 'email': 1449, 'monies': 2914, 'recoup': 3675, 'tarp': 4455, 'shall': 4075, 'treasury': 4634, 'treat': 4635, 'game': 1864, 'registered': 3716, 'whose': 4910, 'client': 786, 'haiti': 1999, 'despot': 1204, 'economically': 1404, 'viable': 4791, 'gold': 1932, 'medal': 2807, 'accountability': 39, 'choice': 739, 'ohioan': 3106, 'reveal': 3829, 'residency': 3794, 'user': 4752, 'privacy': 3482, 'expert': 1590, 'al': 137, 'qaeda': 3576, 'kelly': 2461, 'ayotte': 338, 'lobby': 2638, 'network': 3002, 'financing': 1711, 'cranston': 1013, 'notification': 3056, 'aircraft': 130, 'carrier': 649, 'submarine': 4345, 'compliance': 866, 'plumber': 3359, 'sheet': 4083, 'metal': 2839, 'independence': 2232, 'efficiency': 1416, 'exporter': 1600, 'loophole': 2655, 'deceptively': 1117, 'fur': 1852, 'kb': 2453, 'toy': 4598, 'describe': 1196, 'boston': 496, 'herald': 2057, 'disgusting': 1277, 'roy': 3900, 'cooper': 957, 'refusal': 3708, 'qatar': 3577, 'restriction': 3815, 'goldman': 1934, 'sachs': 3921, 'bos': 494, 'unilaterally': 4704, 'disarm': 1262, 'moratorium': 2922, 'news': 3012, 'story': 4312, 'railroad': 3607, 'michael': 2848, 'williams': 4917, 'tea': 4464, 'gathering': 1879, 'harry': 2025, 'alien': 149, 'equal': 1513, 'rubios': 3903, 'citation': 762, 'kasim': 2446, 'corleone': 962, 'respond': 3805, 'ricos': 3850, 'corporation': 970, 'voteand': 4820, 'redistricting': 3690, 'mention': 2831, 'running': 3910, 'mate': 2766, 'de': 1098, 'subway': 4358, 'soar': 4169, 'relief': 3736, 'smith': 4163, 'bailout': 348, 'assure': 301, 'bailouts': 349, 'happen': 2017, 'direct': 1250, 'parent': 3203, 'often': 3104, 'array': 276, 'baltimore': 356, 'palestine': 3194, 'distressed': 1288, 'nigeria': 3020, 'india': 2236, 'entitlement': 1505, 'increasingly': 2225, 'voting': 4822, 'opportunity': 3126, 'ocean': 3091, 'spray': 4241, 'bordentown': 489, 'processing': 3495, 'facility': 1621, 'associate': 298, 'regional': 3714, 'greenhouse': 1962, 'initiative': 2269, 'northeastern': 3050, 'length': 2586, 'murderer': 2951, 'must': 2956, 'eligible': 1441, 'really': 3652, 'realize': 3651, 'diane': 1226, 'sandy': 3944, 'atlantic': 306, 'gwinnett': 1993, 'henry': 2056, 'correctional': 973, 'debate': 1108, 'ganley': 1866, 'toomey': 4576, 'jeb': 2387, 'alive': 152, 'identical': 2168, 'suit': 4371, 'vodka': 4816, 'netherlands': 3001, 'crystal': 1047, 'slovenia': 4156, 'cufflink': 1051, 'tie': 4551, 'subsidy': 4353, 'hotel': 2130, 'jump': 2426, 'walmart': 4833, 'compact': 854, 'pop': 3386, 'lag': 2525, 'consistent': 917, 'moderate': 2907, 'lever': 2594, 'langevin': 2532, 'partnership': 3220, 'barbara': 364, 'boxer': 500, 'worry': 4956, 'weather': 4870, 'overwhelmingly': 3177, 'catch': 665, 'merrick': 2836, 'garland': 1872, 'author': 324, 'prisoner': 3480, 'islamist': 2358, 'extremists': 1614, 'approval': 252, 'restrictive': 3816, 'fatality': 1655, 'felon': 1681, 'threaten': 4544, 'bomb': 476, 'consult': 925, 'except': 1559, 'jerry': 2392, 'ed': 1407, 'gillespie': 1910, 'recommend': 3669, 'enforce': 1482, 'blake': 456, 'rocap': 3877, 'jerusalem': 2395, 'israel': 2366, 'draft': 1347, 'homeownership': 2107, 'staffing': 4258, 'ratio': 3635, 'wed': 4875, 'spiral': 4229, 'turnout': 4666, 'experience': 1589, 'doesnt': 1310, 'kenya': 2469, 'resign': 3798, 'pretrial': 3457, 'visit': 4812, 'nashville': 2966, 'carve': 655, 'redistribution': 3689, 'tampa': 4446, 'strip': 4329, 'constituent': 920, 'cuba': 1048, 'venezuela': 4777, 'link': 2625, 'far': 1646, 'protection': 3542, 'earlier': 1384, 'sexually': 4069, 'crowd': 1040, 'sprawl': 4240, 'capitol': 628, 'monument': 2919, 'supervisor': 4383, 'noncitizen': 3036, 'roll': 3882, 'withdraw': 4932, 'indefinitely': 2230, 'cantor': 623, 'appoint': 243, 'stamp': 4261, 'farm': 1648, 'turbine': 4662, 'significant': 4124, 'particularly': 3213, 'march': 2731, 'hijack': 2072, 'revolution': 3838, 'shah': 4072, 'brutal': 554, 'theocracy': 4525, 'spanish': 4211, 'tv': 4668, 'process': 3494, 'objective': 3081, 'criterion': 1027, 'boundary': 498, 'resource': 3802, 'body': 473, 'armor': 272, 'helicopter': 2052, 'ammunition': 188, 'barretts': 370, 'video': 4797, 'manufacturer': 2723, 'franchise': 1811, 'dealer': 1103, 'autism': 327, 'prior': 3475, 'rifle': 3856, 'round': 3895, 'residential': 3796, 'handgun': 2012, 'pole': 3368, 'paid': 3190, 'basketball': 380, 'coach': 801, 'floridas': 1748, 'farming': 1650, 'alcohol': 143, 'underage': 4690, 'bureaucrat': 576, 'scan': 3971, 'keystone': 2473, 'xl': 4973, 'pipeline': 3336, 'speech': 4220, 'takeover': 4441, 'quite': 3588, 'percentof': 3279, 'taxed': 4461, 'flores': 1746, 'permission': 3289, 'medicine': 2813, 'projected': 3514, 'shortfall': 4104, 'certain': 690, 'weekend': 4879, 'unnecessarily': 4721, 'flight': 1740, 'faa': 1618, 'bail': 346, 'costly': 984, 'sixth': 4142, 'fine': 1713, 'asthma': 302, 'studio': 4337, 'ordinary': 3137, 'soccer': 4170, 'pending': 3268, 'few': 1692, 'nunn': 3067, 'handpicked': 2014, 'agenda': 116, 'gon': 1936, 'na': 2958, 'cutback': 1065, 'lack': 2522, 'defer': 1144, 'deportation': 1185, 'shuttle': 4115, 'museum': 2953, 'isnt': 2363, 'congressdecision': 902, 'sequestration': 4044, 'nidal': 3019, 'hasan': 2029, 'fort': 1790, 'hood': 2115, 'advisor': 94, 'ceo': 687, 'tip': 4560, 'physician': 3323, 'distribute': 1289, 'latin': 2541, 'imminent': 2188, 'food': 1763, 'magazine': 2689, 'cargo': 640, 'cruise': 1042, 'burger': 578, 'king': 2488, 'deer': 1136, 'bidder': 434, 'ally': 162, 'historic': 2083, 'sean': 4001, 'duffy': 1374, 'ribble': 3842, 'hall': 2003, 'meeting': 2818, 'controversial': 946, 'consent': 911, 'pride': 3467, 'night': 3021, 'iowa': 2340, 'caucus': 670, 'focus': 1758, 'phony': 3317, 'horse': 2125, 'racing': 3595, 'key': 2472, 'smart': 4160, 'launch': 2545, 'curbside': 1056, 'recycling': 3683, 'detainee': 1210, 'birther': 449, 'controversy': 947, 'equivalent': 1516, 'barrow': 372, 'celebrates': 679, 'ownership': 3181, 'face': 1619, 'schoolchildren': 3980, 'justify': 2434, 'automobile': 330, 'important': 2200, 'expansion': 1582, 'pasco': 3224, 'injury': 2271, 'assistance': 297, 'nutrition': 3070, 'outcome': 3155, 'drastic': 1353, 'misconduct': 2889, 'disgrace': 1276, 'insure': 2300, 'castro': 661, 'preference': 3437, 'significantly': 4125, 'reading': 3646, 'employment': 1465, 'scale': 3968, 'clock': 793, 'sayspresident': 3965, 'unelected': 4697, 'altogether': 172, 'similar': 4129, 'indianas': 2238, 'religious': 3739, 'freedom': 1825, 'restoration': 3811, 'imprison': 2203, 'nose': 3052, 'dive': 1294, 'declare': 1124, 'qualify': 3581, 'healthy': 2044, 'tallahassee': 4443, 'milk': 2865, 'elementary': 1437, 'tear': 4471, 'jeff': 2388, 'weems': 4880, 'bp': 505, 'plummet': 3360, 'thom': 4536, 'tillis': 4554, 'bible': 431, 'principal': 3472, 'sewer': 4066, 'aside': 284, 'exclusively': 1567, 'aspirin': 288, 'medication': 2812, 'secretly': 4010, 'torture': 4582, 'cartel': 653, 'rebate': 3655, 'danny': 1083, 'tarkanian': 4454, 'missile': 2893, 'shield': 4091, 'russia': 3916, 'voucher': 4823, 'unconstitutionally': 4687, 'professional': 3503, 'violate': 4803, 'hipaa': 2080, 'justification': 2432, 'huckabee': 2142, 'status': 4284, 'traffic': 4606, 'tower': 4595, 'apple': 240, 'currently': 1060, 'intel': 2305, 'crimea': 1021, 'ukraine': 4681, 'responsibility': 3807, 'coin': 811, 'catherine': 667, 'cortez': 978, 'masto': 2764, 'sweetheart': 4422, 'worth': 4960, 'firm': 1722, 'fraud': 1818, 'restrict': 3814, 'salt': 3935, 'guy': 1992, 'blow': 461, 'footage': 1766, 'broad': 540, 'secret': 4008, 'combined': 831, 'bobby': 469, 'redfish': 3687, 'fishing': 1728, 'fin': 1707, 'entirety': 1504, 'canada': 613, 'theres': 4529, 'barnes': 367, 'anymore': 221, 'insured': 2301, 'uncompensated': 4685, 'track': 4600, 'travel': 4628, 'fairtax': 1635, 'deborah': 1110, 'ross': 3893, 'ransom': 3624, 'hostage': 2129, 'heroin': 2060, 'addiction': 70, 'opioid': 3124, 'abuse': 24, 'chapter': 708, 'aborted': 14, 'fetus': 1691, 'baucus': 386, 'deduct': 1129, 'max': 2776, 'van': 4767, 'wanggaard': 4835, 'identification': 2169, 'greene': 1961, 'statewide': 4279, 'alison': 151, 'lundergan': 2674, 'grime': 1966, 'handel': 2010, 'adoption': 85, 'chairwoman': 699, 'fulton': 1841, 'wendy': 4886, 'davis': 1094, 'iranian': 2343, 'belongs': 411, 'nonnegotiable': 3039, 'virginias': 4808, 'fighter': 1699, 'dozen': 1346, 'indiana': 2237, 'zip': 4997, 'nada': 2959, 'subject': 4343, 'profile': 3506, 'patriotic': 3242, 'sit': 4138, 'richards': 3846, 'concede': 878, 'tourism': 4589, 'advertising': 92, 'unionization': 4709, 'overall': 3163, 'redirect': 3688, 'mode': 2905, 'twitter': 4673, 'follower': 1761, 'express': 1601, 'balanced': 352, 'pasch': 3223, 'scamming': 3970, 'investigator': 2333, 'frankly': 1817, 'sue': 4367, 'portion': 3399, 'compensation': 858, 'bruce': 552, 'braley': 515, 'nascar': 2965, 'abraham': 16, 'ebay': 1400, 'whitman': 4905, 'separate': 4040, 'porn': 3394, 'phillys': 3314, 'handle': 2013, 'loom': 2654, 'slash': 4148, 'predecessor': 3432, 'zell': 4993, 'miller': 2868, 'againhats': 112, 'govern': 1944, 'judicial': 2420, 'barrier': 371, 'innovation': 2276, 'development': 1220, 'whatever': 4893, 'cheat': 720, 'association': 300, 'freed': 1824, 'slave': 4151, 'ku': 2510, 'klux': 2496, 'klan': 2493, 'evict': 1551, 'tenant': 4490, 'emerge': 1455, 'eye': 1617, 'perfect': 3281, 'conversation': 950, 'substance': 4354, 'nj': 3028, 'attempt': 310, 'dishonest': 1278, 'passage': 3228, 'future': 1854, 'expensive': 1588, 'everything': 1550, 'factually': 1626, 'accurate': 42, 'honduran': 2111, 'husband': 2158, 'thedollar': 4521, 'charitable': 711, 'vega': 4773, 'boehner': 474, 'wreck': 4967, 'commercial': 837, 'debbie': 1109, 'wasserman': 4854, 'schultz': 3982, 'ill': 2175, 'analysis': 195, 'anniversary': 205, 'sunday': 4376, 'morning': 2925, 'usually': 4753, 'delta': 1162, 'animal': 203, 'karen': 2443, 'negative': 2990, 'holder': 2095, 'involve': 2338, 'panther': 3200, 'richmond': 3847, 'amenity': 182, 'cheese': 724, 'glad': 1919, 'wording': 4948, 'clearly': 783, 'exonerate': 1578, 'retiree': 3821, 'stefani': 4293, 'contributor': 944, 'margarita': 2736, 'machine': 2684, 'field': 1694, 'text': 4511, 'wouldve': 4963, 'bonus': 481, 'grab': 1949, 'reason': 3654, 'simply': 4131, 'onto': 3117, 'river': 3866, 'downstream': 1342, 'rice': 3843, 'photographic': 3321, 'acre': 53, 'enter': 1499, 'kindergarten': 2487, 'dental': 1175, 'ken': 2463, 'wish': 4931, 'recall': 3659, 'petition': 3305, 'signature': 4122, 'rebuild': 3658, 'prove': 3548, 'traumatic': 4627, 'wife': 4913, 'hijacker': 2073, 'television': 4483, 'plane': 3346, 'late': 2539, 'pursue': 3570, 'dream': 1355, 'passion': 3230, 'koch': 2501, 'publicly': 3558, 'photograph': 3319, 'sympathize': 4427, 'wouldnt': 4962, 'forced': 1771, 'sterilization': 4298, 'roland': 3880, 'burris': 583, 'october': 3092, 'remains': 3746, 'silent': 4128, 'feel': 1675, 'farrakhan': 1651, 'speak': 4214, 'audience': 319, 'edward': 1411, 'professor': 3504, 'forth': 1791, 'extensively': 1605, 'fox': 1805, 'repeat': 3767, 'cite': 763, 'true': 4651, 'barrel': 368, 'ad': 64, 'comment': 835, 'pbs': 3256, 'almond': 163, 'dmv': 1301, 'prresident': 3555, 'alliance': 159, 'newsmaker': 3013, 'census': 681, 'islander': 2360, 'radio': 3601, 'lawyer': 2550, 'freeze': 1828, 'incoming': 2220, 'herserverof': 2061, 'jon': 2414, 'redefine': 3685, 'cruz': 1044, 'mathematically': 2770, 'eighty': 1423, 'antibiotic': 216, 'feed': 1674, 'livestock': 2634, 'zone': 4998, 'expenditure': 1586, 'undermine': 4692, 'scotts': 3992, 'purge': 3568, 'russian': 3917, 'crop': 1034, 'ethanol': 1535, 'poultry': 3416, 'mail': 2695, 'tonight': 4574, 'unopposed': 4722, 'santorum': 3947, 'interstate': 2318, 'road': 3869, 'cotton': 985, 'arkansan': 267, 'navy': 2979, 'sail': 3929, 'ship': 4093, 'tour': 4588, 'join': 2410, 'hip': 2079, 'secure': 4014, 'grand': 1954, 'mahoning': 2694, 'valley': 4765, 'costing': 983, 'chesterfield': 728, 'living': 2635, 'organization': 3141, 'joni': 2416, 'ernst': 1522, 'birthers': 450, 'copy': 960, 'kenyan': 2470, 'certificate': 692, 'canadian': 614, 'sand': 3941, 'mcdonalds': 2791, 'pittsburgh': 3340, 'steelers': 4292, 'snow': 4167, 'safe': 3924, 'marathon': 2729, 'bombing': 478, 'fifth': 1696, 'examine': 1555, 'felt': 1683, 'hop': 2118, 'crash': 1014, 'contain': 929, 'kenosha': 2467, 'howard': 2138, 'robert': 3874, 'quiet': 3586, 'wastewater': 4857, 'quality': 3582, 'pentagon': 3273, 'martial': 2751, 'faith': 1636, 'cobb': 805, 'belly': 409, 'shock': 4095, 'anyway': 225, 'ultimately': 4682, 'pas': 3222, 'golf': 1935, 'memorial': 2825, 'ceremony': 689, 'dangerous': 1081, 'atf': 304, 'trace': 4599, 'broward': 548, 'northeast': 3049, 'quick': 3585, 'identify': 2170, 'desirable': 1201, 'abandon': 2, 'ensure': 1498, 'warmer': 4842, 'mar': 2728, 'polar': 3367, 'vortex': 4818, 'caliber': 601, 'invasion': 2327, 'mormon': 2924, 'perrys': 3293, 'bruun': 555, 'commerce': 836, 'rare': 3629, 'depend': 1179, 'fec': 1669, 'detailed': 1208, 'answer': 213, 'craig': 1011, 'condoleezza': 887, 'affiliation': 102, 'display': 1281, 'mirror': 2886, 'fifty': 1697, 'strongly': 4332, 'disagree': 1259, 'permanently': 3288, 'bargaining': 366, 'principle': 3473, 'standing': 4264, 'rebel': 3657, 'unilateral': 4703, 'destroy': 1205, 'mitch': 2898, 'mcconnell': 2789, 'knock': 2498, 'tariff': 4453, 'tommy': 4570, 'human': 2147, 'granite': 1956, 'stater': 4277, 'anthem': 215, 'renew': 3759, 'gardner': 1871, 'outlaw': 3156, 'birthright': 451, 'brother': 546, 'chai': 695, 'defendant': 1141, 'appearance': 238, 'steadily': 4287, 'connecticut': 907, 'solve': 4182, 'scientist': 3988, 'fare': 1647, 'internal': 2312, 'shore': 4101, 'particular': 3212, 'insecure': 2278, 'original': 3144, 'earner': 1389, 'trafficking': 4607, 'dime': 1242, 'task': 4456, 'youtube': 4988, 'paper': 3201, 'weaken': 4865, 'regulatory': 3722, 'impossible': 2202, 'plain': 3344, 'simple': 4130, 'cancer': 617, 'screening': 3996, 'alternative': 170, 'regard': 3710, 'flaw': 1737, 'deep': 1134, 'royalty': 3901, 'katko': 2450, 'ebola': 1401, 'sequester': 4043, 'randy': 3621, 'hopper': 2121, 'du': 1371, 'lac': 2521, 'testing': 4508, 'consume': 926, 'katie': 2449, 'mcgintyactually': 2794, 'wing': 4925, 'bureau': 574, 'attribute': 317, 'sharp': 4079, 'understand': 4693, 'warn': 4844, 'english': 1489, 'respected': 3804, 'obese': 3080, 'audit': 320, 'ratify': 3633, 'pain': 3191, 'religion': 3738, 'replace': 3770, 'officially': 3101, 'emission': 1458, 'freshman': 1831, 'elective': 1430, 'endlessly': 1474, 'waterboarding': 4860, 'exception': 1560, 'maine': 2697, 'borrowing': 493, 'mother': 2932, 'julia': 2422, 'preventive': 3462, 'ranking': 3623, 'bunch': 572, 'korean': 2504, 'bag': 345, 'summit': 4375, 'structure': 4334, 'stephen': 4297, 'da': 1070, 'clayton': 779, 'metro': 2841, 'remember': 3750, 'contractor': 938, 'tap': 4450, 'devil': 1222, 'vanderbeek': 4768, 'arbitration': 259, 'tennessee': 4492, 'frivolous': 1835, 'filing': 1703, 'subpoenaed': 4348, 'recovery': 3677, 'dunkin': 1379, 'donut': 1328, 'demographic': 1169, 'merit': 2835, 'reward': 3839, 'corzine': 980, 'finance': 1709, 'illegals': 2178, 'bracket': 507, 'bully': 570, 'color': 821, 'unprecedented': 4725, 'vacancy': 4758, 'plot': 3358, 'lois': 2649, 'nonprofit': 3041, 'patriot': 3241, 'fundraiser': 1847, 'winter': 4926, 'stroke': 4330, 'supportive': 4389, 'schrader': 3981, 'explain': 1592, 'supply': 4386, 'cnn': 800, 'casualty': 662, 'fitzgerald': 1730, 'texting': 4513, 'vitro': 4814, 'fertilization': 1688, 'dee': 1132, 'drag': 1348, 'postsecondary': 3411, 'restore': 3812, 'inherit': 2265, 'repair': 3764, 'lane': 2531, 'dedicate': 1128, 'sauce': 3953, 'analyst': 196, 'accidental': 34, 'killer': 2482, 'commonwealth': 846, 'bell': 408, 'earnings': 1390, 'bed': 396, 'collection': 817, 'commuter': 853, 'downtown': 1343, 'sunset': 4377, 'vice': 4793, 'kirk': 2490, 'moines': 2911, 'deprive': 1190, 'protein': 3543, 'lunch': 2673, 'direction': 1251, 'incident': 2217, 'superior': 4381, 'meat': 2804, 'festival': 1689, 'horrendous': 2123, 'verona': 4783, 'swanigan': 4419, 'prosecutor': 3536, 'sentencing': 4039, 'consumption': 928, 'opposite': 3129, 'earthquake': 1393, 'youngstown': 4985, 'walk': 4830, 'nixon': 3027, 'duck': 1372, 'garbage': 1869, 'allan': 154, 'fung': 1849, 'structural': 4333, 'administrative': 79, 'web': 4871, 'site': 4139, 'pour': 3418, 'atwaters': 318, 'busy': 590, 'lavish': 2546, 'mental': 2829, 'wo': 4938, 'mentally': 2830, 'employ': 1461, 'habit': 1994, 'recklessly': 3667, 'susan': 4411, 'uranium': 4743, 'enrichment': 1493, 'capability': 625, 'location': 2642, 'pot': 3412, 'seedy': 4017, 'element': 1436, 'door': 1330, 'stanley': 4266, 'mcchrystal': 2787, 'fix': 1733, 'espionage': 1527, 'snowden': 4168, 'whistleblower': 4901, 'reardon': 3653, 'music': 2954, 'art': 280, 'instruction': 2297, 'witness': 4937, 'mcdonnells': 2793, 'frame': 1809, 'salmonella': 3934, 'fda': 1663, 'peanut': 3260, 'antonio': 218, 'cervical': 693, 'manager': 2713, 'woonsocket': 4946, 'ahead': 123, 'marketplace': 2743, 'secede': 4005, 'relation': 3731, 'wrap': 4966, 'productive': 3502, 'lax': 2551, 'erase': 1519, 'electronic': 1435, 'flounder': 1750, 'crush': 1043, 'mammogram': 2709, 'ice': 2165, 'honduras': 2112, 'accomplishment': 36, 'basis': 379, 'groundwater': 1971, 'hydraulic': 2163, 'fracking': 1806, 'midterm': 2856, 'review': 3835, 'await': 334, 'occasion': 3086, 'boon': 485, 'forest': 1779, 'bowl': 499, 'unknown': 4716, 'begich': 400, 'drunk': 1369, 'driving': 1363, 'input': 2277, 'severe': 4063, 'reaction': 3642, 'somebody': 4185, 'intensive': 2308, 'unit': 4712, 'monopoly': 2916, 'instant': 2292, 'downgrade': 1340, 'devote': 1223, 'lend': 2583, 'brazil': 520, 'explore': 1596, 'automatic': 329, 'islam': 2355, 'elimination': 1443, 'manufacture': 2722, 'squad': 4247, 'sometimes': 4191, 'shift': 4092, 'basic': 377, 'fedex': 1672, 'abrahamlincoln': 17, 'emancipation': 1450, 'proclamation': 3497, 'cold': 813, 'steam': 4290, 'sometime': 4190, 'millennials': 2867, 'provisional': 3554, 'disqualify': 1283, 'adam': 65, 'segment': 4021, 'beer': 398, 'aggressive': 118, 'rural': 3912, 'fence': 1685, 'septic': 4042, 'inspection': 2285, 'tank': 4447, 'multnomah': 2948, 'busiest': 588, 'disable': 1256, 'centerpiece': 684, 'slot': 4154, 'outsource': 3160, 'outside': 3159, 'connection': 908, 'holperin': 2100, 'harass': 2018, 'telemarketers': 4482, 'insinuating': 2282, 'foul': 1799, 'circulators': 760, 'whenever': 4897, 'renee': 3757, 'ellmers': 1446, 'czar': 1068, 'reopen': 3763, 'tremendous': 4639, 'proud': 3547, 'survival': 4408, 'venezuelan': 4778, 'testimony': 4507, 'sotomayor': 4199, 'darryl': 1086, 'hick': 2065, 'forty': 1794, 'fortune': 1793, 'organize': 3142, 'formula': 1788, 'settlement': 4059, 'gaza': 1883, 'incentivized': 2214, 'militarization': 2862, 'log': 2645, 'spring': 4244, 'perriello': 3291, 'step': 4295, 'risky': 3864, 'plus': 3361, 'success': 4360, 'conventional': 949, 'solid': 4180, 'oklahoma': 3111, 'louisiana': 2664, 'kansa': 2439, 'utah': 4754, 'transparent': 4622, 'southern': 4205, 'visa': 4811, 'contrast': 941, 'willing': 4919, 'sing': 4135, 'william': 4916, 'hawaii': 2036, 'alaska': 140, 'enterprise': 1500, 'freddie': 1821, 'mac': 2682, 'activity': 59, 'indictment': 2244, 'brain': 513, 'eligibility': 1440, 'overdoses': 3165, 'espouse': 1528, 'dorman': 1332, 'facebook': 1620, 'page': 3189, 'es': 1524, 'levy': 2595, 'werent': 4887, 'abele': 7, 'finish': 1716, 'forgive': 1785, 'agallup': 113, 'arent': 262, 'suspect': 4412, 'hes': 2062, 'licensed': 2605, 'depict': 1182, 'personally': 3297, 'homosexual': 2109, 'tactic': 4437, 'schedule': 3974, 'apology': 231, 'reversal': 3833, 'ayers': 337, 'comprehensive': 870, 'publish': 3559, 'martin': 2752, 'tattoo': 4457, 'solvent': 4183, 'whitehouse': 4903, 'cosponsor': 981, 'easily': 1395, 'classify': 776, 'mineral': 2875, 'improvement': 2209, 'specific': 4217, 'recommendation': 3670, 'aim': 127, 'irans': 2344, 'cia': 755, 'interrogation': 2316, 'recruiting': 3681, 'brendan': 526, 'doherty': 1313, 'occupation': 3088, 'tent': 4493, 'pitch': 3339, 'sharpe': 4080, 'bankruptcy': 361, 'unlawful': 4717, 'japan': 2382, 'states': 4278, 'embassy': 1452, 'tragedy': 4608, 'alabama': 138, 'mississippi': 2895, 'wyoming': 4972, 'soon': 4195, 'strengthen': 4324, 'cuccinelli': 1050, 'halt': 2004, 'epa': 1512, 'measles': 2802, 'earnonly': 1391, 'picture': 3325, 'hit': 2087, 'enlist': 1491, 'split': 4232, 'splinter': 4231, 'connect': 906, 'surpass': 4400, 'jessica': 2397, 'occur': 3090, 'kyrillos': 2515, 'classified': 775, 'decider': 1119, 'polling': 3378, 'investor': 2335, 'gm': 1927, 'warming': 4843, 'maybe': 2781, 'georgias': 1899, 'haitian': 2000, 'drinking': 1360, 'ground': 1970, 'gibbs': 1908, 'western': 4889, 'forbidden': 1769, 'remedy': 3749, 'saysgop': 3962, 'jeopardize': 2391, 'fundingfor': 1845, 'coloradan': 822, 'untreated': 4733, 'decay': 1114, 'rap': 3625, 'customer': 1063, 'statehouse': 4275, 'gained': 1859, 'brandes': 518, 'dump': 1377, 'unregulated': 4728, 'guevara': 1982, 'descent': 1195, 'soviet': 4207, 'prepare': 3444, 'ward': 4839, 'preschool': 3446, 'betty': 427, 'sutton': 4417, 'inside': 2280, 'irving': 2351, 'addition': 71, 'pete': 3301, 'hoekstra': 2092, 'whereabouts': 4898, 'mission': 2894, 'cocaine': 806, 'japanese': 2383, 'quail': 3579, 'embargo': 1451, 'deductible': 1130, 'toward': 4593, 'legalization': 2571, 'equipment': 1515, 'madison': 2688, 'fraudulent': 1819, 'warehouse': 4840, 'runoff': 3911, 'yarbrough': 4974, 'previously': 3464, 'ran': 3617, 'genetic': 1892, 'makeup': 2705, 'ant': 214, 'elsewhere': 1448, 'kurt': 2513, 'browning': 550, 'enroll': 1495, 'august': 322, 'aide': 125, 'orientation': 3143, 'encounter': 1469, 'custom': 1062, 'detain': 1209, 'politically': 3373, 'shirley': 4094, 'word': 4947, 'buyer': 595, 'disrupt': 1284, 'veterans': 4787, 'discover': 1268, 'hurd': 2154, 'empower': 1466, 'republicangovernors': 3779, 'teenager': 4479, 'maternity': 2768, 'commute': 852, 'chile': 735, 'straightforward': 4314, 'bucket': 560, 'fundraise': 1846, 'overhead': 3167, 'liquor': 2628, 'tehran': 4480, 'mayoral': 2784, 'pool': 3384, 'strategy': 4318, 'appraise': 246, 'category': 666, 'totally': 4584, 'worldwide': 4955, 'mainly': 2698, 'crook': 1033, 'opening': 3119, 'invade': 2325, 'saddam': 3923, 'acquire': 51, 'destruction': 1206, 'capture': 631, 'offset': 3102, 'tune': 4661, 'francisco': 1813, 'flee': 1738, 'golden': 1933, 'energys': 1481, 'eminent': 1457, 'domain': 1318, 'rapid': 3627, 'dramatic': 1351, 'herbert': 2058, 'quadruple': 3578, 'barely': 365, 'budge': 561, 'portmans': 3402, 'bushs': 587, 'garnishee': 1873, 'rio': 3860, 'grande': 1955, 'heavy': 2049, 'concentrate': 879, 'outrageous': 3158, 'institute': 2294, 'kathryn': 2448, 'starkey': 4269, 'diverse': 1295, 'paine': 3192, 'bike': 439, 'ped': 3263, 'radiation': 3598, 'foot': 1765, 'todd': 4563, 'akin': 136, 'partly': 3218, 'academy': 27, 'hoax': 2090, 'assessment': 294, 'nominate': 3033, 'chuck': 752, 'hagel': 1996, 'filibuster': 1702, 'negatively': 2991, 'impacted': 2191, 'stability': 4252, 'ethnicity': 1538, 'ought': 3152, 'alaskan': 141, 'section': 4011, 'clause': 778, 'foreigner': 1777, 'doubleaballpark': 1334, 'frequently': 1830, 'midwest': 2857, 'material': 2767, 'server': 4051, 'whilesecretary': 4900, 'vietnam': 4798, 'gallon': 1861, 'higher': 2069, 'factory': 1625, 'isis': 2354, 'fault': 1658, 'stack': 4254, 'lyndon': 2680, 'ram': 3614, 'justin': 2435, 'cancel': 615, 'staggering': 4260, 'flooding': 1744, 'effectively': 1414, 'successfully': 4362, 'technology': 4474, 'pease': 3262, 'database': 1088, 'breast': 524, 'hayworth': 2037, 'tech': 4472, 'reluctance': 3742, 'timeline': 4557, 'passport': 3231, 'holly': 2098, 'discretionary': 1270, 'dwight': 1383, 'mercury': 2833, 'outline': 3157, 'kremlin': 2507, 'forcible': 1772, 'sayshillary': 3963, 'deliberately': 1159, 'porous': 3396, 'accommodate': 35, 'unemployed': 4698, 'limitation': 2620, 'protocol': 3546, 'download': 1341, 'jennifer': 2390, 'brunner': 553, 'blackwells': 455, 'mismanagement': 2891, 'file': 1701, 'prosecution': 3535, 'deform': 1147, 'alcoholic': 144, 'design': 1198, 'alter': 169, 'attendance': 313, 'virus': 4810, 'shell': 4086, 'republicans': 3780, 'spent': 4225, 'seventy': 4061, 'americanschools': 186, 'segregated': 4022, 'inaction': 2210, 'steal': 4289, 'marlin': 2744, 'tourist': 4590, 'outbreak': 3154, 'loudly': 2662, 'nonpartisan': 3040, 'dirty': 1254, 'fossil': 1797, 'challenger': 701, 'deciding': 1120, 'error': 1523, 'uptick': 4741, 'coincide': 812, 'expectation': 1585, 'deception': 1116, 'reconciliation': 3671, 'amend': 180, 'improperly': 2206, 'mingle': 2876, 'curb': 1054, 'spread': 4242, 'gather': 1878, 'logo': 2648, 'fancy': 1644, 'ride': 3852, 'joanne': 2404, 'kloppenburg': 2495, 'society': 4173, 'normandy': 3047, 'resignation': 3799, 'reverse': 3834, 'immediately': 2185, 'conviction': 953, 'february': 1668, 'arlen': 269, 'specter': 4219, 'judiciary': 2421, 'interestingly': 2310, 'kentucky': 2468, 'print': 3474, 'graham': 1953, 'shortage': 4103, 'sonia': 4194, 'neither': 2997, 'father': 1657, 'terrificand': 4499, 'eat': 1399, 'sheldon': 4085, 'uphold': 4738, 'appointment': 245, 'surprise': 4402, 'subprime': 4349, 'infanticide': 2252, 'mortality': 2927, 'unfunded': 4702, 'bidding': 435, 'waiver': 4829, 'hmo': 2089, 'preventable': 3460, 'beef': 397, 'cafeteria': 599, 'lewis': 2596, 'allegation': 156, 'repudiate': 3782, 'remark': 3747, 'lunatic': 2672, 'overwhelming': 3176, 'thirty': 4535, 'pursuit': 3571, 'apartment': 228, 'proven': 3549, 'theft': 4522, 'petersburg': 3303, 'steven': 4300, 'chu': 751, 'participation': 3211, 'rely': 3743, 'contraceptive': 935, 'amtrak': 193, 'reality': 3650, 'signer': 4123, 'declaration': 1123, 'elected': 1428, 'administer': 77, 'superstorm': 4382, 'nfl': 3017, 'odd': 3093, 'stratosphere': 4319, 'earned': 1388, 'bus': 585, 'limousine': 2621, 'fleet': 1739, 'newspaper': 3014, 'victory': 4796, 'electoral': 1431, 'potential': 3413, 'insurer': 2302, 'meal': 2799, 'charity': 712, 'pawlenty': 3248, 'horribly': 2124, 'utility': 4755, 'deadline': 1100, 'cripple': 1023, 'fed': 1670, 'allowed': 161, 'perlmutter': 3286, 'viagra': 4792, 'rapist': 3628, 'lockout': 2644, 'khruschev': 2475, 'mao': 2726, 'vern': 4782, 'unaccompanied': 4684, 'genocide': 1895, 'populated': 3389, 'boat': 467, 'spawn': 4213, 'evaluate': 1541, 'exam': 1554, 'craigslist': 1012, 'examiner': 1556, 'essay': 1529, 'southwest': 4206, 'needy': 2989, 'jewish': 2400, 'saturday': 3952, 'disturbing': 1292, 'trend': 4640, 'commonplace': 845, 'massacre': 2761, 'fatally': 1656, 'wound': 4964, 'geithner': 1885, 'currency': 1058, 'fcat': 1662, 'instructional': 2298, 'economist': 1405, 'boost': 486, 'tanning': 4449, 'quit': 3587, 'hasners': 2030, 'wartime': 4849, 'eighth': 1422, 'populous': 3392, 'hamilton': 2006, 'upstate': 4740, 'hog': 2093, 'eliot': 1444, 'spitzer': 4230, 'sunstein': 4378, 'ferguson': 1686, 'mo': 2902, 'dearborn': 1106, 'advancement': 89, 'regime': 3712, 'influx': 2257, 'youve': 4989, 'sacrifice': 3922, 'behalf': 403, 'charles': 713, 'keating': 2456, 'boeing': 475, 'winery': 4924, 'charlottesville': 716, 'accessible': 32, 'nbc': 2981, 'consulate': 924, 'tool': 4575, 'swear': 4421, 'prefer': 3436, 'present': 3449, 'reset': 3792, 'button': 592, 'lien': 2608, 'unpaid': 4723, 'reservoir': 3791, 'struggle': 4335, 'newborn': 3009, 'randi': 3620, 'shade': 4070, 'receipt': 3660, 'version': 4784, 'pharmaceutical': 3307, 'che': 718, 'nickel': 3018, 'ration': 3636, 'wasteful': 4856, 'cheerleader': 723, 'cowboy': 1006, 'entertain': 1501, 'pizza': 3341, 'invite': 2336, 'fannie': 1645, 'preschooler': 3447, 'aig': 126, 'disappear': 1260, 'yucca': 4991, 'mountain': 2937, 'depository': 1188, 'discriminate': 1271, 'revoke': 3837, 'vetoed': 4789, 'teaching': 4467, 'argue': 263, 'plagiarize': 3343, 'terrible': 4498, 'admission': 81, 'palestinian': 3195, 'israeli': 2367, 'geneva': 1894, 'combatant': 829, 'normal': 3045, 'recreational': 3678, 'indicate': 2239, 'nevada': 3005, 'visitor': 4813, 'warm': 4841, 'scientifically': 3987, 'springsteen': 4245, 'orange': 3134, 'enrol': 1494, 'unstable': 4729, 'unrecognized': 4727, 'congenital': 900, 'heart': 2047, 'defect': 1139, 'required': 3786, 'counseling': 990, 'sooner': 4196, 'coffman': 808, 'schwarzenegger': 3984, 'preserve': 3450, 'californias': 603, 'roadside': 3870, 'corrine': 975, 'frederica': 1822, 'wilson': 4920, 'testify': 4506, 'bermuda': 420, 'assist': 296, 'series': 4045, 'condom': 888, 'ridiculous': 3855, 'disabled': 1257, 'conservation': 912, 'label': 2518, 'soft': 4174, 'abu': 23, 'expanded': 1581, 'disadvantage': 1258, 'mployment': 2941, 'outspent': 3161, 'guess': 1981, 'frequency': 1829, 'complete': 864, 'confidentiality': 893, 'rat': 3630, 'sharron': 4081, 'angle': 201, 'bps': 506, 'spill': 4228, 'slush': 4158, 'attach': 308, 'ethical': 1537, 'spar': 4212, 'vegan': 4774, 'diet': 1234, 'starr': 4270, 'innocent': 2275, 'rachel': 3593, 'zenzinger': 4994, 'junket': 2428, 'fragile': 1808, 'meant': 2801, 'approach': 249, 'greece': 1959, 'lieutenant': 2609, 'cigarette': 758, 'butt': 591, 'mattis': 2773, 'keane': 2455, 'flynn': 1757, 'selma': 4029, 'pinprick': 3333, 'intervention': 2320, 'residual': 3797, 'understanding': 4694, 'cure': 1057, 'endanger': 1472, 'swine': 4424, 'cattle': 669, 'honest': 2113, 'floor': 1745, 'gerald': 1900, 'daugherty': 1090, 'daycare': 1096, 'brookhaven': 543, 'unincorporated': 4705, 'mosquito': 2930, 'urgingcongress': 4746, 'reside': 3793, 'screen': 3995, 'illness': 2180, 'ramp': 3615, 'renewable': 3760, 'radius': 3602, 'amongst': 191, 'aipac': 128, 'worst': 4959, 'conceal': 876, 'candidacy': 618, 'manipulate': 2719, 'koster': 2505, 'boss': 495, 'volunteer': 4817, 'station': 4281, 'enjoy': 1490, 'overwhelm': 3175, 'demonstrate': 1170, 'nature': 2976, 'divert': 1297, 'conversion': 951, 'therapy': 4526, 'bureaucracy': 575, 'dave': 1092, 'teddy': 4476, 'dovilla': 1338, 'debra': 1111, 'medina': 2814, 'remainder': 3745, 'brennan': 527, 'roe': 3879, 'wade': 4825, 'gore': 1941, 'suzanne': 4418, 'bonamici': 479, 'justified': 2433, 'till': 4552, 'fraction': 1807, 'mobil': 2903, 'removal': 3752, 'proficiency': 3505, 'zuckerbergs': 4999, 'partisanship': 3216, 'subsidize': 4351, 'unpopular': 4724, 'develop': 1217, 'resolve': 3801, 'lifetime': 2611, 'louis': 2663, 'toothpaste': 4577, 'fluoride': 1754, 'maryland': 2758, 'ralph': 3613, 'hudgens': 2143, 'raul': 3638, 'cantero': 622, 'kenneth': 2466, 'reputation': 3783, 'strangulation': 4316, 'norm': 3044, 'wildlife': 4915, 'numbersand': 3065, 'ideologue': 2172, 'left': 2569, 'blatantly': 458, 'proposalputs': 3530, 'pricing': 3466, 'isleading': 2362, 'sideline': 4119, 'frankel': 1815, 'marble': 2730, 'shower': 4108, 'bathroom': 383, 'pell': 3265, 'absorb': 21, 'hamas': 2005, 'wear': 4869, 'please': 3356, 'min': 2872, 'journalist': 2418, 'pipe': 3335, 'des': 1194, 'reuse': 3826, 'reuses': 3827, 'untold': 4731, 'hell': 2053, 'ann': 204, 'boccieri': 470, 'mandels': 2717, 'wounded': 4965, 'stress': 4325, 'syndrome': 4430, 'administrator': 80, 'seaman': 4000, 'mercer': 2832, 'hannity': 2016, 'dobson': 1304, 'texts': 4514, 'cohen': 809, 'egg': 1418, 'policeman': 3370, 'hagels': 1997, 'celebrate': 678, 'polluter': 3380, 'readily': 3644, 'adler': 76, 'encourage': 1470, 'collector': 819, 'carolinian': 647, 'dianne': 1227, 'feinstein': 1678, 'liberation': 2599, 'communicate': 848, 'interior': 2311, 'dwi': 1382, 'ridesharing': 3854, 'genetically': 1893, 'miscarriage': 2888, 'whatsoever': 4895, 'april': 255, 'treason': 4631, 'maryellen': 2757, 'oshaughnessy': 3149, 'indicted': 2243, 'jimmy': 2402, 'dimora': 1243, 'silberkraus': 4126, 'degrade': 1151, 'incarcerate': 2211, 'apartheid': 227, 'readiness': 3645, 'unreasonable': 4726, 'scream': 3994, 'unfair': 4700, 'cliff': 787, 'politifact': 3376, 'validate': 4764, 'independently': 2234, 'document': 1306, 'adan': 66, 'ballesteros': 354, 'pave': 3247, 'active': 57, 'languish': 2534, 'poland': 3366, 'unless': 4718, 'poizner': 3365, 'married': 2746, 'traditional': 4605, 'ironic': 2348, 'hammer': 2007, 'teen': 4477, 'belief': 406, 'contrary': 940, 'saysbernie': 3961, 'immunity': 2189, 'proceeds': 3493, 'stabilize': 4253, 'implication': 2197, 'execution': 1570, 'truman': 4652, 'ease': 1394, 'september': 4041, 'cdc': 676, 'transmitted': 4621, 'czech': 1069, 'fool': 1764, 'naval': 2977, 'appellate': 239, 'dependence': 1180, 'proposition': 3533, 'discharge': 1265, 'yard': 4975, 'bath': 382, 'raccoon': 3591, 'liquidate': 2627, 'statistically': 4283, 'traveler': 4629, 'largesse': 2537, 'abort': 13, 'askedthedivision': 286, 'toreport': 4580, 'align': 150, 'funny': 1851, 'escape': 1525, 'imprisonment': 2204, 'installed': 2289, 'urinal': 4747, 'womens': 4941, 'anonymous': 211, 'wolf': 4939, 'impeach': 2192, 'asset': 295, 'deem': 1133, 'feasible': 1666, 'whats': 4894, 'radicalize': 3600, 'airline': 131, 'ticket': 4550, 'retain': 3818, 'paulson': 3246, 'lowden': 2667, 'survive': 4409, 'orlando': 3146, 'fl': 1734, 'tomorrow': 4571, 'rock': 3878, 'pbj': 3255, 'sandwich': 3943, 'racist': 3596, 'goat': 1930, 'arthritis': 281, 'demise': 1164, 'crossing': 1037, 'gary': 1874, 'absolute': 19, 'affairshealth': 99, 'remodel': 3751, 'oakland': 3074, 'glorify': 1926, 'cheating': 721, 'dismantle': 1279, 'serviceman': 4053, 'divorce': 1300, 'robbery': 3873, 'freeloader': 1826, 'endorsement': 1476, 'overcrowd': 3164, 'alvarez': 173, 'gimenez': 1912, 'nordic': 3043, 'note': 3054, 'observer': 3083, 'span': 4210, 'gap': 1868, 'vicious': 4794, 'pedestrian': 3264, 'crosswalk': 1038, 'jerseyans': 2394, 'shouldnt': 4106, 'boozman': 488, 'excite': 1563, 'wyden': 4971, 'exotic': 1579, 'ninth': 3026, 'jones': 2415, 'smelter': 4162, 'continuously': 933, 'sport': 4237, 'steel': 4291, 'stanford': 4265, 'tuberculosis': 4657, 'implementation': 2196, 'relative': 3733, 'spokesman': 4234, 'copenhagen': 959, 'subsequent': 4350, 'liability': 2597, 'deter': 1212, 'protected': 3541, 'serving': 4054, 'dip': 1245, 'wheel': 4896, 'garcia': 1870, 'others': 3150, 'wild': 4914, 'planning': 3349, 'following': 1762, 'homelessness': 2105, 'pharmacist': 3308, 'worship': 4958, 'whopping': 4908, 'westside': 4890, 'radical': 3599, 'marxist': 2755, 'sudden': 4365, 'forensic': 1778, 'dividend': 1298, 'anight': 202, 'broker': 541, 'estabrook': 1532, 'dam': 1075, 'entry': 1508, 'janitor': 2380, 'din': 1244, 'moose': 2920, 'correlation': 974, 'weigh': 4882, 'distinguish': 1287, 'fivefold': 1732, 'malaysia': 2706, 'indenture': 2231, 'servant': 4049, 'gate': 1877, 'maverick': 2775, 'summer': 4374, 'armed': 271, 'swap': 4420, 'luther': 2676, 'alaskas': 142, 'prince': 3471, 'vaccination': 4762, 'personhood': 3298, 'ruling': 3908, 'sat': 3949, 'reinvesting': 3728, 'overturn': 3174, 'conception': 880, 'sierra': 4120, 'sestak': 4056, 'appropriation': 251, 'rescue': 3788, 'marshall': 2748, 'bureaucrats': 577, 'drink': 1359, 'gulp': 1985, 'mansion': 2721, 'screeningand': 3997, 'bribe': 531, 'main': 2696, 'claimsthat': 772, 'starvation': 4273, 'leading': 2558, 'proponent': 3527, 'suddenly': 4366, 'image': 2182, 'diversity': 1296, 'anchor': 197, 'ghetto': 1905, 'solely': 4178, 'hunting': 2153, 'drown': 1367, 'regardless': 3711, 'homosexuality': 2110, 'hopeful': 2120, 'donna': 1325, 'campbell': 610, 'wic': 4911, 'climb': 789, 'playing': 3355, 'compete': 859, 'globally': 1924, 'pillowtex': 3329, 'deposition': 1187, 'devastate': 1216, 'substantial': 4355, 'pilot': 3330, 'urge': 4745, 'aaron': 0, 'bean': 391, 'overstay': 3172, 'surface': 4396, 'hunger': 2151, 'thanksgiving': 4518, 'comparable': 856, 'heck': 2050, 'layoff': 2553, 'bump': 571, 'employeeswe': 1463, 'shale': 4074, 'shred': 4109, 'spontaneous': 4236, 'walton': 4834, 'delegate': 1157, 'la': 2516, 'diego': 1232, 'compulsory': 873, 'dispensary': 1280, 'schumer': 3983, 'brenda': 525, 'snipe': 4166, 'crackdown': 1008, 'dean': 1105, 'castle': 660, 'coon': 956, 'handful': 2011, 'crists': 1026, 'bashedsen': 376, 'incontrovertible': 2221, 'proof': 3522, 'speed': 4221, 'vehicular': 4776, 'endure': 1478, 'transvaginal': 4625, 'prep': 3442, 'rufus': 3904, 'mps': 2942, 'thank': 4516, 'keffer': 2459, 'straus': 4320, 'pers': 3294, 'putnam': 3575, 'skill': 4145, 'robocall': 3875, 'inequality': 2250, 'wash': 4850, 'flu': 1752, 'arizonas': 266, 'simpson': 4132, 'diplomatic': 1248, 'glass': 1920, 'simultaneously': 4133, 'congresswoman': 905, 'postpone': 3410, 'closure': 796, 'primarily': 3468, 'melting': 2821, 'isone': 2365, 'memory': 2826, 'saint': 3930, 'famous': 1643, 'kansan': 2440, 'scrap': 3993, 'uncontested': 4688, 'hemp': 2055, 'whale': 4892, 'seaworld': 4004, 'dolphin': 1317, 'tag': 4438, 'avoid': 333, 'scholar': 3977, 'marcorubio': 2733, 'boy': 501, 'enrollment': 1496, 'eventual': 1544, 'doyle': 1344, 'deduction': 1131, 'role': 3881, 'maintained': 2701, 'circle': 759, 'conference': 891, 'landrieu': 2529, 'lubbock': 2670, 'allege': 157, 'doll': 1315, 'explosive': 1598, 'jumbo': 2425, 'pacific': 3186, 'appalachian': 232, 'revelation': 3830, 'crow': 1039, 'exclusion': 1565, 'hillsborough': 2078, 'root': 3892, 'accountable': 40, 'forged': 1783, 'venture': 4779, 'jazzercise': 2385, 'urban': 4744, 'huey': 2144, 'environment': 1509, 'recuse': 3682, 'solicitor': 4179, 'informational': 2260, 'margaret': 2735, 'touch': 4585, 'prostitute': 3539, 'nondefense': 3037, 'coil': 810, 'lab': 2517, 'engine': 1486, 'ordinance': 3136, 'tina': 4559, 'kotek': 2506, 'rev': 3828, 'wright': 4968, 'corp': 968, 'roman': 3883, 'legionnaire': 2574, 'savior': 3958, 'confine': 894, 'scarcity': 3973, 'normalization': 3046, 'killing': 2483, 'startup': 4272, 'narrowing': 2964, 'penis': 3269, 'comprise': 871, 'multimillionaires': 2945, 'styrofoam': 4341, 'existence': 1576, 'trash': 4626, 'tyler': 4675, 'mcpherson': 2798, 'necap': 2986, 'importance': 2199, 'arena': 261, 'dick': 1228, 'cheney': 727, 'exploit': 1595, 'duggars': 1375, 'transgression': 4616, 'affront': 106, 'gays': 1882, 'incredibly': 2226, 'unsustainable': 4730, 'withdrawal': 4933, 'fish': 1726, 'rehabilitate': 3723, 'libyan': 2603, 'daca': 1071, 'failing': 1630, 'peach': 3258, 'ben': 413, 'carson': 652, 'commonwealths': 847, 'globe': 1925, 'le': 2554, 'pres': 3445, 'transaction': 4613, 'arsenal': 279, 'seize': 4023, 'installment': 2290, 'mcgreevey': 2795, 'announces': 207, 'device': 1221, 'slat': 4149, 'infusion': 2264, 'cayman': 674, 'islands': 2361, 'supposedly': 4391, 'hardly': 2022, 'forfeit': 1781, 'fy': 1855, 'hyde': 2162, 'championship': 705, 'joint': 2411, 'infraction': 2261, 'ncaa': 2982, 'christ': 745, 'leak': 2560, 'prospect': 3537, 'cutoff': 1066, 'legitimate': 2579, 'widespread': 4912, 'anomaly': 210, 'marilinda': 2739, 'baseball': 375, 'brookhavens': 544, 'pink': 3332, 'pony': 3382, 'britains': 538, 'contest': 930, 'hank': 2015, 'scientific': 3986, 'pollutant': 3379, 'boycott': 502, 'martinez': 2753, 'stick': 4302, 'ga': 1856, 'rugsthey': 3906, 'chicken': 730, 'pilaf': 3327, 'recorded': 3673, 'outstrip': 3162, 'keith': 2460, 'eclipse': 1402, 'flush': 1755, 'negotiating': 2993, 'era': 1518, 'berry': 423, 'reproductive': 3776, 'hill': 2075, 'binational': 444, 'trimet': 4644, 'concern': 881, 'listen': 2630, 'exclude': 1564, 'purpose': 3569, 'beating': 394, 'kick': 2477, 'harvest': 2027, 'entrepreneurship': 1507, 'overnight': 3168, 'hair': 1998, 'secular': 4013, 'letterman': 2591, 'discussion': 1274, 'islamism': 2357, 'jurisdiction': 2429, 'madigan': 2686, 'appeal': 236, 'merry': 2837, 'marwig': 2754, 'madigans': 2687, 'profiting': 3508, 'corrupt': 976, 'candidateterri': 620, 'lynn': 2681, 'character': 709, 'patriotism': 3243, 'hovde': 2137, 'shocking': 4096, 'infection': 2253, 'adolescent': 83, 'properly': 3525, 'hobby': 2091, 'stuff': 4339, 'motorist': 2935, 'dumping': 1378, 'angina': 200, 'bass': 381, 'privatization': 3485, 'invoke': 2337, 'dealing': 1104, 'chain': 696, 'tolerant': 4567, 'instruct': 2296, 'pinellas': 3331, 'fred': 1820, 'lure': 2675, 'kitten': 2491, 'oscar': 3148, 'pistorius': 3338, 'twinkling': 4672, 'safer': 3926, 'determination': 1213, 'amash': 176, 'biennium': 437, 'ozone': 3182, 'documented': 1307, 'reich': 3724, 'chair': 697, 'cruzs': 1045, 'slouch': 4155, 'qualified': 3580, 'appropriately': 250, 'finely': 1714, 'textured': 4515, 'slime': 4153, 'prematurely': 3440, 'appraiser': 247, 'mechanic': 2805, 'afscme': 111, 'forum': 1795, 'prompt': 3521, 'anticipate': 217, 'subsidized': 4352, 'supremacist': 4392, 'tend': 4491, 'involvement': 2339, 'withnutritional': 4935, 'supplement': 4384, 'mannatech': 2720, 'slaughter': 4150, 'extent': 1606, 'isakson': 2352, 'rake': 3611, 'brings': 536, 'hack': 1995, 'enable': 1467, 'knowledge': 2500, 'shady': 4071, 'cook': 954, 'obvious': 3085, 'sullivan': 4372, 'improved': 2208, 'survivor': 4410, 'weak': 4864, 'feingolds': 1677, 'santa': 3946, 'ranch': 3618, 'tort': 4581, 'morgan': 2923, 'carroll': 650, 'chunk': 753, 'gianna': 1906, 'jessen': 2396, 'alan': 139, 'greenspan': 1963, 'nye': 3072, 'miserably': 2890, 'endorser': 1477, 'seminole': 4030, 'gambling': 1863, 'dorm': 1331, 'notify': 3057, 'cancellation': 616, 'midnight': 2855, 'map': 2727, 'proposed': 3532, 'gerrymander': 1903, 'airways': 134, 'pa': 3183, 'defunded': 1149, 'german': 1901, 'nazi': 2980, 'relatively': 3734, 'tuggey': 4659, 'jacket': 2375, 'revere': 3832, 'gunviolence': 1989, 'nationalize': 2970, 'curriculum': 1061, 'metroplex': 2842, 'abide': 8, 'caution': 673, 'disturb': 1291, 'puddle': 3560, 'differ': 1235, 'squander': 4248, 'ford': 1774, 'wave': 4862, 'surrender': 4403, 'phaseout': 3309, 'camper': 611, 'hollywood': 2099, 'gps': 1948, 'marcy': 2734, 'kaptur': 2442, 'dennis': 1174, 'kucinich': 2511, 'extensive': 1604, 'affiliate': 101, 'effectiveness': 1415, 'aka': 135, 'smog': 4164, 'dooley': 1329, 'inspect': 2284, 'gambler': 1862, 'pb': 3254, 'precleared': 3429, 'mayberry': 2782, 'militarize': 2863, 'bend': 414, 'beloved': 412, 'brad': 508, 'schimel': 3976, 'cahoot': 600, 'motto': 2936, 'stokes': 4307, 'index': 2235, 'ellen': 1445, 'terminate': 4497, 'citys': 767, 'boyfriend': 504, 'synagogue': 4428, 'megan': 2819, 'sampson': 3937, 'typically': 4678, 'perceive': 3276, 'reimbursement': 3726, 'vacant': 4759, 'lloyd': 2636, 'doggett': 1312, 'timing': 4558, 'merger': 2834, 'perimeter': 3283, 'gsu': 1975, 'savage': 3955, 'dignity': 1240, 'sham': 4076, 'koran': 2502, 'arabic': 258, 'tout': 4591, 'applicant': 241, 'credential': 1018, 'raffle': 3603, 'noisy': 3032, 'demonstration': 1171, 'disruptive': 1285, 'booed': 482, 'brian': 530, 'kemp': 2462, 'crude': 1041, 'yearly': 4977, 'lyme': 2678, 'infectious': 2254, 'representation': 3774, 'neurological': 3003, 'dare': 1084, 'embrace': 1453, 'vawa': 4772, 'nearby': 2984, 'extreme': 1611, 'julin': 2423, 'referral': 3700, 'smell': 4161, 'notorious': 3058, 'mikal': 2859, 'watt': 4861, 'extremely': 1612, 'villanovas': 4802, 'actuary': 63, 'therell': 4528, 'cuban': 1049, 'meltdown': 2820, 'bubble': 557, 'predominantly': 3435, 'potshoot': 3415, 'strangle': 4315, 'mill': 2866, 'defy': 1150, 'forcommunist': 1773, 'fictional': 1693, 'son': 4193, 'labeling': 2519, 'boot': 487, 'jindals': 2403, 'gainrevenue': 1860, 'sewage': 4065, 'erie': 1521, 'confidential': 892, 'footing': 1768, 'cheetos': 725, 'luck': 2671, 'banana': 358, 'sort': 4198, 'webb': 4872, 'spew': 4226, 'teapot': 4470, 'headstone': 2041, 'discretion': 1269, 'context': 931, 'buyback': 594, 'brainwash': 514, 'instal': 2288, 'bird': 446, 'occidental': 3087, 'dire': 1249, 'impeachment': 2193, 'bet': 426, 'woodrow': 4945, 'kicker': 2478, 'carl': 641, 'dodging': 1309, 'kyl': 2514, 'preside': 3451, 'hurtle': 2157, 'auditor': 321, 'improper': 2205, 'prolife': 3516, 'marta': 2749, 'retention': 3819, 'infrastructural': 2262, 'renegotiate': 3758, 'denmark': 1173, 'vapor': 4769, 'renaissance': 3755, 'overtime': 3173, 'advocacy': 96, 'dodd': 1308, 'wednesday': 4877, 'abramoff': 18, 'upgrade': 4737, 'clothing': 797, 'doug': 1336, 'mckillips': 2797, 'deserve': 1197, 'gonzales': 1937, 'rauner': 3639, 'frustration': 1837, 'carpet': 648, 'subpar': 4347, 'producer': 3499, 'carnahan': 644, 'critz': 1031, 'dildo': 1241, 'extraordinary': 1610, 'democratically': 1167, 'doyles': 1345, 'diplomacy': 1247, 'dial': 1225, 'tone': 4573, 'flip': 1742, 'exclusive': 1566, 'cruzsaid': 1046, 'deeper': 1135, 'advertise': 91, 'rein': 3727, 'window': 4923, 'filipino': 1704, 'thehousebudget': 4523, 'msnbc': 2943, 'practically': 3421, 'movement': 2939, 'crosse': 1036, 'exit': 1577, 'extricate': 1615, 'gelbers': 1886, 'gunter': 1988, 'dukakis': 1376, 'saidas': 3928, 'atm': 307, 'surcharge': 4394, 'match': 2765, 'platinum': 3352, 'usda': 4750, 'restraint': 3813, 'bit': 453, 'actor': 60, 'dwayne': 1381, 'stating': 4280, 'theinsurance': 4524, 'fatal': 1654, 'sanger': 3945, 'vow': 4824, 'obamacares': 3078, 'emit': 1459, 'rutgers': 3918, 'rowan': 3899, 'hewent': 2063, 'isunder': 2369, 'cumulatively': 1052, 'pioneer': 3334, 'expectancy': 1584, 'engineer': 1487, 'membership': 2823, 'optional': 3133, 'remarkable': 3748, 'execute': 1569, 'malfeasance': 2708, 'movie': 2940, 'abstinence': 22, 'blunt': 463, 'insert': 2279, 'giant': 1907, 'philip': 3312, 'morris': 2926, 'blunts': 464, 'girlfriend': 1916, 'mock': 2904, 'ineligible': 2249, 'omalley': 3113, 'acknowledge': 48, 'selector': 4025, 'shun': 4112, 'matt': 2771, 'memo': 2824, 'byrne': 596, 'recidivism': 3665, 'silence': 4127, 'extortion': 1608, 'wood': 4944, 'joke': 2412, 'trial': 4641, 'photographedwith': 3320, 'harvey': 2028, 'renewal': 3761, 'abc': 4, 'tyson': 4679, 'corner': 965, 'logging': 2646, 'allay': 155, 'fear': 1665, 'retool': 3823, 'piracy': 3337, 'counterfeit': 993, 'mix': 2901, 'unwanted': 4735, 'cardiologist': 637, 'thor': 4539, 'coalition': 803, 'toxic': 4597, 'dept': 1191, 'partiers': 3214, 'concerned': 882, 'wiretappings': 4928, 'ruse': 3914, 'beside': 424, 'alice': 147, 'rivlin': 3868, 'stimulate': 4304, 'nikki': 3023, 'germany': 1902, 'dems': 1172, 'satellite': 3950, 'initiate': 2268, 'equality': 1514, 'maintain': 2700, 'wanted': 4837, 'sellwood': 4028, 'mainstream': 2699, 'beachs': 390, 'seemingly': 4020, 'endless': 1473, 'decimate': 1121, 'christine': 748, 'accepts': 30, 'reduces': 3695, 'mess': 2838, 'pardon': 3202, 'decorate': 1126, 'bb': 388, 'insurgent': 2303, 'dancing': 1079, 'wedlock': 4876, 'stone': 4308, 'exercise': 1574, 'someplace': 4188, 'cromnibus': 1032, 'derivative': 1193, 'fluoridation': 1753, 'jew': 2399, 'rooftop': 3889, 'hardware': 2023, 'britsare': 539, 'chopper': 741, 'neighbor': 2995, 'beyond': 430, 'condo': 886, 'brook': 542, 'contracted': 937, 'prioritize': 3476, 'translator': 4619, 'fetch': 1690, 'yr': 4990, 'dohertys': 1314, 'kansas': 2441, 'brilliant': 534, 'sakineh': 3931, 'mohammadi': 2910, 'ashtiani': 282, 'untrustworthy': 4734, 'tiller': 4553, 'cornell': 964, 'ups': 4739, 'roadway': 3871, 'safely': 3925, 'subjugation': 4344, 'americans': 185, 'nutritious': 3071, 'offering': 3097, 'disastrous': 1264, 'marti': 2750, 'astonishing': 303, 'transmit': 4620, 'birmingham': 447, 'cradle': 1009, 'amtraks': 194, 'acela': 45, 'hoosier': 2117, 'fit': 1729, 'humongous': 2149, 'nobodys': 3031, 'addict': 68, 'temporarily': 4487, 'keene': 2457, 'armored': 273, 'pumpkin': 3564, 'inner': 2274, 'indebtedness': 2228, 'designer': 1200, 'buffalo': 563, 'assertion': 293, 'surgeon': 4398, 'translate': 4618, 'afraid': 108, 'pope': 3387, 'francis': 1812, 'kingston': 2489, 'globalist': 1923, 'dickens': 1229, 'suction': 4363, 'entrapment': 1506, 'swimming': 4423, 'spa': 4208, 'patridge': 3240, 'fairly': 1634, 'breakfast': 523, 'doughnut': 1337, 'boyd': 503, 'bury': 584, 'formulate': 1789, 'peterson': 3304, 'defender': 1142, 'furniture': 1853, 'commutation': 851, 'clemency': 784, 'gillnets': 1911, 'inland': 2272, 'digital': 1239, 'calm': 605, 'asia': 283, 'bloated': 459, 'likens': 2617, 'predicament': 3433, 'maureen': 2774, 'dowd': 1339, 'column': 826, 'yorkers': 4982, 'teller': 4485, 'peace': 3257, 'darn': 1085, 'indicative': 2241, 'trait': 4612, 'jury': 2430, 'panasonic': 3198, 'relocation': 3741, 'brrag': 551, 'freshwater': 1832, 'caught': 671, 'counsel': 989, 'chrisabele': 744, 'linwood': 2626, 'holton': 2101, 'oust': 3153, 'houthi': 2136, 'yemen': 4978, 'apear': 229, 'addicted': 69, 'maher': 2692, 'indication': 2240, 'counselor': 991, 'topic': 4579, 'stephanopoulos': 4296, 'columnist': 827, 'roundtable': 3896, 'sea': 3999, 'invader': 2326, 'iphone': 2341, 'fdic': 1664, 'fernandez': 1687, 'huma': 2146, 'abedin': 6, 'brotherhood': 547, 'relies': 3737, 'abolition': 12, 'asleep': 287, 'complication': 868, 'er': 1517, 'taxation': 4460, 'lindsay': 2623, 'falk': 1638, 'redesigned': 3686, 'drainage': 1350, 'ditch': 1293, 'navigable': 2978, 'thus': 4549, 'syndicate': 4429, 'extort': 1607, 'ganleys': 1867, 'chore': 742, 'acquisition': 52, 'loyalty': 2669, 'oath': 3075, 'maxine': 2779, 'retract': 3824, 'rampant': 3616, 'excuse': 1568, 'boccieris': 471, 'heres': 2059, 'undeniable': 4689, 'revive': 3836, 'falter': 1641, 'terroristsfriends': 4503, 'viewisis': 4801, 'favorably': 1660, 'unfortunately': 4701, 'selection': 4024, 'rivera': 3867, 'spencer': 4222, 'tanker': 4448, 'thaw': 4520}\n"
          ],
          "name": "stdout"
        }
      ]
    },
    {
      "cell_type": "code",
      "metadata": {
        "colab": {
          "base_uri": "https://localhost:8080/"
        },
        "id": "fXetk9g48-YE",
        "outputId": "a6b81293-18e6-468c-a45c-44e23f74f860"
      },
      "source": [
        "# fit the training dataset on the NB classifier\n",
        "Naive = naive_bayes.MultinomialNB()\n",
        "Naive.fit(Train_X_Tfidf,Train_Y)\n",
        "# predict the labels on validation dataset\n",
        "predictions_NB = Naive.predict(Test_X_Tfidf)\n",
        "# Use accuracy_score function to get the accuracy\n",
        "print(\"Naive Bayes Accuracy Score -> \",accuracy_score(predictions_NB, Test_Y)*100)"
      ],
      "execution_count": 39,
      "outputs": [
        {
          "output_type": "stream",
          "text": [
            "Naive Bayes Accuracy Score ->  37.67178658043654\n"
          ],
          "name": "stdout"
        }
      ]
    },
    {
      "cell_type": "code",
      "metadata": {
        "colab": {
          "base_uri": "https://localhost:8080/"
        },
        "id": "WozykuZD9B3T",
        "outputId": "0b5a00e8-a4ec-438e-bbab-a556213f6e72"
      },
      "source": [
        "# Classifier - Algorithm - SVM\n",
        "# fit the training dataset on the classifier\n",
        "SVM = svm.SVC(C=1.0, kernel='linear', degree=3, gamma='auto')\n",
        "SVM.fit(Train_X_Tfidf,Train_Y)\n",
        "# predict the labels on validation dataset\n",
        "predictions_SVM = SVM.predict(Test_X_Tfidf)\n",
        "# Use accuracy_score function to get the accuracy\n",
        "print(\"SVM Accuracy Score -> \",accuracy_score(predictions_SVM, Test_Y)*100)"
      ],
      "execution_count": 40,
      "outputs": [
        {
          "output_type": "stream",
          "text": [
            "SVM Accuracy Score ->  40.54163298302345\n"
          ],
          "name": "stdout"
        }
      ]
    },
    {
      "cell_type": "code",
      "metadata": {
        "id": "IZ491Pao9JKU"
      },
      "source": [
        ""
      ],
      "execution_count": 40,
      "outputs": []
    }
  ]
}